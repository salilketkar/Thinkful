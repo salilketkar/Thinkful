{
 "cells": [
  {
   "cell_type": "code",
   "execution_count": 1,
   "metadata": {},
   "outputs": [
    {
     "name": "stdout",
     "output_type": "stream",
     "text": [
      "Success!\n"
     ]
    }
   ],
   "source": [
    "import scrapy\n",
    "from scrapy.crawler import CrawlerProcess\n",
    "\n",
    "\n",
    "class ESSpider(scrapy.Spider):\n",
    "    # Naming the spider is important if you are running more than one spider of\n",
    "    # this class simultaneously.\n",
    "    name = \"ESS\"\n",
    "    \n",
    "    # URL(s) to start with.\n",
    "    start_urls = [\n",
    "        'https://sandiego.craigslist.org/search/roo?max_price=1700',\n",
    "    ]\n",
    "\n",
    "    # Use XPath to parse the response we get.\n",
    "    def parse(self, response):\n",
    "            \n",
    "        # Iterate over every <article> element on the page.\n",
    "        for article in response.xpath('//li'):\n",
    "            for result in response.xpath('//p[@class=\"result-info\"]'):\n",
    "                title = result.xpath('a/text()').extract_first()\n",
    "                price = result.xpath('span[@class=\"result-meta\"]/span[@class=\"result-price\"]/text()').extract_first()\n",
    "                # Yield a dictionary with the values we want.\n",
    "                yield {\n",
    "                    'title': title,\n",
    "                    'price': price\n",
    "                }\n",
    "\n",
    "# Tell the script how to run the crawler by passing in settings.\n",
    "process = CrawlerProcess({\n",
    "    'FEED_FORMAT': 'json',         # Store data in JSON format.\n",
    "    'FEED_URI': 'firstpage.json',  # Name our storage file.\n",
    "    'LOG_ENABLED': False           # Turn off logging for now.\n",
    "})\n",
    "\n",
    "# Start the crawler with our spider.\n",
    "process.crawl(ESSpider)\n",
    "process.start()\n",
    "print('Success!')"
   ]
  },
  {
   "cell_type": "code",
   "execution_count": 2,
   "metadata": {},
   "outputs": [
    {
     "name": "stdout",
     "output_type": "stream",
     "text": [
      "(23520, 2)\n",
      "   price                                              title\n",
      "0   $800                  Large Room with Full Private Bath\n",
      "1    $50     /day! Huge private room for couple in UTC area\n",
      "2  $1000            Roommate wanted in North Park-UTIL INCL\n",
      "3   $900  1bed with private bath downtown Oside near bea...\n",
      "4   $715              Centrally Located Room in Great House\n"
     ]
    }
   ],
   "source": [
    "import pandas as pd\n",
    "\n",
    "Monty=pd.read_json('firstpage.json', orient='columns')\n",
    "print(Monty.shape)\n",
    "print(Monty.head())"
   ]
  },
  {
   "cell_type": "code",
   "execution_count": 7,
   "metadata": {},
   "outputs": [
    {
     "data": {
      "image/png": "[encoded data removed]",
      "text/plain": [
       "<Figure size 720x504 with 1 Axes>"
      ]
     },
     "metadata": {},
     "output_type": "display_data"
    }
   ],
   "source": [
    "import matplotlib.pyplot as plt\n",
    "%matplotlib inline\n",
    "\n",
    "plt.figure(figsize=(10,7))\n",
    "plt.hist(pd.value_counts(Monty['price']))\n",
    "plt.xlabel('Price')\n",
    "plt.ylabel('Count')\n",
    "plt.title('Distribution of Prices for Shared Rooms/Apts')\n",
    "plt.show()\n"
   ]
  },
  {
   "cell_type": "code",
   "execution_count": null,
   "metadata": {},
   "outputs": [],
   "source": []
  }
 ],
 "metadata": {
  "kernelspec": {
   "display_name": "Python 3",
   "language": "python",
   "name": "python3"
  },
  "language_info": {
   "codemirror_mode": {
    "name": "ipython",
    "version": 3
   },
   "file_extension": ".py",
   "mimetype": "text/x-python",
   "name": "python",
   "nbconvert_exporter": "python",
   "pygments_lexer": "ipython3",
   "version": "3.6.5"
  }
 },
 "nbformat": 4,
 "nbformat_minor": 2
}
