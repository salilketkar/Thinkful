{
 "cells": [
  {
   "cell_type": "code",
   "execution_count": 29,
   "metadata": {},
   "outputs": [],
   "source": [
    "import pandas as pd\n",
    "import numpy as np\n",
    "import spacy\n",
    "import matplotlib.pyplot as plt\n",
    "import seaborn as sns\n",
    "from nltk.corpus import gutenberg, stopwords\n",
    "from collections import Counter\n",
    "%matplotlib inline"
   ]
  },
  {
   "cell_type": "code",
   "execution_count": 100,
   "metadata": {},
   "outputs": [],
   "source": [
    "lines = \"The Lumberjack Song is the funniest Monty Python bit: I can't think of it without laughing. I would rather put strawberries on my ice cream for dessert, they have the best taste. The taste of caramel is a fantastic accompaniment to tasty mint ice cream.\"\n"
   ]
  },
  {
   "cell_type": "code",
   "execution_count": 101,
   "metadata": {},
   "outputs": [],
   "source": [
    "nlp = spacy.load('en')\n",
    "lines_doc = nlp(lines)"
   ]
  },
  {
   "cell_type": "code",
   "execution_count": 102,
   "metadata": {},
   "outputs": [
    {
     "data": {
      "text/plain": [
       "The Lumberjack Song is the funniest Monty Python bit: I can't think of it without laughing. I would rather put strawberries on my ice cream for dessert, they have the best taste. The taste of caramel is a fantastic accompaniment to tasty mint ice cream."
      ]
     },
     "execution_count": 102,
     "metadata": {},
     "output_type": "execute_result"
    }
   ],
   "source": [
    "lines_doc"
   ]
  },
  {
   "cell_type": "code",
   "execution_count": 104,
   "metadata": {},
   "outputs": [
    {
     "name": "stdout",
     "output_type": "stream",
     "text": [
      "[nltk_data] Downloading package punkt to\n",
      "[nltk_data]     /Users/salilketkar/nltk_data...\n",
      "[nltk_data]   Unzipping tokenizers/punkt.zip.\n",
      "[nltk_data] Downloading package gutenberg to\n",
      "[nltk_data]     /Users/salilketkar/nltk_data...\n",
      "[nltk_data]   Package gutenberg is already up-to-date!\n",
      "['[ Emma by Jane Austen 1816 ]', 'VOLUME I', 'CHAPTER I', 'Emma Woodhouse , handsome , clever , and rich , with a comfortable home and happy disposition , seemed to unite some of the best blessings of existence ; and had lived nearly twenty - one years in the world with very little to distress or vex her .']\n"
     ]
    }
   ],
   "source": [
    "import nltk\n",
    "from nltk.corpus import gutenberg\n",
    "nltk.download('punkt')\n",
    "nltk.download('gutenberg')\n",
    "import re\n",
    "from sklearn.model_selection import train_test_split\n",
    "\n",
    "emma = gutenberg.paras('austen-emma.txt')\n",
    "\n",
    "emma_paras = []\n",
    "for paragraph in emma:\n",
    "    para = paragraph[0]\n",
    "    para = [re.sub(r'--','',word) for word in para]\n",
    "    emma_paras.append(' '.join(para))\n",
    "\n",
    "print(emma_paras[0:4])"
   ]
  },
  {
   "cell_type": "code",
   "execution_count": 110,
   "metadata": {},
   "outputs": [
    {
     "name": "stdout",
     "output_type": "stream",
     "text": [
      "Number of features: 1948\n",
      "Original Sentence: A very few minutes more , however , completed the present trial .\n",
      "Tf_idf vector: {'minutes': 0.7127450310382584, 'present': 0.701423210857947}\n"
     ]
    }
   ],
   "source": [
    "from sklearn.feature_extraction.text import TfidfVectorizer\n",
    "\n",
    "X_train, X_test = train_test_split(emma_paras, test_size=0.4, random_state=0)\n",
    "\n",
    "vectorizer = TfidfVectorizer(max_df=0.5,\n",
    "                           min_df = 2,\n",
    "                           stop_words = 'english',\n",
    "                           lowercase=True,\n",
    "                           use_idf = True,\n",
    "                           norm=u'l2',\n",
    "                           smooth_idf=True)\n",
    "\n",
    "emma_paras_tfidf = vectorizer.fit_transform(emma_paras)\n",
    "print('Number of features: %d' % emma_paras_tfidf.get_shape()[1])\n",
    "\n",
    "X_train_tfidf, X_test_tfidf = train_test_split(emma_paras_tfidf, test_size=0.4, random_state=0)\n",
    "\n",
    "X_Train_tfidf_csr = X_train_tfidf.tocsr()\n",
    "\n",
    "n = X_Train_tfidf_csr.shape[0]\n",
    "\n",
    "tfidf_bypara = [{} for _ in range(0,n)]\n",
    "\n",
    "terms = vectorizer.get_feature_names()\n",
    "\n",
    "for i, j in zip(*X_Train_tfidf_csr.nonzero()):\n",
    "    tfidf_bypara[i][terms[j]] = X_Train_tfidf_csr[i,j]\n",
    "\n",
    "print('Original Sentence:', X_train[5])\n",
    "print('Tf_idf vector:', tfidf_bypara[5])"
   ]
  },
  {
   "cell_type": "code",
   "execution_count": 115,
   "metadata": {},
   "outputs": [
    {
     "name": "stdout",
     "output_type": "stream",
     "text": [
      "Percent variance captured by all components: 45.21633961691403\n",
      "Component 0\n",
      "\" Oh !\"    0.999289\n",
      "\" Oh !     0.999289\n",
      "\" Oh !     0.999289\n",
      "\" Oh !\"    0.999289\n",
      "\" Oh !     0.999289\n",
      "\" Oh !     0.999289\n",
      "\" Oh !     0.999289\n",
      "\" Oh !\"    0.999289\n",
      "\" Oh !     0.999289\n",
      "\" Oh !     0.999289\n",
      "Name: 0, dtype: float64\n",
      "Component 1\n",
      "\" You have made her too tall , Emma ,\" said Mr . Knightley .                                                                                                                0.635162\n",
      "\" You get upon delicate subjects , Emma ,\" said Mrs . Weston smiling ; \" remember that I am here . Mr .                                                                     0.593215\n",
      "\" I do not know what your opinion may be , Mrs . Weston ,\" said Mr . Knightley , \" of this great intimacy between Emma and Harriet Smith , but I think it a bad thing .\"    0.570563\n",
      "\" You are right , Mrs . Weston ,\" said Mr . Knightley warmly , \" Miss Fairfax is as capable as any of us of forming a just opinion of Mrs . Elton .                         0.558126\n",
      "\" There were misunderstandings between them , Emma ; he said so expressly .                                                                                                 0.528636\n",
      "Mr . Knightley might quarrel with her , but Emma could not quarrel with herself .                                                                                           0.527631\n",
      "\" Now ,\" said Emma , when they were fairly beyond the sweep gates , \" now Mr . Weston , do let me know what has happened .\"                                                 0.518737\n",
      "Emma found that it was not Mr . Weston ' s fault that the number of privy councillors was not yet larger .                                                                  0.511442\n",
      "\" In one respect , perhaps , Mr . Elton ' s manners are superior to Mr . Knightley ' s or Mr . Weston ' s .                                                                 0.507445\n",
      "\" I do not admire it ,\" said Mr . Knightley .                                                                                                                               0.500316\n",
      "Name: 1, dtype: float64\n",
      "Component 2\n",
      "CHAPTER I       0.998794\n",
      "CHAPTER V       0.998794\n",
      "CHAPTER X       0.998794\n",
      "CHAPTER I       0.998794\n",
      "CHAPTER I       0.998794\n",
      "CHAPTER X       0.998794\n",
      "CHAPTER V       0.998794\n",
      "CHAPTER V       0.998794\n",
      "CHAPTER X       0.998794\n",
      "CHAPTER XVII    0.997836\n",
      "Name: 2, dtype: float64\n",
      "Component 3\n",
      "\" Ah !      0.992903\n",
      "\" Ah !      0.992903\n",
      "But ah !    0.992903\n",
      "\" Ah !      0.992903\n",
      "\" Ah !      0.992903\n",
      "\" Ah !\"     0.992903\n",
      "\" Ah !      0.992903\n",
      "\" Ah !      0.992903\n",
      "\" Ah !      0.992903\n",
      "\" Ah !      0.992903\n",
      "Name: 3, dtype: float64\n",
      "Component 4\n",
      "\" There were misunderstandings between them , Emma ; he said so expressly .    0.650940\n",
      "Emma demurred .                                                                0.598267\n",
      "\" Are you well , my Emma ?\"                                                    0.598267\n",
      "Emma was silenced .                                                            0.586718\n",
      "At first it was downright dulness to Emma .                                    0.585743\n",
      "\" Emma , my dear Emma \"                                                        0.576749\n",
      "Emma could not resist .                                                        0.569635\n",
      "\" It is not now worth a regret ,\" said Emma .                                  0.561539\n",
      "\" For shame , Emma !                                                           0.549733\n",
      "\" I am ready ,\" said Emma , \" whenever I am wanted .\"                          0.517142\n",
      "Name: 4, dtype: float64\n"
     ]
    }
   ],
   "source": [
    "from sklearn.decomposition import TruncatedSVD\n",
    "from sklearn.pipeline import make_pipeline\n",
    "from sklearn.preprocessing import Normalizer\n",
    "\n",
    "svd = TruncatedSVD(130)\n",
    "lsa = make_pipeline(svd, Normalizer(copy=False))\n",
    "\n",
    "X_train_lsa = lsa.fit_transform(X_train_tfidf)\n",
    "\n",
    "variance_explained = svd.explained_variance_ratio_\n",
    "total_variance = variance_explained.sum()\n",
    "print('Percent variance captured by all components:', total_variance*100)\n",
    "\n",
    "paras_by_component = pd.DataFrame(X_train_lsa, index=X_train)\n",
    "for i in range(5):\n",
    "    print('Component {}'.format(i))\n",
    "    print(paras_by_component.loc[:,i].sort_values(ascending=False)[0:10])"
   ]
  },
  {
   "cell_type": "code",
   "execution_count": 117,
   "metadata": {},
   "outputs": [
    {
     "data": {
      "image/png": "[encoded data removed]",
      "text/plain": [
       "<Figure size 432x288 with 2 Axes>"
      ]
     },
     "metadata": {},
     "output_type": "display_data"
    },
    {
     "name": "stdout",
     "output_type": "stream",
     "text": [
      "Key\n",
      "0 That is _court_ .\n",
      "1 \" Yes , sir , I did indeed ; and I am very much obliged by your kind solicitude about me .\"\n",
      "2 \" How much his business engrosses him already is very plain from the circumstance of his forgetting to inquire for the book you recommended .\n",
      "3 To restrain him as much as might be , by her own manners , she was immediately preparing to speak with exquisite calmness and gravity of the weather and the night ; but scarcely had she begun , scarcely had they passed the sweep - gate and joined the other carriage , than she found her subject cut up  her hand seized  her attention demanded , and Mr . Elton actually making violent love to her : availing himself of the precious opportunity , declaring sentiments which must be already well known , hoping  fearing  adoring  ready to die if she refused him ; but flattering himself that his ardent attachment and unequalled love and unexampled passion could not fail of having some effect , and in short , very much resolved on being seriously accepted as soon as possible .\n",
      "4 Emma smiled and answered \" My visit was of use to the nervous part of her complaint , I hope ; but not even I can charm away a sore throat ; it is a most severe cold indeed .\n",
      "5 A very few minutes more , however , completed the present trial .\n",
      "6 \" I am delighted to hear you speak so stoutly on the subject ,\" replied Emma , smiling ; \" but you do not mean to deny that there was a time  and not very distant either  when you gave me reason to understand that you did care about him ?\"\n",
      "7 \" Very well ; and if he had intended to give her one , he would have told her so .\"\n",
      "8 Some laughed , and answered good - humouredly .\n",
      "9 \" There appeared such a perfectly good understanding among them all \" he began rather quickly , but checking himself , added , \" however , it is impossible for me to say on what terms they really were  how it might all be behind the scenes .\n"
     ]
    }
   ],
   "source": [
    "similarity = np.asarray(np.asmatrix(X_train_lsa) * np.asmatrix(X_train_lsa).T)\n",
    "\n",
    "sim_matrix = pd.DataFrame(similarity, index=X_train).iloc[0:10,0:10]\n",
    "\n",
    "ax = sns.heatmap(sim_matrix, yticklabels=range(10))\n",
    "plt.show()\n",
    "\n",
    "print('Key')\n",
    "for i in range(10):\n",
    "    print(i, sim_matrix.index[i])"
   ]
  },
  {
   "cell_type": "markdown",
   "metadata": {},
   "source": [
    "## Challenge 0"
   ]
  },
  {
   "cell_type": "code",
   "execution_count": 119,
   "metadata": {},
   "outputs": [
    {
     "name": "stdout",
     "output_type": "stream",
     "text": [
      "Percent variance captured by all components: 49.38420187181725\n",
      "Component 0\n",
      "\" Oh !     0.999919\n",
      "\" Oh !     0.999919\n",
      "\" Oh !     0.999919\n",
      "\" Oh !     0.999919\n",
      "\" Oh !\"    0.999919\n",
      "\" Oh !     0.999919\n",
      "\" Oh !     0.999919\n",
      "\" Oh !     0.999919\n",
      "\" Oh !     0.999919\n",
      "\" Oh !     0.999919\n",
      "Name: 0, dtype: float64\n",
      "Component 1\n",
      "\" Well , Mrs . Weston ,\" said Emma triumphantly when he left them , \" what do you say now to Mr . Knightley ' s marrying Jane Fairfax ?\"                                                                                                                                                                                                                                                                                                             0.615199\n",
      "After tea , Mr . and Mrs . Weston , and Mr . Elton sat down with Mr . Woodhouse to cards .                                                                                                                                                                                                                                                                                                                                                           0.602643\n",
      "Frank turned instantly to Emma , to claim her former promise ; and boasted himself an engaged man , which his father looked his most perfect approbation of  and it then appeared that Mrs . Weston was wanting _him_ to dance with Mrs . Elton himself , and that their business was to help to persuade him into it , which was done pretty soon . Mr . Weston and Mrs . Elton led the way , Mr . Frank Churchill and Miss Woodhouse followed .    0.565064\n",
      "\" Mr .                                                                                                                                                                                                                                                                                                                                                                                                                                               0.518447\n",
      "While she was gone , Mr . Knightley called , and sat some time with Mr . Woodhouse and Emma , till Mr . Woodhouse , who had previously made up his mind to walk out , was persuaded by his daughter not to defer it , and was induced by the entreaties of both , though against the scruples of his own civility , to leave Mr . Knightley for that purpose .                                                                                       0.513568\n",
      "Mr . Weston was musing .                                                                                                                                                                                                                                                                                                                                                                                                                             0.506095\n",
      "\" Mrs . Weston ' s manners ,\" said Emma , \" were always particularly good .                                                                                                                                                                                                                                                                                                                                                                          0.491282\n",
      "\" Why , to be sure ,\" said Mr . Woodhouse \" yes , certainly  I cannot deny that Mrs . Weston , poor Mrs . Weston , does come and see us pretty often  but then  she is always obliged to go away again .\"                                                                                                                                                                                                                                            0.487112\n",
      "\" I think , indeed ,\" said John Knightley pleasantly , \" that Mr . Weston has some little claim .                                                                                                                                                                                                                                                                                                                                                    0.487106\n",
      "\" It is Frank and Miss Fairfax ,\" said Mrs . Weston .                                                                                                                                                                                                                                                                                                                                                                                                0.485841\n",
      "Name: 1, dtype: float64\n",
      "Component 2\n",
      "\" Ah !     0.996974\n",
      "\" Ah !     0.996974\n",
      "\" Ah !     0.996974\n",
      "\" Ah !     0.996974\n",
      "\" Ah !     0.996974\n",
      "\" Ah !\"    0.996974\n",
      "\" Ah !     0.996974\n",
      "\" Ah !     0.996974\n",
      "\" Ah !     0.996974\n",
      "\" Ah !     0.996974\n",
      "Name: 2, dtype: float64\n",
      "Component 3\n",
      "\" Mr .                                                                                                                                                                                                                                                                                                                                                            0.632619\n",
      "After tea , Mr . and Mrs . Weston , and Mr . Elton sat down with Mr . Woodhouse to cards .                                                                                                                                                                                                                                                                        0.566639\n",
      "Mr . Knightley was thoughtful again .                                                                                                                                                                                                                                                                                                                             0.524706\n",
      "\" You are not vain , Mr . Knightley .                                                                                                                                                                                                                                                                                                                             0.505968\n",
      "Mr . Weston was musing .                                                                                                                                                                                                                                                                                                                                          0.500696\n",
      "Mr . Weston ' s own happiness was indisputable .                                                                                                                                                                                                                                                                                                                  0.451907\n",
      "Harriet , Mr . Elton , and Mr . Knightley , their own especial set , were the only persons invited to meet them ; the hours were to be early , as well as the numbers few ; Mr . Woodhouse ' s habits and inclination being consulted in every thing .                                                                                                            0.406883\n",
      "She meant to be very happy , in spite of the scene being laid at Mr . Cole ' s ; and without being able to forget that among the failings of Mr . Elton , even in the days of his favour , none had disturbed her more than his propensity to dine with Mr . Cole .                                                                                               0.406820\n",
      "While she was gone , Mr . Knightley called , and sat some time with Mr . Woodhouse and Emma , till Mr . Woodhouse , who had previously made up his mind to walk out , was persuaded by his daughter not to defer it , and was induced by the entreaties of both , though against the scruples of his own civility , to leave Mr . Knightley for that purpose .    0.391639\n",
      "\" Christmas weather ,\" observed Mr . Elton .                                                                                                                                                                                                                                                                                                                      0.391303\n",
      "Name: 3, dtype: float64\n",
      "Component 4\n",
      "\" Yes , do .\"                                                                   0.653016\n",
      "\" Yes , sometimes he can .\"                                                     0.653016\n",
      "\" Yes .                                                                         0.653016\n",
      "\" Yes I should , I am sure I should .                                           0.638781\n",
      "\" Yes , so I imagined .                                                         0.605366\n",
      "\" Yes  a good deal _nearer_ .\"                                                  0.564521\n",
      "\" Yes ; but we must not rest our claims on that distinction .                   0.555335\n",
      "\" Yes , our good Mrs . Elton .                                                  0.553288\n",
      "\" Yes , she would be , but that she thinks there will be another put - off .    0.538488\n",
      "\" Yes , very soon .                                                             0.534143\n",
      "Name: 4, dtype: float64\n"
     ]
    }
   ],
   "source": [
    "X_test_lsa = lsa.fit_transform(X_test_tfidf)\n",
    "\n",
    "variance_explained = svd.explained_variance_ratio_\n",
    "total_variance = variance_explained.sum()\n",
    "print('Percent variance captured by all components:', total_variance*100)\n",
    "\n",
    "paras_by_component = pd.DataFrame(X_test_lsa, index=X_test)\n",
    "for i in range(5):\n",
    "    print('Component {}'.format(i))\n",
    "    print(paras_by_component.loc[:,i].sort_values(ascending=False)[0:10])"
   ]
  },
  {
   "cell_type": "markdown",
   "metadata": {},
   "source": [
    "The test model does not identify similar components than the train model"
   ]
  },
  {
   "cell_type": "markdown",
   "metadata": {},
   "source": [
    "## Challenge 1"
   ]
  },
  {
   "cell_type": "markdown",
   "metadata": {},
   "source": [
    "Go back up to the code where we originally translated the text from words to numbers. There are a lot of decision-points here, from the stop list to the thresholds for inclusion and exclusion, and many others as well. We also didn't integrate spaCy, and so don't have info on lemmas or Named Entities. Change things up a few times and see how that affects the results of the LSA. Write up your observations and share them with your mentor."
   ]
  },
  {
   "cell_type": "code",
   "execution_count": 120,
   "metadata": {},
   "outputs": [
    {
     "name": "stdout",
     "output_type": "stream",
     "text": [
      "Number of features: 1437\n",
      "Original Sentence: A very few minutes more , however , completed the present trial .\n",
      "Tf_idf vector: {'minutes': 0.7127450310382584, 'present': 0.701423210857947}\n"
     ]
    }
   ],
   "source": [
    "X_train, X_test = train_test_split(emma_paras, test_size=0.4, random_state=0)\n",
    "\n",
    "vectorizer = TfidfVectorizer(max_df=0.33,\n",
    "                           min_df = 3,\n",
    "                           stop_words = 'english',\n",
    "                           lowercase=False,\n",
    "                           use_idf = True,\n",
    "                           norm=u'l2',\n",
    "                           smooth_idf=True)\n",
    "\n",
    "emma_paras_tfidf = vectorizer.fit_transform(emma_paras)\n",
    "print('Number of features: %d' % emma_paras_tfidf.get_shape()[1])\n",
    "\n",
    "X_train_tfidf, X_test_tfidf = train_test_split(emma_paras_tfidf, test_size=0.4, random_state=0)\n",
    "\n",
    "X_Train_tfidf_csr = X_train_tfidf.tocsr()\n",
    "\n",
    "n = X_Train_tfidf_csr.shape[0]\n",
    "\n",
    "tfidf_bypara = [{} for _ in range(0,n)]\n",
    "\n",
    "terms = vectorizer.get_feature_names()\n",
    "\n",
    "for i, j in zip(*X_Train_tfidf_csr.nonzero()):\n",
    "    tfidf_bypara[i][terms[j]] = X_Train_tfidf_csr[i,j]\n",
    "\n",
    "print('Original Sentence:', X_train[5])\n",
    "print('Tf_idf vector:', tfidf_bypara[5])"
   ]
  },
  {
   "cell_type": "code",
   "execution_count": 130,
   "metadata": {},
   "outputs": [
    {
     "name": "stdout",
     "output_type": "stream",
     "text": [
      "Number of features: 4103\n",
      "Original Sentence: A very few minutes more , however , completed the present trial .\n",
      "Tf_idf vector: {'trial': 0.1821170903721988, 'completed': 0.1821170903721988, 'minutes': 0.11991553156067196, 'present': 0.11793656908569662, 'however': 0.10714219195096059, 'more': 0.08236932579933674, 'few': 0.10604912955905095, 'very': 0.060192016074104904, 'the': 0.04216105522578056}\n"
     ]
    }
   ],
   "source": [
    "X_train, X_test = train_test_split(emma_paras, test_size=0.4, random_state=0)\n",
    "\n",
    "vectorizer = TfidfVectorizer(max_df=0.75,\n",
    "                           min_df = 1,\n",
    "                           stop_words = None,\n",
    "                           lowercase=True,\n",
    "                           use_idf = True,\n",
    "                           norm=u'l1',\n",
    "                           smooth_idf=False)\n",
    "\n",
    "emma_paras_tfidf = vectorizer.fit_transform(emma_paras)\n",
    "print('Number of features: %d' % emma_paras_tfidf.get_shape()[1])\n",
    "\n",
    "X_train_tfidf, X_test_tfidf = train_test_split(emma_paras_tfidf, test_size=0.4, random_state=0)\n",
    "\n",
    "X_Train_tfidf_csr = X_train_tfidf.tocsr()\n",
    "\n",
    "n = X_Train_tfidf_csr.shape[0]\n",
    "\n",
    "tfidf_bypara = [{} for _ in range(0,n)]\n",
    "\n",
    "terms = vectorizer.get_feature_names()\n",
    "\n",
    "for i, j in zip(*X_Train_tfidf_csr.nonzero()):\n",
    "    tfidf_bypara[i][terms[j]] = X_Train_tfidf_csr[i,j]\n",
    "\n",
    "print('Original Sentence:', X_train[5])\n",
    "print('Tf_idf vector:', tfidf_bypara[5])"
   ]
  },
  {
   "cell_type": "code",
   "execution_count": 131,
   "metadata": {},
   "outputs": [
    {
     "name": "stdout",
     "output_type": "stream",
     "text": [
      "Number of features: 2178\n",
      "Original Sentence: A very few minutes more , however , completed the present trial .\n",
      "Tf_idf vector: {'minutes': 0.4769984658415389, 'present': 0.4691265742505517, 'however': 0.4261888391133901, 'more': 0.3276476493689768, 'few': 0.42184086952826444, 'very': 0.23943103073958805, 'the': 0.16770770557592504}\n"
     ]
    }
   ],
   "source": [
    "X_train, X_test = train_test_split(emma_paras, test_size=0.4, random_state=0)\n",
    "\n",
    "vectorizer = TfidfVectorizer(max_df=0.5,\n",
    "                           min_df = 2,\n",
    "                           stop_words = None,\n",
    "                           lowercase=True,\n",
    "                           use_idf = True,\n",
    "                           norm=u'l2',\n",
    "                           smooth_idf=False)\n",
    "\n",
    "emma_paras_tfidf = vectorizer.fit_transform(emma_paras)\n",
    "print('Number of features: %d' % emma_paras_tfidf.get_shape()[1])\n",
    "\n",
    "X_train_tfidf, X_test_tfidf = train_test_split(emma_paras_tfidf, test_size=0.4, random_state=0)\n",
    "\n",
    "X_Train_tfidf_csr = X_train_tfidf.tocsr()\n",
    "\n",
    "n = X_Train_tfidf_csr.shape[0]\n",
    "\n",
    "tfidf_bypara = [{} for _ in range(0,n)]\n",
    "\n",
    "terms = vectorizer.get_feature_names()\n",
    "\n",
    "for i, j in zip(*X_Train_tfidf_csr.nonzero()):\n",
    "    tfidf_bypara[i][terms[j]] = X_Train_tfidf_csr[i,j]\n",
    "\n",
    "print('Original Sentence:', X_train[5])\n",
    "print('Tf_idf vector:', tfidf_bypara[5])"
   ]
  },
  {
   "cell_type": "code",
   "execution_count": null,
   "metadata": {},
   "outputs": [],
   "source": []
  }
 ],
 "metadata": {
  "kernelspec": {
   "display_name": "Python 3",
   "language": "python",
   "name": "python3"
  },
  "language_info": {
   "codemirror_mode": {
    "name": "ipython",
    "version": 3
   },
   "file_extension": ".py",
   "mimetype": "text/x-python",
   "name": "python",
   "nbconvert_exporter": "python",
   "pygments_lexer": "ipython3",
   "version": "3.6.5"
  }
 },
 "nbformat": 4,
 "nbformat_minor": 2
}
