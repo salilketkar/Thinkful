{
 "cells": [
  {
   "cell_type": "code",
   "execution_count": 1,
   "metadata": {},
   "outputs": [],
   "source": [
    "import pandas as pd\n",
    "import numpy as np\n",
    "import scipy\n",
    "import matplotlib.pyplot as plt\n",
    "%matplotlib inline"
   ]
  },
  {
   "cell_type": "code",
   "execution_count": 29,
   "metadata": {},
   "outputs": [
    {
     "name": "stdout",
     "output_type": "stream",
     "text": [
      "2.18\n",
      "5.09\n",
      "1.1864231959971114\n",
      "1.5817395487247576\n"
     ]
    },
    {
     "data": {
      "image/png": "[encoded data removed]",
      "text/plain": [
       "<Figure size 432x288 with 1 Axes>"
      ]
     },
     "metadata": {},
     "output_type": "display_data"
    }
   ],
   "source": [
    "#create population variables\n",
    "pop1 = np.random.binomial(10, 0.2, 10000)\n",
    "pop2 = np.random.binomial(10, 0.5, 10000)\n",
    "#selecting samples from each population\n",
    "sample1 = np.random.choice(pop1, 100, replace = True)\n",
    "sample2 = np.random.choice(pop2, 100, replace = True)\n",
    "#calculating mean and standard deviation\n",
    "print(np.mean(sample1))\n",
    "print(np.mean(sample2))\n",
    "print(np.std(sample1))\n",
    "print(np.std(sample2))\n",
    "\n",
    "plt.hist(sample1, alpha = 0.5, label = 'sample1')\n",
    "plt.hist(sample2, alpha = 0.5, label = 'sample2')\n",
    "plt.legend(loc = 'center')\n",
    "plt.show()\n",
    "\n"
   ]
  },
  {
   "cell_type": "code",
   "execution_count": 30,
   "metadata": {},
   "outputs": [
    {
     "name": "stdout",
     "output_type": "stream",
     "text": [
      "2.056\n",
      "5.012\n",
      "1.2817425638559405\n",
      "1.5817256399262167\n"
     ]
    },
    {
     "data": {
      "image/png": "[encoded data removed]",
      "text/plain": [
       "<Figure size 432x288 with 1 Axes>"
      ]
     },
     "metadata": {},
     "output_type": "display_data"
    }
   ],
   "source": [
    "'''increasing the size of the population from 10 to 1000 will result in the mean and std reflecting the mean and std\n",
    "of the population.  The distributions of the samples will start to look more normal.'''\n",
    "\n",
    "#create population variables\n",
    "pop1 = np.random.binomial(10, 0.2, 10000)\n",
    "pop2 = np.random.binomial(10, 0.5, 10000)\n",
    "#selecting samples from each population, increased sample to 1000\n",
    "sample1 = np.random.choice(pop1, 1000, replace = True)\n",
    "sample2 = np.random.choice(pop2, 1000, replace = True)\n",
    "#calculating mean and standard deviation\n",
    "print(np.mean(sample1))\n",
    "print(np.mean(sample2))\n",
    "print(np.std(sample1))\n",
    "print(np.std(sample2))\n",
    "\n",
    "plt.hist(sample1, alpha = 0.5, label = 'sample1')\n",
    "plt.hist(sample2, alpha = 0.5, label = 'sample2')\n",
    "plt.legend(loc = 'center')\n",
    "plt.show()"
   ]
  },
  {
   "cell_type": "code",
   "execution_count": 35,
   "metadata": {},
   "outputs": [
    {
     "name": "stdout",
     "output_type": "stream",
     "text": [
      "2.989\n",
      "5.032\n",
      "1.3960225642875548\n",
      "1.5921607958997108\n"
     ]
    },
    {
     "data": {
      "image/png": "[encoded data removed]",
      "text/plain": [
       "<Figure size 432x288 with 1 Axes>"
      ]
     },
     "metadata": {},
     "output_type": "display_data"
    },
    {
     "name": "stdout",
     "output_type": "stream",
     "text": [
      "Ttest_indResult(statistic=30.494767801807704, pvalue=1.5088589178755094e-167)\n"
     ]
    }
   ],
   "source": [
    "'''pop1 will slowly start to look like a normal distribution after increasing p and will overlap with pop2\n",
    "more closely.  Once p=0.4 it will get even closer to pop2.  The t-value will get smaller which indicates the two\n",
    "samples are more related'''\n",
    "\n",
    "#create population variables, p = 0.3\n",
    "pop1 = np.random.binomial(10, 0.3, 10000)\n",
    "pop2 = np.random.binomial(10, 0.5, 10000)\n",
    "#selecting samples from each population\n",
    "sample1 = np.random.choice(pop1, 1000, replace = True)\n",
    "sample2 = np.random.choice(pop2, 1000, replace = True)\n",
    "#calculating mean and standard deviation\n",
    "print(np.mean(sample1))\n",
    "print(np.mean(sample2))\n",
    "print(np.std(sample1))\n",
    "print(np.std(sample2))\n",
    "\n",
    "plt.hist(sample1, alpha = 0.5, label = 'sample1')\n",
    "plt.hist(sample2, alpha = 0.5, label = 'sample2')\n",
    "plt.legend(loc = 'center')\n",
    "plt.show()\n",
    "\n",
    "from scipy.stats import ttest_ind\n",
    "print(ttest_ind(sample2, sample1, equal_var=False))"
   ]
  },
  {
   "cell_type": "code",
   "execution_count": 36,
   "metadata": {},
   "outputs": [
    {
     "name": "stdout",
     "output_type": "stream",
     "text": [
      "3.971\n",
      "5.042\n",
      "1.5931600672876536\n",
      "1.6297963062910654\n"
     ]
    },
    {
     "data": {
      "image/png": "[encoded data removed]",
      "text/plain": [
       "<Figure size 432x288 with 1 Axes>"
      ]
     },
     "metadata": {},
     "output_type": "display_data"
    },
    {
     "name": "stdout",
     "output_type": "stream",
     "text": [
      "Ttest_indResult(statistic=14.852676741699781, pvalue=2.058937497886218e-47)\n"
     ]
    }
   ],
   "source": [
    "#create population variables, p = 0.4\n",
    "pop1 = np.random.binomial(10, 0.4, 10000)\n",
    "pop2 = np.random.binomial(10, 0.5, 10000)\n",
    "#selecting samples from each population\n",
    "sample1 = np.random.choice(pop1, 1000, replace = True)\n",
    "sample2 = np.random.choice(pop2, 1000, replace = True)\n",
    "#calculating mean and standard deviation\n",
    "print(np.mean(sample1))\n",
    "print(np.mean(sample2))\n",
    "print(np.std(sample1))\n",
    "print(np.std(sample2))\n",
    "\n",
    "plt.hist(sample1, alpha = 0.5, label = 'sample1')\n",
    "plt.hist(sample2, alpha = 0.5, label = 'sample2')\n",
    "plt.legend(loc = 'center')\n",
    "plt.show()\n",
    "\n",
    "from scipy.stats import ttest_ind\n",
    "print(ttest_ind(sample2, sample1, equal_var=False))"
   ]
  },
  {
   "cell_type": "code",
   "execution_count": 32,
   "metadata": {},
   "outputs": [
    {
     "name": "stdout",
     "output_type": "stream",
     "text": [
      "1.261\n",
      "1.438\n",
      "0.6579354071639555\n",
      "0.9508711794980433\n"
     ]
    },
    {
     "data": {
      "image/png": "[encoded data removed]",
      "text/plain": [
       "<Figure size 432x288 with 1 Axes>"
      ]
     },
     "metadata": {},
     "output_type": "display_data"
    },
    {
     "name": "stdout",
     "output_type": "stream",
     "text": [
      "Ttest_indResult(statistic=4.838208971445413, pvalue=1.4233098254849498e-06)\n"
     ]
    }
   ],
   "source": [
    "#changing distribution type to logseries will result in a graph that resembles a logarithmic distribution\n",
    "\n",
    "#create population variables\n",
    "pop1 = np.random.logseries(0.4, 10000)\n",
    "pop2 = np.random.logseries(0.5, 10000)\n",
    "#selecting samples from each population\n",
    "sample1 = np.random.choice(pop1, 1000, replace = True)\n",
    "sample2 = np.random.choice(pop2, 1000, replace = True)\n",
    "#calculating mean and standard deviation\n",
    "print(np.mean(sample1))\n",
    "print(np.mean(sample2))\n",
    "print(np.std(sample1))\n",
    "print(np.std(sample2))\n",
    "\n",
    "plt.hist(sample1, alpha = 0.5, label = 'sample1')\n",
    "plt.hist(sample2, alpha = 0.5, label = 'sample2')\n",
    "plt.legend(loc = 'center')\n",
    "plt.show()\n",
    "\n",
    "from scipy.stats import ttest_ind\n",
    "print(ttest_ind(sample2, sample1, equal_var=False))"
   ]
  },
  {
   "cell_type": "code",
   "execution_count": null,
   "metadata": {},
   "outputs": [],
   "source": []
  }
 ],
 "metadata": {
  "kernelspec": {
   "display_name": "Python 3",
   "language": "python",
   "name": "python3"
  },
  "language_info": {
   "codemirror_mode": {
    "name": "ipython",
    "version": 3
   },
   "file_extension": ".py",
   "mimetype": "text/x-python",
   "name": "python",
   "nbconvert_exporter": "python",
   "pygments_lexer": "ipython3",
   "version": "3.7.0"
  }
 },
 "nbformat": 4,
 "nbformat_minor": 2
}
