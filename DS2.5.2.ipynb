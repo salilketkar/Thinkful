{
 "cells": [
  {
   "cell_type": "code",
   "execution_count": 623,
   "metadata": {},
   "outputs": [],
   "source": [
    "import pandas as pd\n",
    "import matplotlib.pyplot as plt\n",
    "import numpy as np\n",
    "from sklearn import linear_model, datasets\n",
    "from IPython.display import display\n",
    "import seaborn as sns\n",
    "%matplotlib inline\n",
    "#pd.options.display.float_format = '{.3}'.format\n",
    "\n",
    "import warnings\n",
    "warnings.filterwarnings(action='ignore',module='scipy',message='^internal gelsd')"
   ]
  },
  {
   "cell_type": "code",
   "execution_count": 624,
   "metadata": {},
   "outputs": [],
   "source": [
    "crime = pd.read_csv('https://raw.githubusercontent.com/Thinkful-Ed/data-201-resources/master/New_York_offenses/NEW_YORK-Offenses_Known_to_Law_Enforcement_by_City_2013%20-%2013tbl8ny.csv',header=None)\n",
    "crime.columns = ['city','population','violent_crime','murder_manslaughter','rape1','rape2','robbery','agg_assault','property_crime','burglary','larceny','motor_theft','arson']\n"
   ]
  },
  {
   "cell_type": "code",
   "execution_count": 625,
   "metadata": {},
   "outputs": [
    {
     "data": {
      "text/html": [
       "<div>\n",
       "<style scoped>\n",
       "    .dataframe tbody tr th:only-of-type {\n",
       "        vertical-align: middle;\n",
       "    }\n",
       "\n",
       "    .dataframe tbody tr th {\n",
       "        vertical-align: top;\n",
       "    }\n",
       "\n",
       "    .dataframe thead th {\n",
       "        text-align: right;\n",
       "    }\n",
       "</style>\n",
       "<table border=\"1\" class=\"dataframe\">\n",
       "  <thead>\n",
       "    <tr style=\"text-align: right;\">\n",
       "      <th></th>\n",
       "      <th>city</th>\n",
       "      <th>population</th>\n",
       "      <th>violent_crime</th>\n",
       "      <th>murder_manslaughter</th>\n",
       "      <th>rape2</th>\n",
       "      <th>robbery</th>\n",
       "      <th>agg_assault</th>\n",
       "      <th>property_crime</th>\n",
       "      <th>burglary</th>\n",
       "      <th>larceny</th>\n",
       "      <th>motor_theft</th>\n",
       "      <th>arson</th>\n",
       "    </tr>\n",
       "  </thead>\n",
       "  <tbody>\n",
       "    <tr>\n",
       "      <th>0</th>\n",
       "      <td>Adams Village</td>\n",
       "      <td>1,861</td>\n",
       "      <td>0</td>\n",
       "      <td>0</td>\n",
       "      <td>0</td>\n",
       "      <td>0</td>\n",
       "      <td>0</td>\n",
       "      <td>12</td>\n",
       "      <td>2</td>\n",
       "      <td>10</td>\n",
       "      <td>0</td>\n",
       "      <td>0</td>\n",
       "    </tr>\n",
       "    <tr>\n",
       "      <th>1</th>\n",
       "      <td>Addison Town and Village</td>\n",
       "      <td>2,577</td>\n",
       "      <td>3</td>\n",
       "      <td>0</td>\n",
       "      <td>0</td>\n",
       "      <td>0</td>\n",
       "      <td>3</td>\n",
       "      <td>24</td>\n",
       "      <td>3</td>\n",
       "      <td>20</td>\n",
       "      <td>1</td>\n",
       "      <td>0</td>\n",
       "    </tr>\n",
       "    <tr>\n",
       "      <th>2</th>\n",
       "      <td>Akron Village</td>\n",
       "      <td>2,846</td>\n",
       "      <td>3</td>\n",
       "      <td>0</td>\n",
       "      <td>0</td>\n",
       "      <td>0</td>\n",
       "      <td>3</td>\n",
       "      <td>16</td>\n",
       "      <td>1</td>\n",
       "      <td>15</td>\n",
       "      <td>0</td>\n",
       "      <td>0</td>\n",
       "    </tr>\n",
       "    <tr>\n",
       "      <th>3</th>\n",
       "      <td>Albany</td>\n",
       "      <td>97,956</td>\n",
       "      <td>791</td>\n",
       "      <td>8</td>\n",
       "      <td>30</td>\n",
       "      <td>227</td>\n",
       "      <td>526</td>\n",
       "      <td>4,090</td>\n",
       "      <td>705</td>\n",
       "      <td>3,243</td>\n",
       "      <td>142</td>\n",
       "      <td>NaN</td>\n",
       "    </tr>\n",
       "    <tr>\n",
       "      <th>4</th>\n",
       "      <td>Albion Village</td>\n",
       "      <td>6,388</td>\n",
       "      <td>23</td>\n",
       "      <td>0</td>\n",
       "      <td>3</td>\n",
       "      <td>4</td>\n",
       "      <td>16</td>\n",
       "      <td>223</td>\n",
       "      <td>53</td>\n",
       "      <td>165</td>\n",
       "      <td>5</td>\n",
       "      <td>NaN</td>\n",
       "    </tr>\n",
       "  </tbody>\n",
       "</table>\n",
       "</div>"
      ],
      "text/plain": [
       "                       city population violent_crime murder_manslaughter  \\\n",
       "0             Adams Village      1,861             0                   0   \n",
       "1  Addison Town and Village      2,577             3                   0   \n",
       "2             Akron Village      2,846             3                   0   \n",
       "3                    Albany     97,956           791                   8   \n",
       "4            Albion Village      6,388            23                   0   \n",
       "\n",
       "  rape2 robbery agg_assault property_crime burglary larceny motor_theft arson  \n",
       "0     0       0           0             12        2      10           0     0  \n",
       "1     0       0           3             24        3      20           1     0  \n",
       "2     0       0           3             16        1      15           0     0  \n",
       "3    30     227         526          4,090      705   3,243         142   NaN  \n",
       "4     3       4          16            223       53     165           5   NaN  "
      ]
     },
     "execution_count": 625,
     "metadata": {},
     "output_type": "execute_result"
    }
   ],
   "source": [
    "# data cleaning\n",
    "\n",
    "crime.drop(crime.index[[0,1,2,3,4,353,354,355]],inplace=True)\n",
    "crime = crime.drop(['rape1'],axis=1)\n",
    "crime = crime.reset_index(drop=True)\n",
    "crime.head()"
   ]
  },
  {
   "cell_type": "code",
   "execution_count": 626,
   "metadata": {},
   "outputs": [],
   "source": [
    "crime['arson'] = crime['arson'].fillna(0)\n",
    "\n",
    "crime['population'] = crime['population'].apply(lambda x: str(x).replace(',',''))\n",
    "\n",
    "crime['motor_theft'] = crime['motor_theft'].apply(lambda x: str(x).replace(',',''))\n",
    "crime['robbery'] = crime['robbery'].apply(lambda x: str(x).replace(',',''))\n",
    "crime['burglary'] = crime['burglary'].apply(lambda x: str(x).replace(',',''))\n",
    "crime['property_crime'] = crime['property_crime'].apply(lambda x: str(x).replace(',',''))\n",
    "crime['larceny'] = crime['larceny'].apply(lambda x: str(x).replace(',',''))\n",
    "crime['violent_crime'] = crime['violent_crime'].apply(lambda x: str(x).replace(',',''))\n",
    "\n",
    "crime['robbery1'] = crime['robbery'].apply(lambda x: (int(x) ** (1/4)))\n",
    "crime['population1'] = crime['population'].apply(lambda x: (int(x) ** (1/3)))\n",
    "crime = crime[crime['city'] != 'New York']"
   ]
  },
  {
   "cell_type": "code",
   "execution_count": 627,
   "metadata": {},
   "outputs": [],
   "source": [
    "crime[['property_crime','population1','motor_theft','robbery1']]=crime[['property_crime','population1','motor_theft','robbery1']].apply(pd.to_numeric)\n",
    "\n"
   ]
  },
  {
   "cell_type": "code",
   "execution_count": 628,
   "metadata": {},
   "outputs": [
    {
     "name": "stdout",
     "output_type": "stream",
     "text": [
      "Coefficients: \n",
      " [[19.51205195 12.30862728 82.31576463]]\n",
      "Intercept: \n",
      " [-289.93815662]\n",
      "R-squared: 0.9385756201367176\n"
     ]
    }
   ],
   "source": [
    "x = crime[['population1','motor_theft','robbery1']]\n",
    "y = crime[['property_crime']].values.reshape(-1,1)\n",
    "          \n",
    "regr = linear_model.LinearRegression()\n",
    "\n",
    "regr.fit(x,y)\n",
    "\n",
    "print('Coefficients: \\n', regr.coef_)\n",
    "print('Intercept: \\n', regr.intercept_)\n",
    "print('R-squared:',regr.score(x, y))"
   ]
  },
  {
   "cell_type": "code",
   "execution_count": 629,
   "metadata": {},
   "outputs": [],
   "source": [
    "#predicting y values\n",
    "y_pred = regr.predict(x).ravel()"
   ]
  },
  {
   "cell_type": "code",
   "execution_count": 630,
   "metadata": {},
   "outputs": [
    {
     "data": {
      "image/png": "[encoded data removed]",
      "text/plain": [
       "<Figure size 432x288 with 1 Axes>"
      ]
     },
     "metadata": {},
     "output_type": "display_data"
    }
   ],
   "source": [
    "##multivariate normality\n",
    "actual = crime['property_crime']\n",
    "\n",
    "residual = actual.astype(float) - y_pred.astype(float)\n",
    "\n",
    "plt.hist(residual,bins=10)\n",
    "plt.title('Residual counts')\n",
    "plt.show()"
   ]
  },
  {
   "cell_type": "code",
   "execution_count": 631,
   "metadata": {},
   "outputs": [
    {
     "data": {
      "image/png": "[encoded data removed]",
      "text/plain": [
       "<Figure size 432x288 with 1 Axes>"
      ]
     },
     "metadata": {},
     "output_type": "display_data"
    }
   ],
   "source": [
    "# homoscedasticity\n",
    "\n",
    "plt.scatter(y_pred, residual)\n",
    "plt.xlabel('Predicted')\n",
    "plt.ylabel('Residual')\n",
    "plt.axhline(y=0)\n",
    "plt.show()"
   ]
  },
  {
   "cell_type": "code",
   "execution_count": 632,
   "metadata": {},
   "outputs": [
    {
     "data": {
      "text/html": [
       "<div>\n",
       "<style scoped>\n",
       "    .dataframe tbody tr th:only-of-type {\n",
       "        vertical-align: middle;\n",
       "    }\n",
       "\n",
       "    .dataframe tbody tr th {\n",
       "        vertical-align: top;\n",
       "    }\n",
       "\n",
       "    .dataframe thead th {\n",
       "        text-align: right;\n",
       "    }\n",
       "</style>\n",
       "<table border=\"1\" class=\"dataframe\">\n",
       "  <thead>\n",
       "    <tr style=\"text-align: right;\">\n",
       "      <th></th>\n",
       "      <th>population1</th>\n",
       "      <th>motor_theft</th>\n",
       "      <th>robbery1</th>\n",
       "    </tr>\n",
       "  </thead>\n",
       "  <tbody>\n",
       "    <tr>\n",
       "      <th>population1</th>\n",
       "      <td>1.000000</td>\n",
       "      <td>0.560641</td>\n",
       "      <td>0.818622</td>\n",
       "    </tr>\n",
       "    <tr>\n",
       "      <th>motor_theft</th>\n",
       "      <td>0.560641</td>\n",
       "      <td>1.000000</td>\n",
       "      <td>0.588737</td>\n",
       "    </tr>\n",
       "    <tr>\n",
       "      <th>robbery1</th>\n",
       "      <td>0.818622</td>\n",
       "      <td>0.588737</td>\n",
       "      <td>1.000000</td>\n",
       "    </tr>\n",
       "  </tbody>\n",
       "</table>\n",
       "</div>"
      ],
      "text/plain": [
       "             population1  motor_theft  robbery1\n",
       "population1     1.000000     0.560641  0.818622\n",
       "motor_theft     0.560641     1.000000  0.588737\n",
       "robbery1        0.818622     0.588737  1.000000"
      ]
     },
     "metadata": {},
     "output_type": "display_data"
    }
   ],
   "source": [
    "correlation_matrix = x.corr()\n",
    "display(correlation_matrix)"
   ]
  },
  {
   "cell_type": "code",
   "execution_count": 633,
   "metadata": {},
   "outputs": [
    {
     "data": {
      "text/plain": [
       "Intercept       1.601142e-10\n",
       "population1     2.703898e-12\n",
       "motor_theft    4.109257e-154\n",
       "robbery1        9.660132e-04\n",
       "dtype: float64"
      ]
     },
     "execution_count": 633,
     "metadata": {},
     "output_type": "execute_result"
    }
   ],
   "source": [
    "import statsmodels.formula.api as smf\n",
    "\n",
    "lm = smf.ols(formula='property_crime ~ population1 + motor_theft + robbery1', data=crime).fit()\n",
    "\n",
    "lm.pvalues"
   ]
  },
  {
   "cell_type": "code",
   "execution_count": 634,
   "metadata": {},
   "outputs": [
    {
     "data": {
      "text/plain": [
       "Intercept     -289.938157\n",
       "population1     19.512052\n",
       "motor_theft     12.308627\n",
       "robbery1        82.315765\n",
       "dtype: float64"
      ]
     },
     "execution_count": 634,
     "metadata": {},
     "output_type": "execute_result"
    }
   ],
   "source": [
    "lm.params"
   ]
  },
  {
   "cell_type": "code",
   "execution_count": 635,
   "metadata": {},
   "outputs": [
    {
     "data": {
      "text/plain": [
       "0.9385756201367176"
      ]
     },
     "execution_count": 635,
     "metadata": {},
     "output_type": "execute_result"
    }
   ],
   "source": [
    "lm.rsquared"
   ]
  },
  {
   "cell_type": "code",
   "execution_count": 650,
   "metadata": {},
   "outputs": [
    {
     "data": {
      "image/png": "[encoded data removed]",
      "text/plain": [
       "<Figure size 432x288 with 1 Axes>"
      ]
     },
     "metadata": {},
     "output_type": "display_data"
    },
    {
     "name": "stdout",
     "output_type": "stream",
     "text": [
      "0.8284560750233618\n",
      "Cross-validated scores: [0.81114345 0.96446477 0.59884188 0.75466478 0.39687084 0.25532233\n",
      " 0.83358244 0.96292351 0.98158754 0.70735464]\n"
     ]
    }
   ],
   "source": [
    "#Cross validation\n",
    "from sklearn.model_selection import train_test_split\n",
    "X_train, X_test, y_train, y_test = train_test_split(x, y, test_size=0.3)\n",
    "\n",
    "\n",
    "predictions = lm.predict(X_test)\n",
    "\n",
    "plt.scatter(y_test, predictions)\n",
    "plt.show()\n",
    "print(model.score(X_test, y_test))\n",
    "\n",
    "from sklearn.cross_validation import cross_val_score\n",
    "scores = cross_val_score(model,x, y, cv=10)\n",
    "print ('Cross-validated scores:', scores)\n"
   ]
  },
  {
   "cell_type": "code",
   "execution_count": 637,
   "metadata": {},
   "outputs": [
    {
     "data": {
      "text/html": [
       "<div>\n",
       "<style scoped>\n",
       "    .dataframe tbody tr th:only-of-type {\n",
       "        vertical-align: middle;\n",
       "    }\n",
       "\n",
       "    .dataframe tbody tr th {\n",
       "        vertical-align: top;\n",
       "    }\n",
       "\n",
       "    .dataframe thead th {\n",
       "        text-align: right;\n",
       "    }\n",
       "</style>\n",
       "<table border=\"1\" class=\"dataframe\">\n",
       "  <thead>\n",
       "    <tr style=\"text-align: right;\">\n",
       "      <th></th>\n",
       "      <th>city</th>\n",
       "      <th>population</th>\n",
       "      <th>violent_crime</th>\n",
       "      <th>murder_manslaughter</th>\n",
       "      <th>rape1</th>\n",
       "      <th>robbery</th>\n",
       "      <th>agg_assault</th>\n",
       "      <th>property_crime</th>\n",
       "      <th>burglary</th>\n",
       "      <th>larceny</th>\n",
       "      <th>motor_theft</th>\n",
       "      <th>arson</th>\n",
       "    </tr>\n",
       "  </thead>\n",
       "  <tbody>\n",
       "    <tr>\n",
       "      <th>848</th>\n",
       "      <td>York</td>\n",
       "      <td>43,841</td>\n",
       "      <td>348</td>\n",
       "      <td>12.0</td>\n",
       "      <td>33</td>\n",
       "      <td>174</td>\n",
       "      <td>129</td>\n",
       "      <td>1,481</td>\n",
       "      <td>486</td>\n",
       "      <td>905</td>\n",
       "      <td>90</td>\n",
       "      <td>21.0</td>\n",
       "    </tr>\n",
       "    <tr>\n",
       "      <th>849</th>\n",
       "      <td>York Area Regional</td>\n",
       "      <td>60,995</td>\n",
       "      <td>136</td>\n",
       "      <td>0.0</td>\n",
       "      <td>8</td>\n",
       "      <td>19</td>\n",
       "      <td>109</td>\n",
       "      <td>711</td>\n",
       "      <td>135</td>\n",
       "      <td>552</td>\n",
       "      <td>24</td>\n",
       "      <td>5.0</td>\n",
       "    </tr>\n",
       "    <tr>\n",
       "      <th>850</th>\n",
       "      <td>Youngsville</td>\n",
       "      <td>1,686</td>\n",
       "      <td>15</td>\n",
       "      <td>0.0</td>\n",
       "      <td>0</td>\n",
       "      <td>0</td>\n",
       "      <td>15</td>\n",
       "      <td>12</td>\n",
       "      <td>4</td>\n",
       "      <td>8</td>\n",
       "      <td>0</td>\n",
       "      <td>0.0</td>\n",
       "    </tr>\n",
       "    <tr>\n",
       "      <th>851</th>\n",
       "      <td>Zelienople</td>\n",
       "      <td>3,771</td>\n",
       "      <td>4</td>\n",
       "      <td>0.0</td>\n",
       "      <td>0</td>\n",
       "      <td>0</td>\n",
       "      <td>4</td>\n",
       "      <td>56</td>\n",
       "      <td>2</td>\n",
       "      <td>51</td>\n",
       "      <td>3</td>\n",
       "      <td>0.0</td>\n",
       "    </tr>\n",
       "    <tr>\n",
       "      <th>852</th>\n",
       "      <td>Zerbe Township</td>\n",
       "      <td>1,858</td>\n",
       "      <td>0</td>\n",
       "      <td>0.0</td>\n",
       "      <td>0</td>\n",
       "      <td>0</td>\n",
       "      <td>0</td>\n",
       "      <td>17</td>\n",
       "      <td>3</td>\n",
       "      <td>14</td>\n",
       "      <td>0</td>\n",
       "      <td>0.0</td>\n",
       "    </tr>\n",
       "  </tbody>\n",
       "</table>\n",
       "</div>"
      ],
      "text/plain": [
       "                   city population violent_crime  murder_manslaughter rape1  \\\n",
       "848                York     43,841           348                 12.0    33   \n",
       "849  York Area Regional     60,995           136                  0.0     8   \n",
       "850         Youngsville      1,686            15                  0.0     0   \n",
       "851          Zelienople      3,771             4                  0.0     0   \n",
       "852      Zerbe Township      1,858             0                  0.0     0   \n",
       "\n",
       "    robbery agg_assault property_crime burglary larceny motor_theft  arson  \n",
       "848     174         129          1,481      486     905          90   21.0  \n",
       "849      19         109            711      135     552          24    5.0  \n",
       "850       0          15             12        4       8           0    0.0  \n",
       "851       0           4             56        2      51           3    0.0  \n",
       "852       0           0             17        3      14           0    0.0  "
      ]
     },
     "execution_count": 637,
     "metadata": {},
     "output_type": "execute_result"
    }
   ],
   "source": [
    "crimePA = pd.read_csv('/Users/salilketkar/thinkful/DS_Unit2/table-8-pennsylvania.csv')\n",
    "crimePA.columns = ['city','population','violent_crime','murder_manslaughter','rape1','rape2','robbery','agg_assault','property_crime','burglary','larceny','motor_theft','arson','test']\n",
    "crimePA.drop('test',axis=1,inplace=True)\n",
    "crimePA.drop('rape2',axis=1,inplace=True)\n",
    "crimePA.drop(crimePA.index[[853,854,855,856]],inplace=True)\n",
    "crimePA.tail()"
   ]
  },
  {
   "cell_type": "code",
   "execution_count": 638,
   "metadata": {},
   "outputs": [],
   "source": [
    "crimePA = crimePA[crimePA['city'] != 'Philadelphia']\n",
    "crimePA['arson'] = crimePA['arson'].fillna(0)\n",
    "crimePA['population'] = crimePA['population'].apply(lambda x: str(x).replace(',',''))\n",
    "crimePA['motor_theft'] = crimePA['motor_theft'].apply(lambda x: str(x).replace(',',''))\n",
    "crimePA['robbery'] = crimePA['robbery'].apply(lambda x: str(x).replace(',',''))\n",
    "crimePA['property_crime'] = crimePA['property_crime'].apply(lambda x: str(x).replace(',',''))\n",
    "\n",
    "crimePA['robbery1'] = crimePA['robbery'].apply(lambda x: (int(x) ** (1/4)))\n",
    "crimePA['population1'] = crimePA['population'].apply(lambda x: (int(x) ** (1/3)))\n",
    "crimePA[['population','property_crime','population1','motor_theft','robbery1']]=crimePA[['population','property_crime','population1','motor_theft','robbery1']].apply(pd.to_numeric)\n",
    "\n",
    "x1 = crimePA[['population1','motor_theft','robbery1']]\n",
    "y1 = crimePA[['property_crime']].values.reshape(-1,1)\n",
    "          "
   ]
  },
  {
   "cell_type": "code",
   "execution_count": 639,
   "metadata": {},
   "outputs": [],
   "source": [
    "#predicting y values\n",
    "y_predPA = lm.predict(x1).ravel()"
   ]
  },
  {
   "cell_type": "code",
   "execution_count": 646,
   "metadata": {},
   "outputs": [
    {
     "data": {
      "image/png": "[encoded data removed]",
      "text/plain": [
       "<Figure size 432x288 with 1 Axes>"
      ]
     },
     "metadata": {},
     "output_type": "display_data"
    },
    {
     "name": "stdout",
     "output_type": "stream",
     "text": [
      "0.9503514081818527\n",
      "Cross-validated scores: [0.92367929 0.47144814 0.79608033 0.75008416 0.83072826 0.76958989\n",
      " 0.92232531 0.70348205 0.76863047 0.82424846]\n"
     ]
    }
   ],
   "source": [
    "#Cross validation\n",
    "from sklearn.model_selection import train_test_split\n",
    "X_train1, X_test1, y_train1, y_test1 = train_test_split(x1, y1, test_size=0.3)\n",
    "\n",
    "\n",
    "predictions1 = lm.predict(X_test1)\n",
    "\n",
    "plt.scatter(y_test1, predictions1)\n",
    "plt.xlabel('Property crime')\n",
    "plt.ylabel('Predicted property crime')\n",
    "plt.title('Property crime vs. predicted property crime')\n",
    "plt.show()\n",
    "print(model.score(X_test1, y_test1))\n",
    "\n",
    "from sklearn.cross_validation import cross_val_score\n",
    "scores = cross_val_score(model,x1, y1, cv=10)\n",
    "print ('Cross-validated scores:', scores)\n"
   ]
  },
  {
   "cell_type": "markdown",
   "metadata": {},
   "source": [
    "Solely looking at accuracy, the new set of data is more accuate but not by a lot.  It is evident from the variation in cross validation scores, that the initial data set is overfitting more than the new data set.  For feature engineering, I figured population would obviously play a roll in the property crime predicition.  I played around with the other attribute to find three variables that satisfied the assumptions as best as possible. For example, I may have squared or taken the log of values to see what impact it had on the R squared value.  I stayed away from features that combined to give an extremely high R value because this is a sign of my model overfitting.  "
   ]
  },
  {
   "cell_type": "code",
   "execution_count": null,
   "metadata": {},
   "outputs": [],
   "source": []
  }
 ],
 "metadata": {
  "kernelspec": {
   "display_name": "Python 3",
   "language": "python",
   "name": "python3"
  },
  "language_info": {
   "codemirror_mode": {
    "name": "ipython",
    "version": 3
   },
   "file_extension": ".py",
   "mimetype": "text/x-python",
   "name": "python",
   "nbconvert_exporter": "python",
   "pygments_lexer": "ipython3",
   "version": "3.6.5"
  }
 },
 "nbformat": 4,
 "nbformat_minor": 2
}
