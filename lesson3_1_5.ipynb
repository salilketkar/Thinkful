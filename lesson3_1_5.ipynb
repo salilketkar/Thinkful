{
 "cells": [
  {
   "cell_type": "code",
   "execution_count": 46,
   "metadata": {},
   "outputs": [
    {
     "name": "stdout",
     "output_type": "stream",
     "text": [
      "The mean is 9.857142857142858\n",
      "The median is 10.0\n",
      "The mode is 8\n",
      "The variance is 6.408163265306122\n",
      "The standard deviation is 2.531435020952764\n",
      "The standard error is 1.0334540197243192\n"
     ]
    }
   ],
   "source": [
    "import pandas as pd\n",
    "import numpy as np\n",
    "import statistics\n",
    "\n",
    "#Question 1\n",
    "\n",
    "df1 = pd.DataFrame()\n",
    "df1['age'] = [14, 12, 11, 10, 8, 8, 6]\n",
    "print ('The mean is', (np.mean(df1['age'])))\n",
    "print ('The median is', (np.median(df1['age'])))\n",
    "print ('The mode is', (statistics.mode(df1['age'])))\n",
    "print ('The variance is', (np.var(df1['age'])))\n",
    "print ('The standard deviation is', np.std(df1['age']))\n",
    "print ('The standard error is', np.std(df1['age'] ,ddof=1) / np.sqrt(len(df1['age'])))"
   ]
  },
  {
   "cell_type": "markdown",
   "metadata": {},
   "source": [
    "Question 2 \n",
    "\n",
    "I would chose the mean as the most important central tendency estimate since the all the ages are relatively close in value.  The standard deviation is the most important central variance estimate.  It gives a good measure of how much ages deviate from the mean.  "
   ]
  },
  {
   "cell_type": "code",
   "execution_count": 45,
   "metadata": {},
   "outputs": [
    {
     "name": "stdout",
     "output_type": "stream",
     "text": [
      "The mean is 10.0\n",
      "The median is 10.0\n",
      "The mode is 8\n",
      "The variance is 5.428571428571429\n",
      "The standard deviation is 2.32992949004287\n",
      "The standard error is 0.9511897312113418\n"
     ]
    }
   ],
   "source": [
    "# Question 3\n",
    "\n",
    "df2 = pd.DataFrame()\n",
    "df2['age'] = [14, 12, 11, 10, 8, 8, 7]\n",
    "print ('The mean is', (np.mean(df2['age'])))\n",
    "print ('The median is', (np.median(df2['age'])))\n",
    "print ('The mode is', (statistics.mode(df2['age'])))\n",
    "print ('The variance is', (np.var(df2['age'])))\n",
    "print ('The standard deviation is', np.std(df2['age']))\n",
    "print ('The standard error is', np.std(df2['age'] ,ddof=1) / np.sqrt(len(df2['age'])))"
   ]
  },
  {
   "cell_type": "markdown",
   "metadata": {},
   "source": [
    "As expected, the mean, variance, standard deviation and standard error all change slightly.  The median and mode stay the same."
   ]
  },
  {
   "cell_type": "code",
   "execution_count": 44,
   "metadata": {},
   "outputs": [
    {
     "name": "stdout",
     "output_type": "stream",
     "text": [
      "The mean is 9.0\n",
      "The median is 10.0\n",
      "No mode was found\n",
      "The variance is 15.428571428571429\n",
      "The standard deviation is 3.927922024247863\n",
      "The standard error is 1.6035674514745462\n"
     ]
    }
   ],
   "source": [
    "# Question 4\n",
    "\n",
    "from statistics import mode, StatisticsError\n",
    "\n",
    "df3 = pd.DataFrame()\n",
    "df3['age'] = [14, 12, 11, 10, 8, 7, 1]\n",
    "print ('The mean is', (np.mean(df3['age'])))\n",
    "print ('The median is', (np.median(df3['age'])))\n",
    "\n",
    "try:\n",
    "    print (statistics.mode(df3['age']))\n",
    "except StatisticsError:\n",
    "    print ('No mode was found')\n",
    "\n",
    "print ('The variance is', (np.var(df3['age'])))\n",
    "print ('The standard deviation is', np.std(df3['age']))\n",
    "print ('The standard error is', np.std(df3['age'] ,ddof=1) / np.sqrt(len(df3['age'])))"
   ]
  },
  {
   "cell_type": "markdown",
   "metadata": {},
   "source": [
    "Since there is an apparent outlier in this new data set, the median would be a more useful estimate of central tendency rather than the mean.  I will still say the standard deviation is the most useful measure of variance.  "
   ]
  },
  {
   "cell_type": "markdown",
   "metadata": {},
   "source": [
    "Question 5\n",
    "Since SciPhi is not a TV related magazine, I will exclude this data point and take the average of the other three magazines which is 20%.\n"
   ]
  },
  {
   "cell_type": "code",
   "execution_count": null,
   "metadata": {},
   "outputs": [],
   "source": []
  }
 ],
 "metadata": {
  "kernelspec": {
   "display_name": "Python 3",
   "language": "python",
   "name": "python3"
  },
  "language_info": {
   "codemirror_mode": {
    "name": "ipython",
    "version": 3
   },
   "file_extension": ".py",
   "mimetype": "text/x-python",
   "name": "python",
   "nbconvert_exporter": "python",
   "pygments_lexer": "ipython3",
   "version": "3.7.0"
  }
 },
 "nbformat": 4,
 "nbformat_minor": 2
}
