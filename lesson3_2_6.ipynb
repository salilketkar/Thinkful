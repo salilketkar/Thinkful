{
 "cells": [
  {
   "cell_type": "markdown",
   "metadata": {},
   "source": [
    "P(positive|sufferer) = 0.98\n",
    "P(positive|non-sufferer ) = 0.10\n",
    "P(sufferer) = 0.005\n",
    "\n",
    "Question 1 :\n",
    "\n",
    "P(positive) = 0.98 * 0.005 + 0.995 * .1 = P(positive and sufferer) + P(positive and non sufferer) = .1044\n",
    "\n",
    "Question 2:\n",
    "\n",
    "P(positive|sufferer) = 0.98\n",
    "\n",
    "Question 3:\n",
    "\n",
    "P(negative|non) = 1-P(positive|non) = 0.9\n",
    "\n",
    "Question 4:\n",
    "\n",
    "P(positive|non-sufferer) = 1-(.98 * .005 + .9 * .995) = .0996\n"
   ]
  },
  {
   "cell_type": "code",
   "execution_count": null,
   "metadata": {},
   "outputs": [],
   "source": []
  }
 ],
 "metadata": {
  "kernelspec": {
   "display_name": "Python 3",
   "language": "python",
   "name": "python3"
  },
  "language_info": {
   "codemirror_mode": {
    "name": "ipython",
    "version": 3
   },
   "file_extension": ".py",
   "mimetype": "text/x-python",
   "name": "python",
   "nbconvert_exporter": "python",
   "pygments_lexer": "ipython3",
   "version": "3.7.0"
  }
 },
 "nbformat": 4,
 "nbformat_minor": 2
}
