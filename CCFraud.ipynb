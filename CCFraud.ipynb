{
 "cells": [
  {
   "cell_type": "code",
   "execution_count": 35,
   "metadata": {},
   "outputs": [],
   "source": [
    "import pandas as pd\n",
    "import numpy as np\n",
    "import matplotlib.pyplot as plt \n",
    "import seaborn as sns\n",
    "%matplotlib inline\n",
    "\n",
    "from sklearn import linear_model\n",
    "from sklearn import model_selection\n",
    "from sklearn.model_selection import train_test_split\n",
    "from sklearn.linear_model import LogisticRegression\n",
    "from sklearn.tree import DecisionTreeClassifier\n",
    "from sklearn.ensemble import RandomForestClassifier\n",
    "\n",
    "from sklearn.neighbors import KNeighborsClassifier\n",
    "from sklearn.discriminant_analysis import LinearDiscriminantAnalysis\n",
    "from sklearn.naive_bayes import GaussianNB\n",
    "from sklearn.svm import SVC\n"
   ]
  },
  {
   "cell_type": "code",
   "execution_count": 36,
   "metadata": {},
   "outputs": [
    {
     "name": "stdout",
     "output_type": "stream",
     "text": [
      "(284807, 31)\n"
     ]
    }
   ],
   "source": [
    "fraud = pd.read_csv('/Users/salilketkar/thinkful/DS_Unit3/creditcard.csv')\n",
    "fraud.head()\n",
    "print(fraud.shape)"
   ]
  },
  {
   "cell_type": "code",
   "execution_count": 37,
   "metadata": {},
   "outputs": [],
   "source": [
    "#dealing with class imbalance by sampling the overrepresented class in the same amount as the underrepresented.\n",
    "#new\n",
    "\n",
    "count_class_0, count_class_1 = fraud.Class.value_counts()\n",
    "fraud_0 = fraud[fraud['Class'] == 0]\n",
    "fraud_1 = fraud[fraud['Class'] == 1]\n",
    "\n",
    "fraud_class_0_under = fraud_0.sample(count_class_1)\n",
    "fraud_test_under = pd.concat([fraud_class_0_under,fraud_1],axis=0)\n",
    "\n",
    "target = fraud_test_under.Class\n",
    "data = fraud_test_under.iloc[:,1:30]"
   ]
  },
  {
   "cell_type": "code",
   "execution_count": 38,
   "metadata": {},
   "outputs": [],
   "source": [
    "#running ttest to determine which variables are significantly different from class 0 and 1.  Dataset was further \n",
    "#reduced to 23 columns instead of the original 29.  \n",
    "\n",
    "from scipy.stats import ttest_ind\n",
    "\n",
    "newcol = []\n",
    "for col in data.columns:\n",
    "    test = ttest_ind(fraud_1[col], fraud_class_0_under[col],equal_var=False)\n",
    "    \n",
    "    if test[1] > 0.05:\n",
    "        newcol.append(col)\n",
    "\n",
    "data.drop(newcol, axis=1, inplace=True)"
   ]
  },
  {
   "cell_type": "code",
   "execution_count": 39,
   "metadata": {},
   "outputs": [],
   "source": [
    "#splitting data and target into test and train\n",
    "\n",
    "X_train, X_test, y_train, y_test = train_test_split(data, target, test_size=0.2, random_state=0)"
   ]
  },
  {
   "cell_type": "markdown",
   "metadata": {},
   "source": [
    "#### Establishing parameters for Logistic Regression"
   ]
  },
  {
   "cell_type": "code",
   "execution_count": 40,
   "metadata": {},
   "outputs": [
    {
     "name": "stdout",
     "output_type": "stream",
     "text": [
      "Coefficients: [[ 0.1149445   0.12504698 -0.00856337  0.76828099  0.35366017 -0.30796665\n",
      "  -0.16247972 -0.0318005  -0.43407662  0.36536777 -0.65250469 -0.9575155\n",
      "  -0.32326876 -0.19610436 -0.21632129  0.11483549 -1.04424799  0.07314175\n",
      "  -0.0236481   0.21705986  0.65530975  0.41428325  0.00574638]]\n",
      "R-squared for train model: 0.9555273189326556\n",
      "R-squared for test model: 0.9390862944162437\n"
     ]
    },
    {
     "data": {
      "text/plain": [
       "array([0.95967742, 0.96774194, 0.90322581, 0.90322581, 0.96721311,\n",
       "       0.95901639, 0.94262295, 0.91803279])"
      ]
     },
     "execution_count": 40,
     "metadata": {},
     "output_type": "execute_result"
    }
   ],
   "source": [
    "from sklearn import ensemble\n",
    "from sklearn.model_selection import cross_val_score\n",
    "\n",
    "lr = LogisticRegression(C=1)\n",
    "lr.fit(X_train, y_train)\n",
    "print('Coefficients:',lr.coef_)\n",
    "print('R-squared for train model:',lr.score(X_train, y_train))\n",
    "print('R-squared for test model:',lr.score(X_test, y_test))\n",
    "cross_val_score(lr, data, target, cv=8)\n"
   ]
  },
  {
   "cell_type": "code",
   "execution_count": 41,
   "metadata": {},
   "outputs": [
    {
     "data": {
      "image/png": "[encoded data removed]",
      "text/plain": [
       "<Figure size 432x288 with 1 Axes>"
      ]
     },
     "metadata": {},
     "output_type": "display_data"
    }
   ],
   "source": [
    "logTest = []\n",
    "for C in range(1,1000,100):\n",
    "    lr = LogisticRegression(C=C)\n",
    "    lr.fit(X_train, y_train)\n",
    "    logscore = lr.score(X_test, y_test)\n",
    "    logTest.append(logscore)\n",
    "\n",
    "sns.set_style('whitegrid')\n",
    "plt.scatter(range(1,1000,100), logTest)\n",
    "plt.show()"
   ]
  },
  {
   "cell_type": "markdown",
   "metadata": {},
   "source": [
    "#### Establishing parameters for KNN model "
   ]
  },
  {
   "cell_type": "code",
   "execution_count": 42,
   "metadata": {},
   "outputs": [
    {
     "name": "stdout",
     "output_type": "stream",
     "text": [
      "R-squared for train model: 1.0\n",
      "R-squared for test model: 0.8781725888324873\n"
     ]
    },
    {
     "data": {
      "text/plain": [
       "array([0.92741935, 0.91129032, 0.87903226, 0.87096774, 0.90983607,\n",
       "       0.89344262, 0.90163934, 0.86885246])"
      ]
     },
     "execution_count": 42,
     "metadata": {},
     "output_type": "execute_result"
    }
   ],
   "source": [
    "neighbors = KNeighborsClassifier(n_neighbors=1)\n",
    "neighbors.fit(X_train, y_train)\n",
    "print('R-squared for train model:',neighbors.score(X_train, y_train))\n",
    "print('R-squared for test model:',neighbors.score(X_test, y_test))\n",
    "cross_val_score(neighbors, data, target, cv=8)"
   ]
  },
  {
   "cell_type": "code",
   "execution_count": 50,
   "metadata": {},
   "outputs": [
    {
     "data": {
      "image/png": "[encoded data removed]",
      "text/plain": [
       "<Figure size 432x288 with 1 Axes>"
      ]
     },
     "metadata": {},
     "output_type": "display_data"
    }
   ],
   "source": [
    "KNNTest = []\n",
    "for n in range(1,25,1):\n",
    "    knn = KNeighborsClassifier(n_neighbors=n)\n",
    "    knn.fit(X_train, y_train)\n",
    "    KNNTest.append(knn.score(X_test, y_test))\n",
    "KNNTestWeight = []\n",
    "for n in range(1,25,1):\n",
    "    knnWeight = KNeighborsClassifier(n_neighbors=n,weights='distance')\n",
    "    knnWeight.fit(X_train, y_train)\n",
    "    KNNTestWeight.append(knnWeight.score(X_test, y_test))\n",
    "\n",
    "sns.set_style('whitegrid')\n",
    "plt.scatter(range(1,25,1), KNNTest)\n",
    "plt.scatter(range(1,25,1), KNNTestWeight,alpha=0.5)\n",
    "plt.xlabel('K value')\n",
    "plt.ylabel('R-squared for test data')\n",
    "plt.legend(['Non-weighted','Weighted'],loc='best')\n",
    "plt.title('R-squared for different K values with and without weight')\n",
    "plt.show()\n"
   ]
  },
  {
   "cell_type": "markdown",
   "metadata": {},
   "source": [
    "#### Establishing parameters for decision tree"
   ]
  },
  {
   "cell_type": "code",
   "execution_count": 8,
   "metadata": {},
   "outputs": [
    {
     "name": "stdout",
     "output_type": "stream",
     "text": [
      "R-squared for train model: 0.9301143583227446\n",
      "R-squared for test model: 0.8883248730964467\n"
     ]
    },
    {
     "data": {
      "text/plain": [
       "array([0.96774194, 0.96774194, 0.88709677, 0.87096774, 0.94262295,\n",
       "       0.94262295, 0.8852459 , 0.90163934])"
      ]
     },
     "execution_count": 8,
     "metadata": {},
     "output_type": "execute_result"
    }
   ],
   "source": [
    "dTree = DecisionTreeClassifier(\n",
    "    criterion='entropy',\n",
    "    max_features='auto',\n",
    "    max_depth=4,\n",
    "    )\n",
    "\n",
    "dTree.fit(X_train, y_train)\n",
    "print('R-squared for train model:',dTree.score(X_train, y_train))\n",
    "print('R-squared for test model:',dTree.score(X_test, y_test))\n",
    "cross_val_score(dTree, data, target, cv=8)"
   ]
  },
  {
   "cell_type": "code",
   "execution_count": 61,
   "metadata": {
    "scrolled": true
   },
   "outputs": [],
   "source": [
    "treeDepth = []\n",
    "count = {}\n",
    "for i in range(1,400,1):\n",
    "    count_ = {}\n",
    "    for n in range(1,20,1):\n",
    "        tree = DecisionTreeClassifier(criterion='entropy',\n",
    "        max_features='auto',\n",
    "        max_depth=n,\n",
    "        )\n",
    "        tree.fit(X_train, y_train)\n",
    "        treeDepth.append(tree.score(X_test, y_test))\n",
    "\n",
    "        count_[n] = tree.score(X_test,y_test)\n",
    "        \n",
    "    maxaccuracy = max(count_.values())\n",
    "    result = []\n",
    "    for key in count_.keys():\n",
    "        if count_[key] == maxaccuracy:\n",
    "            result.append(key)\n",
    "    for r in result:\n",
    "        if r in count:\n",
    "            count[r] +=1\n",
    "        else:\n",
    "            count[r]=1\n",
    "            "
   ]
  },
  {
   "cell_type": "code",
   "execution_count": 68,
   "metadata": {},
   "outputs": [
    {
     "data": {
      "text/plain": [
       "{4: 49,\n",
       " 10: 35,\n",
       " 19: 16,\n",
       " 3: 30,\n",
       " 15: 25,\n",
       " 2: 6,\n",
       " 5: 47,\n",
       " 13: 26,\n",
       " 6: 49,\n",
       " 9: 45,\n",
       " 17: 23,\n",
       " 7: 41,\n",
       " 8: 53,\n",
       " 16: 18,\n",
       " 11: 29,\n",
       " 14: 32,\n",
       " 12: 22,\n",
       " 18: 12}"
      ]
     },
     "execution_count": 68,
     "metadata": {},
     "output_type": "execute_result"
    }
   ],
   "source": [
    "count"
   ]
  },
  {
   "cell_type": "markdown",
   "metadata": {},
   "source": [
    "#### Establishing parameters for Random Forest"
   ]
  },
  {
   "cell_type": "code",
   "execution_count": 151,
   "metadata": {},
   "outputs": [
    {
     "name": "stdout",
     "output_type": "stream",
     "text": [
      "R-squared for train model: 0.9021601016518425\n",
      "R-squared for test model: 0.8781725888324873\n"
     ]
    },
    {
     "data": {
      "text/plain": [
       "array([0.94354839, 0.95967742, 0.87903226, 0.88709677, 0.95081967,\n",
       "       0.95901639, 0.91803279, 0.91803279])"
      ]
     },
     "execution_count": 151,
     "metadata": {},
     "output_type": "execute_result"
    }
   ],
   "source": [
    "rfc = RandomForestClassifier()\n",
    "\n",
    "rfc.fit(X_train, y_train)\n",
    "print('R-squared for train model:',dTree.score(X_train, y_train))\n",
    "print('R-squared for test model:',dTree.score(X_test, y_test))\n",
    "cross_val_score(rfc, data, target, cv=8)"
   ]
  },
  {
   "cell_type": "code",
   "execution_count": 67,
   "metadata": {},
   "outputs": [
    {
     "data": {
      "image/png": "[encoded data removed]",
      "text/plain": [
       "<Figure size 432x288 with 1 Axes>"
      ]
     },
     "metadata": {},
     "output_type": "display_data"
    }
   ],
   "source": [
    "rfcDepth = []\n",
    "for n in range(2,20,1):\n",
    "    forest = RandomForestClassifier(n_estimators=100,criterion='entropy', max_features='auto',min_samples_split=n)\n",
    "    forest.fit(X_train, y_train)\n",
    "    rfcDepth.append(forest.score(X_test, y_test))\n",
    "\n",
    "sns.set_style('whitegrid')\n",
    "plt.scatter(range(2,20,1), rfcDepth)\n",
    "plt.xlabel('max_depth value')\n",
    "plt.ylabel('R-squared for test data')\n",
    "plt.title('R-squared for min samples split values')\n",
    "plt.show()"
   ]
  },
  {
   "cell_type": "markdown",
   "metadata": {},
   "source": [
    "#### Establishing parameters for SVC"
   ]
  },
  {
   "cell_type": "code",
   "execution_count": null,
   "metadata": {},
   "outputs": [],
   "source": [
    "svc = SVC()\n",
    "\n",
    "svc.fit(X_train, y_train)\n",
    "print('R-squared for train model:',svc.score(X_train, y_train))\n",
    "print('R-squared for test model:',svc.score(X_test, y_test))\n",
    "cross_val_score(svc, data, target, cv=8)"
   ]
  },
  {
   "cell_type": "code",
   "execution_count": 148,
   "metadata": {},
   "outputs": [
    {
     "data": {
      "image/png": "[encoded data removed]",
      "text/plain": [
       "<Figure size 432x288 with 1 Axes>"
      ]
     },
     "metadata": {},
     "output_type": "display_data"
    }
   ],
   "source": [
    "svcKernel = []\n",
    "for n in ['rbf','linear','poly','sigmoid']:\n",
    "    svc = SVC(kernel=n\n",
    "    )\n",
    "    svc.fit(X_train, y_train)\n",
    "    svcKernel.append(svc.score(X_test, y_test))\n",
    "\n",
    "sns.set_style('whitegrid')\n",
    "plt.scatter(['rbf','linear','poly','sigmoid'], svcKernel)\n",
    "plt.xlabel('Kernel type')\n",
    "plt.ylabel('R-squared for test data')\n",
    "plt.title('R-squared for different kernel types')\n",
    "plt.show()"
   ]
  },
  {
   "cell_type": "code",
   "execution_count": 64,
   "metadata": {},
   "outputs": [
    {
     "name": "stdout",
     "output_type": "stream",
     "text": [
      "LR: 0.947120 (0.040524)\n",
      "KNN: 0.917402 (0.065820)\n",
      "Tree: 0.912377 (0.050751)\n",
      "RFT: 0.939767 (0.045648)\n",
      "SVM: 0.943015 (0.045015)\n"
     ]
    },
    {
     "data": {
      "image/png": "[encoded data removed]",
      "text/plain": [
       "<Figure size 432x288 with 1 Axes>"
      ]
     },
     "metadata": {},
     "output_type": "display_data"
    }
   ],
   "source": [
    "# prepare configuration for cross validation test harness\n",
    "# prepare models max_depth=5\n",
    "models = []\n",
    "models.append(('LR', LogisticRegression(C=100)))\n",
    "models.append(('KNN', KNeighborsClassifier(n_neighbors=6,weights='distance')))\n",
    "models.append(('Tree', DecisionTreeClassifier(criterion='entropy',\n",
    "    max_features='auto', max_depth=6)))\n",
    "models.append(('RFT', RandomForestClassifier(n_estimators=100,criterion='entropy', max_features='auto',min_samples_split=11)))\n",
    "models.append(('SVM', SVC(kernel='linear')))\n",
    "# evaluate each model in turn\n",
    "results = []\n",
    "names = []\n",
    "#scoring = 'accuracy'\n",
    "for name, model in models:    \n",
    "    cv_results = model_selection.cross_val_score(model.fit(X_train, y_train), data, target, cv=30 , scoring='accuracy')\n",
    "    results.append(cv_results)\n",
    "    names.append(name)    \n",
    "    msg = \"%s: %f (%f)\" % (name, cv_results.mean(), cv_results.std())\n",
    "    print(msg)\n",
    "# boxplot algorithm comparison\n",
    "fig = plt.figure()\n",
    "fig.suptitle('Algorithm Comparison')\n",
    "ax = fig.add_subplot(111)\n",
    "plt.boxplot(results)\n",
    "ax.set_xticklabels(names)\n",
    "plt.show()"
   ]
  },
  {
   "cell_type": "code",
   "execution_count": 69,
   "metadata": {},
   "outputs": [],
   "source": [
    "from sklearn.ensemble import VotingClassifier\n",
    "\n",
    "estimators = []\n",
    "\n",
    "estimators.append(('LR', LogisticRegression(C=100)))\n",
    "estimators.append(('KNN', KNeighborsClassifier(n_neighbors=6,weights='distance')))\n",
    "estimators.append(('Tree', DecisionTreeClassifier(criterion='entropy',\n",
    "    max_features='auto', max_depth=6)))\n",
    "estimators.append(('RFT', RandomForestClassifier(n_estimators=100,criterion='entropy', max_features='auto',min_samples_split=11)))\n",
    "estimators.append(('SVM', SVC(kernel='linear')))\n"
   ]
  },
  {
   "cell_type": "code",
   "execution_count": 70,
   "metadata": {},
   "outputs": [
    {
     "name": "stderr",
     "output_type": "stream",
     "text": [
      "/anaconda3/lib/python3.6/site-packages/sklearn/preprocessing/label.py:151: DeprecationWarning: The truth value of an empty array is ambiguous. Returning False, but in future this will result in an error. Use `array.size > 0` to check that an array is not empty.\n",
      "  if diff:\n"
     ]
    },
    {
     "data": {
      "text/plain": [
       "0.9289340101522843"
      ]
     },
     "execution_count": 70,
     "metadata": {},
     "output_type": "execute_result"
    }
   ],
   "source": [
    "es = VotingClassifier(estimators)\n",
    "es.fit(X_train,y_train)\n",
    "es.score(X_test, y_test)"
   ]
  },
  {
   "cell_type": "markdown",
   "metadata": {},
   "source": [
    "I have chosen logistic regression beacuse it gives the highest accuracy along with the lowest variance.  "
   ]
  },
  {
   "cell_type": "code",
   "execution_count": 71,
   "metadata": {},
   "outputs": [
    {
     "name": "stdout",
     "output_type": "stream",
     "text": [
      "Coefficients: [[-5.10027720e-01  8.42208643e-01 -2.22612472e+00  2.65358431e+00\n",
      "  -1.04837607e+00 -9.71644800e-01 -3.46808718e+00 -2.06166261e+00\n",
      "  -5.02772431e+00  3.40008803e+00 -6.06643747e+00 -6.57044325e+00\n",
      "  -5.24579067e+00 -9.17994136e+00 -3.58740474e+00  1.36806476e+00\n",
      "  -1.20593501e+00  6.68035394e-01 -6.70271393e-02  5.46909024e-01\n",
      "   2.78521452e+00  6.27011292e-01  7.99801551e-03]]\n",
      "R-squared for train model: 0.9567979669631512\n",
      "R-squared for test model: 0.9441624365482234\n"
     ]
    },
    {
     "data": {
      "text/plain": [
       "array([0.96774194, 0.95967742, 0.91935484, 0.90322581, 0.97540984,\n",
       "       0.94262295, 0.94262295, 0.93442623])"
      ]
     },
     "execution_count": 71,
     "metadata": {},
     "output_type": "execute_result"
    }
   ],
   "source": [
    "lr = LogisticRegression(C=100)\n",
    "lr.fit(X_train, y_train)\n",
    "print('Coefficients:',lr.coef_)\n",
    "print('R-squared for train model:',lr.score(X_train, y_train))\n",
    "print('R-squared for test model:',lr.score(X_test, y_test))\n",
    "cross_val_score(lr, data, target, cv=8)\n"
   ]
  },
  {
   "cell_type": "code",
   "execution_count": null,
   "metadata": {},
   "outputs": [],
   "source": []
  }
 ],
 "metadata": {
  "kernelspec": {
   "display_name": "Python 3",
   "language": "python",
   "name": "python3"
  },
  "language_info": {
   "codemirror_mode": {
    "name": "ipython",
    "version": 3
   },
   "file_extension": ".py",
   "mimetype": "text/x-python",
   "name": "python",
   "nbconvert_exporter": "python",
   "pygments_lexer": "ipython3",
   "version": "3.6.5"
  }
 },
 "nbformat": 4,
 "nbformat_minor": 2
}
