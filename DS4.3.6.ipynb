{
 "cells": [
  {
   "cell_type": "code",
   "execution_count": 38,
   "metadata": {},
   "outputs": [],
   "source": [
    "import pandas as pd\n",
    "import numpy as np\n",
    "import matplotlib.pyplot as plt\n",
    "import seaborn as sns\n",
    "%matplotlib inline\n",
    "\n",
    "from sklearn.neural_network import MLPRegressor\n",
    "from sklearn.ensemble import RandomForestRegressor\n",
    "from sklearn.model_selection import cross_val_score\n",
    "from sklearn.model_selection import train_test_split\n",
    "from sklearn.preprocessing import normalize\n",
    "from sklearn.decomposition import PCA"
   ]
  },
  {
   "cell_type": "code",
   "execution_count": 79,
   "metadata": {},
   "outputs": [],
   "source": [
    "pitching = pd.read_csv('/Users/salilketkar/thinkful/DS_Unit3/Unit 3 Capstone/lahmanbaseballdatabase 2/Pitching.csv')"
   ]
  },
  {
   "cell_type": "code",
   "execution_count": 80,
   "metadata": {},
   "outputs": [
    {
     "data": {
      "text/html": [
       "<div>\n",
       "<style scoped>\n",
       "    .dataframe tbody tr th:only-of-type {\n",
       "        vertical-align: middle;\n",
       "    }\n",
       "\n",
       "    .dataframe tbody tr th {\n",
       "        vertical-align: top;\n",
       "    }\n",
       "\n",
       "    .dataframe thead th {\n",
       "        text-align: right;\n",
       "    }\n",
       "</style>\n",
       "<table border=\"1\" class=\"dataframe\">\n",
       "  <thead>\n",
       "    <tr style=\"text-align: right;\">\n",
       "      <th></th>\n",
       "      <th>playerID</th>\n",
       "      <th>yearID</th>\n",
       "      <th>stint</th>\n",
       "      <th>teamID</th>\n",
       "      <th>lgID</th>\n",
       "      <th>W</th>\n",
       "      <th>L</th>\n",
       "      <th>G</th>\n",
       "      <th>GS</th>\n",
       "      <th>CG</th>\n",
       "      <th>SHO</th>\n",
       "      <th>SV</th>\n",
       "      <th>IPouts</th>\n",
       "      <th>H</th>\n",
       "      <th>ER</th>\n",
       "      <th>HR</th>\n",
       "      <th>BB</th>\n",
       "      <th>SO</th>\n",
       "      <th>BAOpp</th>\n",
       "      <th>ERA</th>\n",
       "      <th>IBB</th>\n",
       "      <th>WP</th>\n",
       "      <th>HBP</th>\n",
       "      <th>BK</th>\n",
       "      <th>BFP</th>\n",
       "      <th>GF</th>\n",
       "      <th>R</th>\n",
       "      <th>SH</th>\n",
       "      <th>SF</th>\n",
       "      <th>GIDP</th>\n",
       "    </tr>\n",
       "  </thead>\n",
       "  <tbody>\n",
       "    <tr>\n",
       "      <th>0</th>\n",
       "      <td>aardsda01</td>\n",
       "      <td>2004</td>\n",
       "      <td>1</td>\n",
       "      <td>SFN</td>\n",
       "      <td>NL</td>\n",
       "      <td>1</td>\n",
       "      <td>0</td>\n",
       "      <td>11</td>\n",
       "      <td>0</td>\n",
       "      <td>0</td>\n",
       "      <td>0</td>\n",
       "      <td>0</td>\n",
       "      <td>32</td>\n",
       "      <td>20</td>\n",
       "      <td>8</td>\n",
       "      <td>1</td>\n",
       "      <td>10</td>\n",
       "      <td>5</td>\n",
       "      <td>0.41</td>\n",
       "      <td>6.75</td>\n",
       "      <td>0.0</td>\n",
       "      <td>0.0</td>\n",
       "      <td>2.0</td>\n",
       "      <td>0.0</td>\n",
       "      <td>61.0</td>\n",
       "      <td>5.0</td>\n",
       "      <td>8</td>\n",
       "      <td>NaN</td>\n",
       "      <td>NaN</td>\n",
       "      <td>NaN</td>\n",
       "    </tr>\n",
       "    <tr>\n",
       "      <th>1</th>\n",
       "      <td>aardsda01</td>\n",
       "      <td>2006</td>\n",
       "      <td>1</td>\n",
       "      <td>CHN</td>\n",
       "      <td>NL</td>\n",
       "      <td>3</td>\n",
       "      <td>0</td>\n",
       "      <td>45</td>\n",
       "      <td>0</td>\n",
       "      <td>0</td>\n",
       "      <td>0</td>\n",
       "      <td>0</td>\n",
       "      <td>159</td>\n",
       "      <td>41</td>\n",
       "      <td>24</td>\n",
       "      <td>9</td>\n",
       "      <td>28</td>\n",
       "      <td>49</td>\n",
       "      <td>NaN</td>\n",
       "      <td>4.08</td>\n",
       "      <td>0.0</td>\n",
       "      <td>1.0</td>\n",
       "      <td>1.0</td>\n",
       "      <td>0.0</td>\n",
       "      <td>225.0</td>\n",
       "      <td>9.0</td>\n",
       "      <td>25</td>\n",
       "      <td>NaN</td>\n",
       "      <td>NaN</td>\n",
       "      <td>NaN</td>\n",
       "    </tr>\n",
       "    <tr>\n",
       "      <th>2</th>\n",
       "      <td>aardsda01</td>\n",
       "      <td>2007</td>\n",
       "      <td>1</td>\n",
       "      <td>CHA</td>\n",
       "      <td>AL</td>\n",
       "      <td>2</td>\n",
       "      <td>1</td>\n",
       "      <td>25</td>\n",
       "      <td>0</td>\n",
       "      <td>0</td>\n",
       "      <td>0</td>\n",
       "      <td>0</td>\n",
       "      <td>97</td>\n",
       "      <td>39</td>\n",
       "      <td>23</td>\n",
       "      <td>4</td>\n",
       "      <td>17</td>\n",
       "      <td>36</td>\n",
       "      <td>NaN</td>\n",
       "      <td>6.40</td>\n",
       "      <td>3.0</td>\n",
       "      <td>2.0</td>\n",
       "      <td>1.0</td>\n",
       "      <td>0.0</td>\n",
       "      <td>151.0</td>\n",
       "      <td>7.0</td>\n",
       "      <td>24</td>\n",
       "      <td>NaN</td>\n",
       "      <td>NaN</td>\n",
       "      <td>NaN</td>\n",
       "    </tr>\n",
       "    <tr>\n",
       "      <th>3</th>\n",
       "      <td>aardsda01</td>\n",
       "      <td>2008</td>\n",
       "      <td>1</td>\n",
       "      <td>BOS</td>\n",
       "      <td>AL</td>\n",
       "      <td>4</td>\n",
       "      <td>2</td>\n",
       "      <td>47</td>\n",
       "      <td>0</td>\n",
       "      <td>0</td>\n",
       "      <td>0</td>\n",
       "      <td>0</td>\n",
       "      <td>146</td>\n",
       "      <td>49</td>\n",
       "      <td>30</td>\n",
       "      <td>4</td>\n",
       "      <td>35</td>\n",
       "      <td>49</td>\n",
       "      <td>NaN</td>\n",
       "      <td>5.55</td>\n",
       "      <td>2.0</td>\n",
       "      <td>3.0</td>\n",
       "      <td>5.0</td>\n",
       "      <td>0.0</td>\n",
       "      <td>228.0</td>\n",
       "      <td>7.0</td>\n",
       "      <td>32</td>\n",
       "      <td>NaN</td>\n",
       "      <td>NaN</td>\n",
       "      <td>NaN</td>\n",
       "    </tr>\n",
       "    <tr>\n",
       "      <th>4</th>\n",
       "      <td>aardsda01</td>\n",
       "      <td>2009</td>\n",
       "      <td>1</td>\n",
       "      <td>SEA</td>\n",
       "      <td>AL</td>\n",
       "      <td>3</td>\n",
       "      <td>6</td>\n",
       "      <td>73</td>\n",
       "      <td>0</td>\n",
       "      <td>0</td>\n",
       "      <td>0</td>\n",
       "      <td>38</td>\n",
       "      <td>214</td>\n",
       "      <td>49</td>\n",
       "      <td>20</td>\n",
       "      <td>4</td>\n",
       "      <td>34</td>\n",
       "      <td>80</td>\n",
       "      <td>NaN</td>\n",
       "      <td>2.52</td>\n",
       "      <td>3.0</td>\n",
       "      <td>2.0</td>\n",
       "      <td>0.0</td>\n",
       "      <td>0.0</td>\n",
       "      <td>296.0</td>\n",
       "      <td>53.0</td>\n",
       "      <td>23</td>\n",
       "      <td>NaN</td>\n",
       "      <td>NaN</td>\n",
       "      <td>NaN</td>\n",
       "    </tr>\n",
       "  </tbody>\n",
       "</table>\n",
       "</div>"
      ],
      "text/plain": [
       "    playerID  yearID  stint teamID lgID  W  L   G  GS  CG  SHO  SV  IPouts  \\\n",
       "0  aardsda01    2004      1    SFN   NL  1  0  11   0   0    0   0      32   \n",
       "1  aardsda01    2006      1    CHN   NL  3  0  45   0   0    0   0     159   \n",
       "2  aardsda01    2007      1    CHA   AL  2  1  25   0   0    0   0      97   \n",
       "3  aardsda01    2008      1    BOS   AL  4  2  47   0   0    0   0     146   \n",
       "4  aardsda01    2009      1    SEA   AL  3  6  73   0   0    0  38     214   \n",
       "\n",
       "    H  ER  HR  BB  SO  BAOpp   ERA  IBB   WP  HBP   BK    BFP    GF   R  SH  \\\n",
       "0  20   8   1  10   5   0.41  6.75  0.0  0.0  2.0  0.0   61.0   5.0   8 NaN   \n",
       "1  41  24   9  28  49    NaN  4.08  0.0  1.0  1.0  0.0  225.0   9.0  25 NaN   \n",
       "2  39  23   4  17  36    NaN  6.40  3.0  2.0  1.0  0.0  151.0   7.0  24 NaN   \n",
       "3  49  30   4  35  49    NaN  5.55  2.0  3.0  5.0  0.0  228.0   7.0  32 NaN   \n",
       "4  49  20   4  34  80    NaN  2.52  3.0  2.0  0.0  0.0  296.0  53.0  23 NaN   \n",
       "\n",
       "   SF  GIDP  \n",
       "0 NaN   NaN  \n",
       "1 NaN   NaN  \n",
       "2 NaN   NaN  \n",
       "3 NaN   NaN  \n",
       "4 NaN   NaN  "
      ]
     },
     "execution_count": 80,
     "metadata": {},
     "output_type": "execute_result"
    }
   ],
   "source": [
    "pd.set_option('display.max_columns',30)\n",
    "pitching.head()"
   ]
  },
  {
   "cell_type": "code",
   "execution_count": 81,
   "metadata": {},
   "outputs": [],
   "source": [
    "pitching.drop(['playerID','yearID','stint','teamID','lgID','SH','SF','GIDP'],axis=1,inplace=True)\n",
    "pitching.dropna(inplace=True)"
   ]
  },
  {
   "cell_type": "code",
   "execution_count": 82,
   "metadata": {},
   "outputs": [
    {
     "name": "stdout",
     "output_type": "stream",
     "text": [
      "(19696, 22)\n"
     ]
    },
    {
     "data": {
      "text/html": [
       "<div>\n",
       "<style scoped>\n",
       "    .dataframe tbody tr th:only-of-type {\n",
       "        vertical-align: middle;\n",
       "    }\n",
       "\n",
       "    .dataframe tbody tr th {\n",
       "        vertical-align: top;\n",
       "    }\n",
       "\n",
       "    .dataframe thead th {\n",
       "        text-align: right;\n",
       "    }\n",
       "</style>\n",
       "<table border=\"1\" class=\"dataframe\">\n",
       "  <thead>\n",
       "    <tr style=\"text-align: right;\">\n",
       "      <th></th>\n",
       "      <th>W</th>\n",
       "      <th>L</th>\n",
       "      <th>G</th>\n",
       "      <th>GS</th>\n",
       "      <th>CG</th>\n",
       "      <th>SHO</th>\n",
       "      <th>SV</th>\n",
       "      <th>IPouts</th>\n",
       "      <th>H</th>\n",
       "      <th>ER</th>\n",
       "      <th>HR</th>\n",
       "      <th>BB</th>\n",
       "      <th>SO</th>\n",
       "      <th>BAOpp</th>\n",
       "      <th>ERA</th>\n",
       "      <th>IBB</th>\n",
       "      <th>WP</th>\n",
       "      <th>HBP</th>\n",
       "      <th>BK</th>\n",
       "      <th>BFP</th>\n",
       "      <th>GF</th>\n",
       "      <th>R</th>\n",
       "    </tr>\n",
       "  </thead>\n",
       "  <tbody>\n",
       "    <tr>\n",
       "      <th>0</th>\n",
       "      <td>1</td>\n",
       "      <td>0</td>\n",
       "      <td>11</td>\n",
       "      <td>0</td>\n",
       "      <td>0</td>\n",
       "      <td>0</td>\n",
       "      <td>0</td>\n",
       "      <td>32</td>\n",
       "      <td>20</td>\n",
       "      <td>8</td>\n",
       "      <td>1</td>\n",
       "      <td>10</td>\n",
       "      <td>5</td>\n",
       "      <td>0.41</td>\n",
       "      <td>6.75</td>\n",
       "      <td>0.0</td>\n",
       "      <td>0.0</td>\n",
       "      <td>2.0</td>\n",
       "      <td>0.0</td>\n",
       "      <td>61.0</td>\n",
       "      <td>5.0</td>\n",
       "      <td>8</td>\n",
       "    </tr>\n",
       "    <tr>\n",
       "      <th>7</th>\n",
       "      <td>6</td>\n",
       "      <td>2</td>\n",
       "      <td>13</td>\n",
       "      <td>13</td>\n",
       "      <td>4</td>\n",
       "      <td>2</td>\n",
       "      <td>0</td>\n",
       "      <td>277</td>\n",
       "      <td>85</td>\n",
       "      <td>32</td>\n",
       "      <td>6</td>\n",
       "      <td>19</td>\n",
       "      <td>49</td>\n",
       "      <td>0.24</td>\n",
       "      <td>3.12</td>\n",
       "      <td>1.0</td>\n",
       "      <td>0.0</td>\n",
       "      <td>1.0</td>\n",
       "      <td>0.0</td>\n",
       "      <td>373.0</td>\n",
       "      <td>0.0</td>\n",
       "      <td>36</td>\n",
       "    </tr>\n",
       "    <tr>\n",
       "      <th>8</th>\n",
       "      <td>11</td>\n",
       "      <td>8</td>\n",
       "      <td>29</td>\n",
       "      <td>29</td>\n",
       "      <td>6</td>\n",
       "      <td>1</td>\n",
       "      <td>0</td>\n",
       "      <td>536</td>\n",
       "      <td>185</td>\n",
       "      <td>80</td>\n",
       "      <td>14</td>\n",
       "      <td>80</td>\n",
       "      <td>93</td>\n",
       "      <td>0.27</td>\n",
       "      <td>4.03</td>\n",
       "      <td>4.0</td>\n",
       "      <td>3.0</td>\n",
       "      <td>2.0</td>\n",
       "      <td>0.0</td>\n",
       "      <td>773.0</td>\n",
       "      <td>0.0</td>\n",
       "      <td>88</td>\n",
       "    </tr>\n",
       "    <tr>\n",
       "      <th>9</th>\n",
       "      <td>9</td>\n",
       "      <td>10</td>\n",
       "      <td>37</td>\n",
       "      <td>28</td>\n",
       "      <td>7</td>\n",
       "      <td>1</td>\n",
       "      <td>2</td>\n",
       "      <td>556</td>\n",
       "      <td>200</td>\n",
       "      <td>99</td>\n",
       "      <td>19</td>\n",
       "      <td>77</td>\n",
       "      <td>96</td>\n",
       "      <td>0.27</td>\n",
       "      <td>4.81</td>\n",
       "      <td>7.0</td>\n",
       "      <td>5.0</td>\n",
       "      <td>1.0</td>\n",
       "      <td>0.0</td>\n",
       "      <td>817.0</td>\n",
       "      <td>4.0</td>\n",
       "      <td>104</td>\n",
       "    </tr>\n",
       "    <tr>\n",
       "      <th>10</th>\n",
       "      <td>8</td>\n",
       "      <td>13</td>\n",
       "      <td>40</td>\n",
       "      <td>21</td>\n",
       "      <td>5</td>\n",
       "      <td>1</td>\n",
       "      <td>2</td>\n",
       "      <td>525</td>\n",
       "      <td>193</td>\n",
       "      <td>79</td>\n",
       "      <td>13</td>\n",
       "      <td>66</td>\n",
       "      <td>74</td>\n",
       "      <td>0.28</td>\n",
       "      <td>4.06</td>\n",
       "      <td>3.0</td>\n",
       "      <td>2.0</td>\n",
       "      <td>1.0</td>\n",
       "      <td>1.0</td>\n",
       "      <td>761.0</td>\n",
       "      <td>6.0</td>\n",
       "      <td>83</td>\n",
       "    </tr>\n",
       "  </tbody>\n",
       "</table>\n",
       "</div>"
      ],
      "text/plain": [
       "     W   L   G  GS  CG  SHO  SV  IPouts    H  ER  HR  BB  SO  BAOpp   ERA  \\\n",
       "0    1   0  11   0   0    0   0      32   20   8   1  10   5   0.41  6.75   \n",
       "7    6   2  13  13   4    2   0     277   85  32   6  19  49   0.24  3.12   \n",
       "8   11   8  29  29   6    1   0     536  185  80  14  80  93   0.27  4.03   \n",
       "9    9  10  37  28   7    1   2     556  200  99  19  77  96   0.27  4.81   \n",
       "10   8  13  40  21   5    1   2     525  193  79  13  66  74   0.28  4.06   \n",
       "\n",
       "    IBB   WP  HBP   BK    BFP   GF    R  \n",
       "0   0.0  0.0  2.0  0.0   61.0  5.0    8  \n",
       "7   1.0  0.0  1.0  0.0  373.0  0.0   36  \n",
       "8   4.0  3.0  2.0  0.0  773.0  0.0   88  \n",
       "9   7.0  5.0  1.0  0.0  817.0  4.0  104  \n",
       "10  3.0  2.0  1.0  1.0  761.0  6.0   83  "
      ]
     },
     "execution_count": 82,
     "metadata": {},
     "output_type": "execute_result"
    }
   ],
   "source": [
    "print(pitching.shape)\n",
    "pitching.head()"
   ]
  },
  {
   "cell_type": "code",
   "execution_count": 84,
   "metadata": {},
   "outputs": [
    {
     "name": "stdout",
     "output_type": "stream",
     "text": [
      "0.9767147746455569\n"
     ]
    }
   ],
   "source": [
    "X = pitching.drop('W',axis=1)\n",
    "X_norm = normalize(X)\n",
    "pca = PCA(n_components=8)\n",
    "x_pca = pca.fit_transform(X_norm)\n",
    "print(np.sum(pca.explained_variance_ratio_))\n",
    "\n",
    "Y = pitching.W\n",
    "\n",
    "X_train, X_test, y_train, y_test = train_test_split(x_pca, Y,test_size=0.30)"
   ]
  },
  {
   "cell_type": "code",
   "execution_count": 40,
   "metadata": {
    "scrolled": true
   },
   "outputs": [
    {
     "name": "stderr",
     "output_type": "stream",
     "text": [
      "/anaconda3/lib/python3.6/site-packages/sklearn/neural_network/multilayer_perceptron.py:564: ConvergenceWarning: Stochastic Optimizer: Maximum iterations (200) reached and the optimization hasn't converged yet.\n",
      "  % self.max_iter, ConvergenceWarning)\n"
     ]
    }
   ],
   "source": [
    "crossval = []\n",
    "for x in [100,500,800]:\n",
    "    mlpR = MLPRegressor(hidden_layer_sizes=(x,4))\n",
    "    mlpR.fit(X_train, y_train)\n",
    "    mlpCVS = cross_val_score(mlpR, X, Y, cv=10)\n",
    "    crossval.append(mlpCVS)"
   ]
  },
  {
   "cell_type": "code",
   "execution_count": 66,
   "metadata": {},
   "outputs": [
    {
     "name": "stdout",
     "output_type": "stream",
     "text": [
      "100 units: 0.8777906822775481 +/- 0.01892793564070031\n",
      "500 units: 0.7050326737614269 +/- 0.3547020662464155\n",
      "800 units: 0.43221991551229194 +/- 0.4344651690687953\n"
     ]
    }
   ],
   "source": [
    "for x,c in zip([100,500,800],crossval):\n",
    "    print(str(x),'units:',np.mean(c),'+/-',np.std(c))"
   ]
  },
  {
   "cell_type": "code",
   "execution_count": 27,
   "metadata": {},
   "outputs": [
    {
     "name": "stderr",
     "output_type": "stream",
     "text": [
      "/anaconda3/lib/python3.6/site-packages/sklearn/neural_network/multilayer_perceptron.py:564: ConvergenceWarning: Stochastic Optimizer: Maximum iterations (200) reached and the optimization hasn't converged yet.\n",
      "  % self.max_iter, ConvergenceWarning)\n",
      "/anaconda3/lib/python3.6/site-packages/sklearn/neural_network/multilayer_perceptron.py:564: ConvergenceWarning: Stochastic Optimizer: Maximum iterations (200) reached and the optimization hasn't converged yet.\n",
      "  % self.max_iter, ConvergenceWarning)\n",
      "/anaconda3/lib/python3.6/site-packages/sklearn/neural_network/multilayer_perceptron.py:564: ConvergenceWarning: Stochastic Optimizer: Maximum iterations (200) reached and the optimization hasn't converged yet.\n",
      "  % self.max_iter, ConvergenceWarning)\n",
      "/anaconda3/lib/python3.6/site-packages/sklearn/neural_network/multilayer_perceptron.py:564: ConvergenceWarning: Stochastic Optimizer: Maximum iterations (200) reached and the optimization hasn't converged yet.\n",
      "  % self.max_iter, ConvergenceWarning)\n"
     ]
    }
   ],
   "source": [
    "scoreActMean = []\n",
    "scoreActSTD = []\n",
    "for x in ['identity', 'logistic', 'tanh', 'relu']:\n",
    "    mlpRAct = MLPRegressor(activation=x,hidden_layer_sizes=(100,2))\n",
    "    mlpRAct.fit(X_train, y_train)\n",
    "    mlpCVSAct = cross_val_score(mlpRAct, X, Y, cv=10)\n",
    "    scoreActMean.append(np.mean(mlpCVSAct))\n",
    "    scoreActSTD.append(np.std(mlpCVSAct))"
   ]
  },
  {
   "cell_type": "code",
   "execution_count": 67,
   "metadata": {},
   "outputs": [
    {
     "name": "stdout",
     "output_type": "stream",
     "text": [
      "identity: 0.8767406522255081 +/- 0.010478907739852106\n",
      "logistic: 0.8722830223317206 +/- 0.0132359172154903\n",
      "tanh: 0.8629688169964351 +/- 0.014881706799540605\n",
      "relu: 0.6083248166253608 +/- 0.39986993272198545\n"
     ]
    }
   ],
   "source": [
    "for m,s,a in zip(scoreActMean, scoreActSTD, ['identity', 'logistic', 'tanh', 'relu']):\n",
    "    print('{}:'.format(a),m,'+/-',s)"
   ]
  },
  {
   "cell_type": "code",
   "execution_count": 73,
   "metadata": {},
   "outputs": [],
   "source": [
    "alpha = []\n",
    "for a in [0.00001,0.0001,0.001,0.01]:\n",
    "    mlpRA = MLPRegressor(activation='identity',hidden_layer_sizes=(100,4),alpha=a)\n",
    "    mlpRA.fit(X_train, y_train)\n",
    "    mlpRACVS = cross_val_score(mlpRA, X, Y, cv=10)\n",
    "    alpha.append(mlpRACVS)"
   ]
  },
  {
   "cell_type": "code",
   "execution_count": 77,
   "metadata": {},
   "outputs": [
    {
     "name": "stdout",
     "output_type": "stream",
     "text": [
      "1e-05 units: 0.8548359714264979 +/- 0.03796407981518548\n",
      "0.0001 units: 0.8676265811940228 +/- 0.03398533576678677\n",
      "0.001 units: 0.8628045823579914 +/- 0.03078575999586754\n",
      "0.01 units: 0.8716416303938066 +/- 0.017024249844574492\n"
     ]
    }
   ],
   "source": [
    "for x,c in zip([0.00001,0.0001,0.001,0.01], alpha):\n",
    "    print(str(x),'units:',np.mean(c),'+/-',np.std(c))"
   ]
  },
  {
   "cell_type": "markdown",
   "metadata": {},
   "source": [
    "## After tuning parameters"
   ]
  },
  {
   "cell_type": "code",
   "execution_count": 92,
   "metadata": {},
   "outputs": [
    {
     "name": "stdout",
     "output_type": "stream",
     "text": [
      "train score: 0.8393159498012106\n",
      "test score: 0.837409650044028\n",
      "[0.85723818 0.87923798 0.86814784 0.87319275 0.86148788 0.84650906\n",
      " 0.87479018 0.85080664 0.87344818 0.85213348]\n"
     ]
    }
   ],
   "source": [
    "mlp = MLPRegressor(activation='tanh',hidden_layer_sizes=(100,4),alpha=0.01)\n",
    "mlp.fit(X_train, y_train)\n",
    "print('train score:',mlp.score(X_train, y_train))\n",
    "print('test score:', mlp.score(X_test, y_test))\n",
    "print(cross_val_score(mlp, X, Y, cv=10))\n"
   ]
  },
  {
   "cell_type": "markdown",
   "metadata": {},
   "source": [
    "## Random Forest"
   ]
  },
  {
   "cell_type": "code",
   "execution_count": 110,
   "metadata": {},
   "outputs": [],
   "source": [
    "rfcScore = []\n",
    "for md in [200,400,600,800,1000]:\n",
    "    rfc1 = RandomForestRegressor(n_estimators=md, max_depth=10, min_samples_split=6, max_features='auto')\n",
    "    rfc1.fit(X_train, y_train)\n",
    "    rfcScore.append(rfc1.score(X_test, y_test))"
   ]
  },
  {
   "cell_type": "code",
   "execution_count": 115,
   "metadata": {},
   "outputs": [
    {
     "data": {
      "text/plain": [
       "[0.8170909440963595,\n",
       " 0.8162469110815048,\n",
       " 0.8167841767717527,\n",
       " 0.8166492840661905,\n",
       " 0.8168775337791558]"
      ]
     },
     "execution_count": 115,
     "metadata": {},
     "output_type": "execute_result"
    }
   ],
   "source": [
    "rfcScore"
   ]
  },
  {
   "cell_type": "code",
   "execution_count": 113,
   "metadata": {},
   "outputs": [
    {
     "name": "stdout",
     "output_type": "stream",
     "text": [
      "[0.88807569 0.90687004 0.88860447 0.89471113 0.90275659 0.89814612\n",
      " 0.90532187 0.89134143 0.9054013  0.89389846]\n",
      "train score: 0.8837902493570841\n",
      "test score: 0.8168438970063977\n"
     ]
    }
   ],
   "source": [
    "rfc = RandomForestRegressor(n_estimators=500, max_depth=10, min_samples_split=6, max_features='auto')\n",
    "rfc.fit(X_train, y_train)\n",
    "print(cross_val_score(rfc, X, Y, cv=10))\n",
    "print('train score:',rfc.score(X_train, y_train))\n",
    "print('test score:', rfc.score(X_test, y_test))"
   ]
  },
  {
   "cell_type": "markdown",
   "metadata": {},
   "source": [
    "Both models worked relatively well.  In my opinion, parameter optimization was the most important factor here with cross validation scores.  At times the cross_val_score and the rsquared value were precise but not very accurate. "
   ]
  }
 ],
 "metadata": {
  "kernelspec": {
   "display_name": "Python 3",
   "language": "python",
   "name": "python3"
  },
  "language_info": {
   "codemirror_mode": {
    "name": "ipython",
    "version": 3
   },
   "file_extension": ".py",
   "mimetype": "text/x-python",
   "name": "python",
   "nbconvert_exporter": "python",
   "pygments_lexer": "ipython3",
   "version": "3.6.5"
  }
 },
 "nbformat": 4,
 "nbformat_minor": 2
}
