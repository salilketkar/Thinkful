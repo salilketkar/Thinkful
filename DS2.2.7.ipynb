{
 "cells": [
  {
   "cell_type": "code",
   "execution_count": 2,
   "metadata": {},
   "outputs": [],
   "source": [
    "import pandas as pd\n",
    "import numpy as np\n",
    "import matplotlib.pyplot as plt\n",
    "import seaborn as sns\n",
    "%matplotlib inline"
   ]
  },
  {
   "cell_type": "code",
   "execution_count": 3,
   "metadata": {},
   "outputs": [],
   "source": [
    "yelp = pd.read_csv('/Users/salilketkar/thinkful/DS_Unit2/sentiment labelled sentences/yelp_labelled.txt', header=None,delimiter = \"\\t\")\n",
    "yelp.columns = ['sentence' ,'review']\n"
   ]
  },
  {
   "cell_type": "code",
   "execution_count": 4,
   "metadata": {},
   "outputs": [],
   "source": [
    "keywords = ['loved','great','good','amazing','excellent','awesome','love']\n",
    "\n",
    "for key in keywords:\n",
    "    yelp[str(key)] = yelp.sentence.str.contains((str(key)), case=False)\n",
    "                              "
   ]
  },
  {
   "cell_type": "code",
   "execution_count": 5,
   "metadata": {},
   "outputs": [
    {
     "data": {
      "image/png": "[encoded data removed]",
      "text/plain": [
       "<Figure size 1080x720 with 2 Axes>"
      ]
     },
     "metadata": {},
     "output_type": "display_data"
    }
   ],
   "source": [
    "plt.figure(figsize = (15,10))\n",
    "sns.heatmap(yelp.corr())\n",
    "plt.show()"
   ]
  },
  {
   "cell_type": "code",
   "execution_count": 6,
   "metadata": {},
   "outputs": [
    {
     "name": "stdout",
     "output_type": "stream",
     "text": [
      "Number of mislabeled points out of a total 1000 points: 334\n"
     ]
    }
   ],
   "source": [
    "data = yelp[keywords]\n",
    "target = yelp['review']\n",
    "\n",
    "from sklearn.naive_bayes import BernoulliNB\n",
    "\n",
    "bnb = BernoulliNB()\n",
    "\n",
    "bnb.fit(data,target)\n",
    "\n",
    "y_pred = bnb.predict(data)\n",
    "\n",
    "print('Number of mislabeled points out of a total {} points: {}'.format(data.shape[0], (target!= y_pred).sum()))"
   ]
  },
  {
   "cell_type": "code",
   "execution_count": 7,
   "metadata": {},
   "outputs": [],
   "source": [
    "amazon = pd.read_csv('/Users/salilketkar/thinkful/DS_Unit2/sentiment labelled sentences/amazon_cells_labelled.txt',header=None,delimiter=\"\\t\")\n",
    "\n",
    "amazon.columns = ['sentence' ,'review']"
   ]
  },
  {
   "cell_type": "code",
   "execution_count": 8,
   "metadata": {},
   "outputs": [
    {
     "name": "stdout",
     "output_type": "stream",
     "text": [
      "Number of mislabeled points out of a total 1000 points: 496\n"
     ]
    }
   ],
   "source": [
    "dataAmazon = yelp[keywords]\n",
    "targetAmazon = amazon['review']\n",
    "\n",
    "bnbAmazon = BernoulliNB()\n",
    "\n",
    "bnbAmazon.fit(dataAmazon,targetAmazon)\n",
    "\n",
    "y_predAMZN = bnbAmazon.predict(dataAmazon)\n",
    "\n",
    "print('Number of mislabeled points out of a total {} points: {}'.format(dataAmazon.shape[0], (targetAmazon!= y_predAMZN).sum()))"
   ]
  },
  {
   "cell_type": "code",
   "execution_count": 27,
   "metadata": {},
   "outputs": [],
   "source": [
    "imdb = pd.read_csv('/Users/salilketkar/thinkful/DS_Unit2/sentiment labelled sentences/imdb_labelled.txt',header=None,delimiter=\"\\t\")\n",
    "\n",
    "imdb.columns = ['sentence' ,'review']"
   ]
  },
  {
   "cell_type": "code",
   "execution_count": 30,
   "metadata": {},
   "outputs": [
    {
     "name": "stdout",
     "output_type": "stream",
     "text": [
      "Number of mislabeled points out of a total 748 points: 316\n"
     ]
    }
   ],
   "source": [
    "for key in keywords:\n",
    "    imdb[str(key)] = imdb.sentence.str.contains((str(key)), case=False)\n",
    "\n",
    "dataIMDB = imdb[keywords]\n",
    "targetIMDB = imdb['review']\n",
    "\n",
    "bnbIMDB = BernoulliNB()\n",
    "\n",
    "bnbIMDB.fit(dataIMDB,targetIMDB)\n",
    "\n",
    "y_predIMDB = bnbIMDB.predict(dataIMDB)\n",
    "\n",
    "print('Number of mislabeled points out of a total {} points: {}'.format(dataIMDB.shape[0], (targetIMDB!= y_predIMDB).sum()))\n",
    "\n",
    "\n"
   ]
  },
  {
   "cell_type": "markdown",
   "metadata": {},
   "source": [
    "I thought of the most common words I would use when writing a positive Yelp review.  The yelp model had an accuracy of 67%.  When I applied these keywords to the Amazon and IMDB reviews, the accuracy went down in both cases.  People must use different keywords when writing about products and movies.  "
   ]
  },
  {
   "cell_type": "code",
   "execution_count": null,
   "metadata": {},
   "outputs": [],
   "source": []
  }
 ],
 "metadata": {
  "kernelspec": {
   "display_name": "Python 3",
   "language": "python",
   "name": "python3"
  },
  "language_info": {
   "codemirror_mode": {
    "name": "ipython",
    "version": 3
   },
   "file_extension": ".py",
   "mimetype": "text/x-python",
   "name": "python",
   "nbconvert_exporter": "python",
   "pygments_lexer": "ipython3",
   "version": "3.6.5"
  }
 },
 "nbformat": 4,
 "nbformat_minor": 2
}
