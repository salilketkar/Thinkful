{
 "cells": [
  {
   "cell_type": "code",
   "execution_count": 38,
   "metadata": {},
   "outputs": [],
   "source": [
    "import numpy as np\n",
    "\n",
    "class Node:\n",
    "    def __init__(self, val):\n",
    "        self.left = None\n",
    "        self.right = None\n",
    "        self.val = val\n",
    "\n",
    "    def insert(self, val):\n",
    "        if self.val:\n",
    "            if val < self.val:\n",
    "                if self.left is None:\n",
    "                    self.left = Node(val)\n",
    "                else:\n",
    "                    self.left.insert(val)\n",
    "            elif val > self.val:\n",
    "                    if self.right is None:\n",
    "                        self.right = Node(val)\n",
    "                    else: \n",
    "                        self.right.insert(val)\n",
    "        else:\n",
    "            self.val = val\n",
    "    def PrintTree(self):\n",
    "        if self.left:\n",
    "            self.left.PrintTree()\n",
    "        print(self.val)\n",
    "        if self.right:\n",
    "            self.right.PrintTree()"
   ]
  },
  {
   "cell_type": "code",
   "execution_count": 41,
   "metadata": {},
   "outputs": [
    {
     "name": "stdout",
     "output_type": "stream",
     "text": [
      "10\n",
      "434\n",
      "453\n",
      "669\n",
      "1227\n",
      "1950\n",
      "2420\n",
      "3087\n",
      "3641\n",
      "5555\n",
      "6488\n",
      "6721\n",
      "7447\n",
      "8119\n",
      "9560\n",
      "9892\n"
     ]
    }
   ],
   "source": [
    "root = Node(10)\n",
    "for n in random.sample(range(10000), 15):\n",
    "    root.insert(n)\n",
    "root.PrintTree()"
   ]
  },
  {
   "cell_type": "code",
   "execution_count": null,
   "metadata": {},
   "outputs": [],
   "source": []
  }
 ],
 "metadata": {
  "kernelspec": {
   "display_name": "Python 3",
   "language": "python",
   "name": "python3"
  },
  "language_info": {
   "codemirror_mode": {
    "name": "ipython",
    "version": 3
   },
   "file_extension": ".py",
   "mimetype": "text/x-python",
   "name": "python",
   "nbconvert_exporter": "python",
   "pygments_lexer": "ipython3",
   "version": "3.6.5"
  }
 },
 "nbformat": 4,
 "nbformat_minor": 2
}
