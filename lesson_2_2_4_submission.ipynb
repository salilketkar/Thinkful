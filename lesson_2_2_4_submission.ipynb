{
 "cells": [
  {
   "cell_type": "markdown",
   "metadata": {},
   "source": [
    "The figure below represents the percentages of conventional and organic small, medium, and large avocados purchased in San Diego in 2015.  The Board of Haas Avocados did not provide complete data for organic large haas avocados purchased in San Diego in 2015.  To my surprise, more medium organic avocados were purchased than small organic.    \n",
    "\n",
    "<img src=\"../thinkful/SD2015pie.png\" />\n",
    "\n",
    "\n",
    "I have plotted 2015 San Diego organic and conventional avocado prices so they can be compared with the national average.  The conventional average avocado prices for San Diego vary more but tend to stay around the 1.00$ mark, similar to the national average.  From June to July, the national average drops suddenly.  Without performing the proper statistical analysis, I would guess these points are outliers.  \n",
    "\n",
    "<img src=\"../thinkful/SD2015comparison.png\" />\n",
    "\n",
    "These two plots follow similar trends just at differnet scales. I'm surprised to see the average price of Haas avocados in San Diego so high consdering much of the fruit is grown in the Southern California/Baja region.  I wonder what factor contributed to the gradual increase in prices.  Perhaps it was the lack of rainfall, increasing prices of water, or maybe just supply/demand.  \n",
    "\n",
    "<img src=\"../thinkful/SD2016comparison.png\" />\n",
    "\n",
    "Both plots more or less follow the same trend, reaching maximum average prices around August.  From a recent [article](http://www.sandiegouniontribune.com/opinion/the-conversation/sd-avocado-supply-cheap-guacamole-20180525-htmlstory.html), the average price of a Haas avocado is now 1.03$.  \n",
    "\n",
    "<img src=\"../thinkful/SD2017comparison.png\" />"
   ]
  }
 ],
 "metadata": {
  "kernelspec": {
   "display_name": "Python 3",
   "language": "python",
   "name": "python3"
  },
  "language_info": {
   "codemirror_mode": {
    "name": "ipython",
    "version": 3
   },
   "file_extension": ".py",
   "mimetype": "text/x-python",
   "name": "python",
   "nbconvert_exporter": "python",
   "pygments_lexer": "ipython3",
   "version": "3.7.0"
  }
 },
 "nbformat": 4,
 "nbformat_minor": 2
}
