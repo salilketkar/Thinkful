{
 "cells": [
  {
   "cell_type": "markdown",
   "metadata": {},
   "source": [
    "Question 1:\n",
    "\n",
    "P(HTTH) = 1/2 * 1/2 * 1/2 * 1/2 = 1/16\n",
    "P(HHHH) = 1/16\n",
    "P(TTHH) = 2/16\n",
    "\n",
    "Multiply the probability of each event.\n",
    "\n",
    "Question 2:\n",
    "\n",
    "24 women + 21 men = 45 total\n",
    "P(man) = 21/45\n",
    "P(not man) 1 - P(man) = 24/45\n",
    "\n",
    "Question 3:\n",
    "\n",
    "P(Travel) = 0.10\n",
    "P(plane crash) = .00005\n",
    "P(travel + crash) = 0.1 * 0.00005 = 0.000005 = 0.0005%\n",
    "\n",
    "Question 4:\n",
    "\n",
    "Sample size is too small and not representative of entire population. "
   ]
  }
 ],
 "metadata": {
  "kernelspec": {
   "display_name": "Python 3",
   "language": "python",
   "name": "python3"
  },
  "language_info": {
   "codemirror_mode": {
    "name": "ipython",
    "version": 3
   },
   "file_extension": ".py",
   "mimetype": "text/x-python",
   "name": "python",
   "nbconvert_exporter": "python",
   "pygments_lexer": "ipython3",
   "version": "3.7.0"
  }
 },
 "nbformat": 4,
 "nbformat_minor": 2
}
