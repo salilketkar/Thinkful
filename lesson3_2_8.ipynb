{
 "cells": [
  {
   "cell_type": "markdown",
   "metadata": {},
   "source": [
    "A Bayesian approach would see the probability of the host picking a particular door, change after the contestant picks his/her door.  The intial pick by the contestant and the pick by the host are not independent events.  The door the host opens does not provide any new information about the other two doors.   \n",
    "\n",
    "\n",
    "Without taking the Bayesian approach, there would be a 50% chance of picking the car after host reveals his door is a goat.  "
   ]
  }
 ],
 "metadata": {
  "kernelspec": {
   "display_name": "Python 3",
   "language": "python",
   "name": "python3"
  },
  "language_info": {
   "codemirror_mode": {
    "name": "ipython",
    "version": 3
   },
   "file_extension": ".py",
   "mimetype": "text/x-python",
   "name": "python",
   "nbconvert_exporter": "python",
   "pygments_lexer": "ipython3",
   "version": "3.7.0"
  }
 },
 "nbformat": 4,
 "nbformat_minor": 2
}
