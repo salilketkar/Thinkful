{
 "cells": [
  {
   "cell_type": "code",
   "execution_count": 78,
   "metadata": {},
   "outputs": [],
   "source": [
    "import time\n",
    "import random\n",
    "\n",
    "random.seed(a=100)\n",
    "\n",
    "short_list = list(random.sample(range(1000000), 10))\n",
    "long_list = list(random.sample(range(1000000), 10000))"
   ]
  },
  {
   "cell_type": "code",
   "execution_count": 14,
   "metadata": {},
   "outputs": [],
   "source": [
    "def insert_sort(input_list):\n",
    "    \n",
    "    #copy input to a new list\n",
    "    new_list = input_list\n",
    "    \n",
    "    for i in range(len(new_list)):\n",
    "        #assign place to new variable\n",
    "        j = i\n",
    "        \n",
    "        #move through list as long as previous integer is larger than current element of list \n",
    "        while j > 0 and new_list[j-1] > new_list[j]:\n",
    "            \n",
    "            #swap places\n",
    "            new_list[j-1], new_list[j] = new_list[j], new_list[j-1]\n",
    "            \n",
    "            j = j - 1\n",
    "        return new_list"
   ]
  },
  {
   "cell_type": "code",
   "execution_count": 15,
   "metadata": {},
   "outputs": [
    {
     "name": "stdout",
     "output_type": "stream",
     "text": [
      "---4.673004150390625e-05 seconds ---\n",
      "[152745, 481850, 477025, 997948, 808225, 183236, 739784, 412125, 767514, 366725]\n"
     ]
    }
   ],
   "source": [
    "#test time on short list \n",
    "start_time = time.time()\n",
    "\n",
    "insert_sort(short_list)\n",
    "\n",
    "print('---%s seconds ---' % (time.time()-start_time))\n",
    "print(insert_sort(short_list))"
   ]
  },
  {
   "cell_type": "code",
   "execution_count": 17,
   "metadata": {},
   "outputs": [
    {
     "name": "stdout",
     "output_type": "stream",
     "text": [
      "--- 4.887580871582031e-05 seconds ---\n"
     ]
    }
   ],
   "source": [
    "# Test on the long list.\n",
    "start_time = time.time()\n",
    "\n",
    "insert_sort(long_list)\n",
    "\n",
    "print(\"--- %s seconds ---\" % (time.time() - start_time))"
   ]
  },
  {
   "cell_type": "code",
   "execution_count": 23,
   "metadata": {},
   "outputs": [],
   "source": [
    "def merge(a,b):\n",
    "    #check for empty list\n",
    "    if len(a) == 0 or len(b) == 0:\n",
    "        return a or b\n",
    "    \n",
    "    #start w empty result\n",
    "    result = []\n",
    "    i, j = 0,0\n",
    "    #set while condition to ensure we only iterate for lenght of our two lists\n",
    "    while (len(result) < len(a) + len(b)):\n",
    "        #if a next element is lower, append that element to result\n",
    "        if a[i] < b[j]:\n",
    "            result.append(a[i])\n",
    "            i += 1\n",
    "        else:\n",
    "            result.append(b[j])\n",
    "            \n",
    "            \n",
    "        if i == len(a) or j == len(b):\n",
    "            result.extend(a[i:] or b[j:])\n",
    "            break\n",
    "    return result\n",
    "        \n",
    "def merge_sort(lst):\n",
    "    if len(lst) < 2: \n",
    "        return lst\n",
    "    \n",
    "    mid = int(len(lst)/2)\n",
    "    a = merge_sort(lst[:mid])\n",
    "    b = merge_sort(lst[mid:])\n",
    "    \n",
    "    return merge(a,b)"
   ]
  },
  {
   "cell_type": "code",
   "execution_count": 24,
   "metadata": {},
   "outputs": [
    {
     "name": "stdout",
     "output_type": "stream",
     "text": [
      "--- 0.00020003318786621094 seconds ---\n",
      "[152745, 481850, 477025, 997948, 808225, 183236, 739784, 412125, 767514, 366725]\n"
     ]
    }
   ],
   "source": [
    "#test on short list \n",
    "start_time = time.time()\n",
    "\n",
    "merge_sort(short_list)\n",
    "\n",
    "print('--- %s seconds ---' % (time.time() - start_time))\n",
    "print(insert_sort(short_list))\n"
   ]
  },
  {
   "cell_type": "code",
   "execution_count": 25,
   "metadata": {},
   "outputs": [
    {
     "name": "stdout",
     "output_type": "stream",
     "text": [
      "--- 0.07334399223327637 seconds ---\n"
     ]
    }
   ],
   "source": [
    "#test on long list \n",
    "\n",
    "start_time = time.time()\n",
    "\n",
    "merge_sort(long_list)\n",
    "\n",
    "print('--- %s seconds ---' % (time.time() - start_time))"
   ]
  },
  {
   "cell_type": "code",
   "execution_count": 26,
   "metadata": {},
   "outputs": [
    {
     "name": "stdout",
     "output_type": "stream",
     "text": [
      "--- 0.0042459964752197266 seconds ---\n"
     ]
    }
   ],
   "source": [
    "start_time = time.time()\n",
    "sorted(long_list)\n",
    "\n",
    "print('--- %s seconds ---' % (time.time() - start_time))"
   ]
  },
  {
   "cell_type": "code",
   "execution_count": 75,
   "metadata": {},
   "outputs": [],
   "source": [
    "#heap sort\n",
    "\n",
    "def select_sort(lst):\n",
    "    for i in range(len(lst)):\n",
    "        minimum = min(lst[i:])\n",
    "        min_index = lst[i:].index(minimum)\n",
    "        lst[i+min_index] = lst[i]\n",
    "        lst[i] = minimum\n",
    "    return lst\n",
    "        "
   ]
  },
  {
   "cell_type": "code",
   "execution_count": 79,
   "metadata": {},
   "outputs": [
    {
     "name": "stdout",
     "output_type": "stream",
     "text": [
      "--- 0.003300189971923828 seconds ---\n"
     ]
    }
   ],
   "source": [
    "#test on short list \n",
    "\n",
    "start_time = time.time()\n",
    "\n",
    "merge_sort(short_list)\n",
    "\n",
    "print('--- %s seconds ---' % (time.time() - start_time))"
   ]
  },
  {
   "cell_type": "code",
   "execution_count": 80,
   "metadata": {},
   "outputs": [
    {
     "name": "stdout",
     "output_type": "stream",
     "text": [
      "--- 0.006041049957275391 seconds ---\n"
     ]
    }
   ],
   "source": [
    "#test on long list \n",
    "start_time = time.time()\n",
    "sorted(long_list)\n",
    "\n",
    "print('--- %s seconds ---' % (time.time() - start_time))"
   ]
  },
  {
   "cell_type": "code",
   "execution_count": null,
   "metadata": {},
   "outputs": [],
   "source": []
  }
 ],
 "metadata": {
  "kernelspec": {
   "display_name": "Python 3",
   "language": "python",
   "name": "python3"
  },
  "language_info": {
   "codemirror_mode": {
    "name": "ipython",
    "version": 3
   },
   "file_extension": ".py",
   "mimetype": "text/x-python",
   "name": "python",
   "nbconvert_exporter": "python",
   "pygments_lexer": "ipython3",
   "version": "3.6.5"
  }
 },
 "nbformat": 4,
 "nbformat_minor": 2
}
