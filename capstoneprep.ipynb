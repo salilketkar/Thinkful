{
 "cells": [
  {
   "cell_type": "markdown",
   "metadata": {},
   "source": [
    "# 4.2.2 Capstone Analytic Report and Research Proposal"
   ]
  },
  {
   "cell_type": "code",
   "execution_count": 1,
   "metadata": {},
   "outputs": [],
   "source": [
    "import numpy as np\n",
    "import pandas as pd\n",
    "import matplotlib.pyplot as plt \n",
    "from scipy.stats import ttest_ind\n",
    "%matplotlib inline"
   ]
  },
  {
   "cell_type": "markdown",
   "metadata": {},
   "source": [
    "\n",
    "\n",
    "## Data Set Description\n",
    "by: Salil Ketkar\n",
    "\n",
    "#### Data Source: https://data.lacounty.gov/Health/LOS-ANGELES-COUNTY-RESTAURANT-AND-MARKET-INSPECTIO/6ni6-h5kp\n",
    "\n",
    "#### Context:  \n",
    "\n",
    "The dataset contains data from restaurant and market health evaluations from the county of Los Angeles.  All inspections were performed in 2015 to 2018.  Data will be analzyed and visualized to answer the following questions:\n",
    "\n",
    "1. Does the risk given to each restaurant accurately represent the score received?\n",
    "2. How do grades/scores vary across zipcodes? How do zip codes rank in terms of average scores? \n",
    "3. How do the scores of chain restaurants compare to score of local spots?  For example, chipotle mexican grill v. local mexican restaurants.  \n",
    "\n",
    "\n",
    "\n",
    "#### Abbreviations and Scales: \n",
    "serial_number - unique ID for each inspection (string) activity_date - date of inspection (date: yyyy/mm/dd format) facility_name - name of facility (string) score - the score of the inpsection (integer 0 to 100) grade - the grade of the inspection (string A to F) service_code - identifies the service performed (string) service description - describes the service that was performed (string) employee_ID - id number of the employee who performed the inspection (string) facility_address - address of the facility (string) facility_city - address of the facility (string) \n",
    "facility_ID - represents a specific facility record (string) facility_state - state of the facility (string) facility_zip - zip code of the facility (integer) owner_id - represents a specific owner record (string) owner_name - name of the legal owner (string) pe_description - describes the type of program (string) program_element_pe - the code identifies the type of program (string) program_name - A unique name for each program. There may be more than one program at a facility (string) program_status - indicates the status of the program (string) record_id - \t\n",
    "Unique ID number for each health program at a facility\n",
    "\n"
   ]
  },
  {
   "cell_type": "code",
   "execution_count": 234,
   "metadata": {},
   "outputs": [],
   "source": [
    "#upload csv containing data set provided by LA county\n",
    "\n",
    "la_inspections = pd.read_csv('/Users/salilketkar/thinkful/LA_health_score_inspections.csv')"
   ]
  },
  {
   "cell_type": "code",
   "execution_count": 235,
   "metadata": {},
   "outputs": [
    {
     "data": {
      "text/html": [
       "<div>\n",
       "<style scoped>\n",
       "    .dataframe tbody tr th:only-of-type {\n",
       "        vertical-align: middle;\n",
       "    }\n",
       "\n",
       "    .dataframe tbody tr th {\n",
       "        vertical-align: top;\n",
       "    }\n",
       "\n",
       "    .dataframe thead th {\n",
       "        text-align: right;\n",
       "    }\n",
       "</style>\n",
       "<table border=\"1\" class=\"dataframe\">\n",
       "  <thead>\n",
       "    <tr style=\"text-align: right;\">\n",
       "      <th></th>\n",
       "      <th>activity_date_short</th>\n",
       "      <th>facility_name_new</th>\n",
       "      <th>score</th>\n",
       "      <th>grade</th>\n",
       "      <th>facility_city</th>\n",
       "      <th>facility_state</th>\n",
       "      <th>facility_zip_short</th>\n",
       "      <th>pe_description</th>\n",
       "      <th>facility_id</th>\n",
       "    </tr>\n",
       "  </thead>\n",
       "  <tbody>\n",
       "    <tr>\n",
       "      <th>0</th>\n",
       "      <td>2017-12-29</td>\n",
       "      <td>Habitat Coffee Shop</td>\n",
       "      <td>95</td>\n",
       "      <td>A</td>\n",
       "      <td>Los Angeles</td>\n",
       "      <td>CA</td>\n",
       "      <td>90065</td>\n",
       "      <td>Restaurant (0-30) Seats Moderate Risk</td>\n",
       "      <td>FA0170465</td>\n",
       "    </tr>\n",
       "    <tr>\n",
       "      <th>1</th>\n",
       "      <td>2017-12-29</td>\n",
       "      <td>Reillys</td>\n",
       "      <td>92</td>\n",
       "      <td>A</td>\n",
       "      <td>Los Angeles</td>\n",
       "      <td>CA</td>\n",
       "      <td>90045</td>\n",
       "      <td>Restaurant (0-30) Seats Moderate Risk</td>\n",
       "      <td>FA0244690</td>\n",
       "    </tr>\n",
       "    <tr>\n",
       "      <th>2</th>\n",
       "      <td>2017-12-29</td>\n",
       "      <td>Street Churros</td>\n",
       "      <td>93</td>\n",
       "      <td>A</td>\n",
       "      <td>Los Angeles</td>\n",
       "      <td>CA</td>\n",
       "      <td>90028</td>\n",
       "      <td>Restaurant (0-30) Seats Low Risk</td>\n",
       "      <td>FA0224109</td>\n",
       "    </tr>\n",
       "    <tr>\n",
       "      <th>3</th>\n",
       "      <td>2017-12-29</td>\n",
       "      <td>Rio Gentlemans Club</td>\n",
       "      <td>93</td>\n",
       "      <td>A</td>\n",
       "      <td>Los Angeles</td>\n",
       "      <td>CA</td>\n",
       "      <td>90064</td>\n",
       "      <td>Restaurant (61-150) Seats Low Risk</td>\n",
       "      <td>FA0046462</td>\n",
       "    </tr>\n",
       "    <tr>\n",
       "      <th>4</th>\n",
       "      <td>2017-12-29</td>\n",
       "      <td>Le Pain Quotidien</td>\n",
       "      <td>93</td>\n",
       "      <td>A</td>\n",
       "      <td>Los Angeles</td>\n",
       "      <td>CA</td>\n",
       "      <td>90049</td>\n",
       "      <td>Restaurant (61-150) Seats High Risk</td>\n",
       "      <td>FA0034788</td>\n",
       "    </tr>\n",
       "  </tbody>\n",
       "</table>\n",
       "</div>"
      ],
      "text/plain": [
       "  activity_date_short    facility_name_new  score grade facility_city  \\\n",
       "0          2017-12-29  Habitat Coffee Shop     95     A   Los Angeles   \n",
       "1          2017-12-29              Reillys     92     A   Los Angeles   \n",
       "2          2017-12-29       Street Churros     93     A   Los Angeles   \n",
       "3          2017-12-29  Rio Gentlemans Club     93     A   Los Angeles   \n",
       "4          2017-12-29    Le Pain Quotidien     93     A   Los Angeles   \n",
       "\n",
       "  facility_state facility_zip_short                         pe_description  \\\n",
       "0             CA              90065  Restaurant (0-30) Seats Moderate Risk   \n",
       "1             CA              90045  Restaurant (0-30) Seats Moderate Risk   \n",
       "2             CA              90028       Restaurant (0-30) Seats Low Risk   \n",
       "3             CA              90064     Restaurant (61-150) Seats Low Risk   \n",
       "4             CA              90049    Restaurant (61-150) Seats High Risk   \n",
       "\n",
       "  facility_id  \n",
       "0   FA0170465  \n",
       "1   FA0244690  \n",
       "2   FA0224109  \n",
       "3   FA0046462  \n",
       "4   FA0034788  "
      ]
     },
     "execution_count": 235,
     "metadata": {},
     "output_type": "execute_result"
    }
   ],
   "source": [
    "#formatting data\n",
    "la_inspections['facility_city'] = la_inspections['facility_city'].str.title()\n",
    "la_inspections['pe_description'] = la_inspections['pe_description'].str.title()\n",
    "\n",
    "#shorten zip code to be 5 numbers and date follow yyyy-mm-dd format\n",
    "la_inspections['facility_zip_short'] = la_inspections['facility_zip'].apply(lambda x: x[:5])\n",
    "la_inspections['activity_date_short'] = la_inspections['activity_date'].apply(lambda x: x[:10])\n",
    "la_inspections['facility_name_new'] = la_inspections['facility_name'].apply(lambda x: x.replace(\"'\",\"\"))\n",
    "la_inspections['facility_name_new'] = la_inspections['facility_name_new'].str.title()\n",
    "\n",
    "#creating new dataset with relevant columns\n",
    "la_inspections_new = la_inspections[['activity_date_short','facility_name_new','score','grade','facility_city','facility_state',\n",
    "                                     'facility_zip_short','pe_description','facility_id']]\n",
    "la_inspections_new.head()"
   ]
  },
  {
   "cell_type": "code",
   "execution_count": 236,
   "metadata": {},
   "outputs": [
    {
     "data": {
      "text/plain": [
       "count    58872.000000\n",
       "mean        93.307922\n",
       "std          3.996712\n",
       "min         64.000000\n",
       "25%         91.000000\n",
       "50%         94.000000\n",
       "75%         96.000000\n",
       "max        100.000000\n",
       "Name: score, dtype: float64"
      ]
     },
     "execution_count": 236,
     "metadata": {},
     "output_type": "execute_result"
    }
   ],
   "source": [
    "la_inspections['score'].describe()"
   ]
  },
  {
   "cell_type": "code",
   "execution_count": 237,
   "metadata": {},
   "outputs": [
    {
     "data": {
      "image/png": "[encoded data removed]",
      "text/plain": [
       "<Figure size 1440x720 with 1 Axes>"
      ]
     },
     "metadata": {},
     "output_type": "display_data"
    }
   ],
   "source": [
    "#create bar graph to show what zipcodes have the most restaurants that were inspected.  No duplicates\n",
    "la_inspections_facilityID = la_inspections_new.groupby(['facility_id', 'facility_zip_short']).size().reset_index(name='Freq')\n",
    "\n",
    "#Create a pnd series of zip code sorted by number of facility_id (Freq)\n",
    "Freq=la_inspections_facilityID.groupby('facility_zip_short').count()['Freq'].sort_values(axis=0, ascending=False)\n",
    "\n",
    "plt.figure(figsize=(20, 10))\n",
    "Freq.nlargest(20).plot(kind='bar',color='blue',title='Markets/Restaurants Inspected in Top 20 Zip Codes', alpha=0.6)\n",
    "plt.xlabel('Zip Codes')\n",
    "plt.ylabel('Count')\n",
    "plt.show()"
   ]
  },
  {
   "cell_type": "code",
   "execution_count": 238,
   "metadata": {},
   "outputs": [
    {
     "data": {
      "image/png": "[encoded data removed]",
      "text/plain": [
       "<Figure size 1080x720 with 1 Axes>"
      ]
     },
     "metadata": {},
     "output_type": "display_data"
    }
   ],
   "source": [
    "#created boxplot to determine where values lie\n",
    "plt.figure(figsize=(15, 10))\n",
    "la_inspections_new.boxplot('score')\n",
    "plt.title(\"Health Inspection Scores\")\n",
    "plt.show()"
   ]
  },
  {
   "cell_type": "code",
   "execution_count": 244,
   "metadata": {},
   "outputs": [
    {
     "name": "stderr",
     "output_type": "stream",
     "text": [
      "/Library/Frameworks/Python.framework/Versions/3.7/lib/python3.7/site-packages/ipykernel_launcher.py:5: SettingWithCopyWarning: \n",
      "A value is trying to be set on a copy of a slice from a DataFrame.\n",
      "Try using .loc[row_indexer,col_indexer] = value instead\n",
      "\n",
      "See the caveats in the documentation: http://pandas.pydata.org/pandas-docs/stable/indexing.html#indexing-view-versus-copy\n",
      "  \"\"\"\n",
      "/Library/Frameworks/Python.framework/Versions/3.7/lib/python3.7/site-packages/ipykernel_launcher.py:10: SettingWithCopyWarning: \n",
      "A value is trying to be set on a copy of a slice from a DataFrame.\n",
      "Try using .loc[row_indexer,col_indexer] = value instead\n",
      "\n",
      "See the caveats in the documentation: http://pandas.pydata.org/pandas-docs/stable/indexing.html#indexing-view-versus-copy\n",
      "  # Remove the CWD from sys.path while we load stuff.\n",
      "/Library/Frameworks/Python.framework/Versions/3.7/lib/python3.7/site-packages/ipykernel_launcher.py:15: SettingWithCopyWarning: \n",
      "A value is trying to be set on a copy of a slice from a DataFrame.\n",
      "Try using .loc[row_indexer,col_indexer] = value instead\n",
      "\n",
      "See the caveats in the documentation: http://pandas.pydata.org/pandas-docs/stable/indexing.html#indexing-view-versus-copy\n",
      "  from ipykernel import kernelapp as app\n"
     ]
    },
    {
     "data": {
      "image/png": "[encoded data removed]",
      "text/plain": [
       "<Figure size 1080x360 with 3 Axes>"
      ]
     },
     "metadata": {},
     "output_type": "display_data"
    }
   ],
   "source": [
    "'''creating boxplots for scores of restarurants that were classified as low, medium, and high risk to determine if \n",
    "there is any significant change in the scores.\n",
    "'''\n",
    "\n",
    "la_inspections_new['pe_description_mod']=la_inspections_new['pe_description'].apply(lambda x: x.find('Moderate Risk')>0)\n",
    "la2 = la_inspections_new[(la_inspections_new['pe_description_mod'] == True)]\n",
    "la2= la2[(la2['score']>=84)]\n",
    "la2.sort_values('score',ascending=True).head()\n",
    "\n",
    "la_inspections_new['pe_description_high']=la_inspections_new['pe_description'].apply(lambda x: x.find('High Risk')>0)\n",
    "la3 = la_inspections_new[(la_inspections_new['pe_description_high'] == True)]\n",
    "la3= la3[(la3['score']>=84)]\n",
    "la3.sort_values('score',ascending=True).head()\n",
    "\n",
    "fig = plt.figure(figsize=(15, 5))\n",
    "\n",
    "fig.add_subplot(1,3,1)\n",
    "la1['score'].plot(kind='box',title='Low Risk')\n",
    "\n",
    "\n",
    "fig.add_subplot(1,3,2)\n",
    "la2['score'].plot(kind='box',title='Moderate Risk')\n",
    "\n",
    "\n",
    "fig.add_subplot(1,3,3)\n",
    "la3['score'].plot(kind='box',title='High Risk')\n",
    "plt.show()\n"
   ]
  },
  {
   "cell_type": "code",
   "execution_count": 243,
   "metadata": {},
   "outputs": [
    {
     "data": {
      "image/png": "[encoded data removed]",
      "text/plain": [
       "<Figure size 1080x360 with 1 Axes>"
      ]
     },
     "metadata": {},
     "output_type": "display_data"
    }
   ],
   "source": [
    "#create bar graph to show what zipcodes have the most restaurants that were inspected.  No duplicates\n",
    "la_inspections_facilityID = la_inspections_new.groupby(['facility_id', 'facility_zip_short']).size().reset_index(name='Freq')\n",
    "\n",
    "#Create a pnd series of zip code sorted by number of facility_id (Freq)\n",
    "Freq=la_inspections_facilityID.groupby('facility_zip_short').count()['Freq'].sort_values(axis=0, ascending=False)\n",
    "\n",
    "#ranking zipcodes based on average score\n",
    "df_rank=la_inspections_new.groupby('facility_zip_short')['score'].agg(['mean'])\n",
    "rank = df_rank.join(Freq)\n",
    "rank = rank.nlargest(20,'Freq').sort_values('mean',ascending=True)\n",
    "\n",
    "plt.figure(figsize=(15, 5))\n",
    "plt.stem(rank['mean'])\n",
    "plt.ylim(90,95)\n",
    "plt.xticks(np.arange(20),rotation='vertical')\n",
    "plt.show()"
   ]
  },
  {
   "cell_type": "code",
   "execution_count": 258,
   "metadata": {},
   "outputs": [
    {
     "name": "stderr",
     "output_type": "stream",
     "text": [
      "/Library/Frameworks/Python.framework/Versions/3.7/lib/python3.7/site-packages/ipykernel_launcher.py:4: SettingWithCopyWarning: \n",
      "A value is trying to be set on a copy of a slice from a DataFrame.\n",
      "Try using .loc[row_indexer,col_indexer] = value instead\n",
      "\n",
      "See the caveats in the documentation: http://pandas.pydata.org/pandas-docs/stable/indexing.html#indexing-view-versus-copy\n",
      "  after removing the cwd from sys.path.\n"
     ]
    }
   ],
   "source": [
    "#comparing local restaurants to chain \n",
    "#local mexican restaurants\n",
    "\n",
    "la_inspections_new['local']=la_inspections_new['facility_name_new'].apply(lambda x: x.find('Taco' or 'Mexican')>0)\n",
    "localMex = la_inspections_new[(la_inspections_new['local'] == True)]\n",
    "localMex= localMex[(localMex['score']>=84)]\n",
    "#localMex.sort_values('score',ascending=False).head()\n"
   ]
  },
  {
   "cell_type": "code",
   "execution_count": 290,
   "metadata": {},
   "outputs": [
    {
     "name": "stderr",
     "output_type": "stream",
     "text": [
      "/Library/Frameworks/Python.framework/Versions/3.7/lib/python3.7/site-packages/ipykernel_launcher.py:1: SettingWithCopyWarning: \n",
      "A value is trying to be set on a copy of a slice from a DataFrame.\n",
      "Try using .loc[row_indexer,col_indexer] = value instead\n",
      "\n",
      "See the caveats in the documentation: http://pandas.pydata.org/pandas-docs/stable/indexing.html#indexing-view-versus-copy\n",
      "  \"\"\"Entry point for launching an IPython kernel.\n"
     ]
    },
    {
     "data": {
      "text/html": [
       "<div>\n",
       "<style scoped>\n",
       "    .dataframe tbody tr th:only-of-type {\n",
       "        vertical-align: middle;\n",
       "    }\n",
       "\n",
       "    .dataframe tbody tr th {\n",
       "        vertical-align: top;\n",
       "    }\n",
       "\n",
       "    .dataframe thead th {\n",
       "        text-align: right;\n",
       "    }\n",
       "</style>\n",
       "<table border=\"1\" class=\"dataframe\">\n",
       "  <thead>\n",
       "    <tr style=\"text-align: right;\">\n",
       "      <th></th>\n",
       "      <th>activity_date_short</th>\n",
       "      <th>facility_name_new</th>\n",
       "      <th>score</th>\n",
       "      <th>grade</th>\n",
       "      <th>facility_city</th>\n",
       "      <th>facility_state</th>\n",
       "      <th>facility_zip_short</th>\n",
       "      <th>pe_description</th>\n",
       "      <th>facility_id</th>\n",
       "      <th>pe_description_low</th>\n",
       "      <th>pe_description_mod</th>\n",
       "      <th>pe_description_high</th>\n",
       "      <th>local</th>\n",
       "      <th>chain</th>\n",
       "    </tr>\n",
       "  </thead>\n",
       "  <tbody>\n",
       "  </tbody>\n",
       "</table>\n",
       "</div>"
      ],
      "text/plain": [
       "Empty DataFrame\n",
       "Columns: [activity_date_short, facility_name_new, score, grade, facility_city, facility_state, facility_zip_short, pe_description, facility_id, pe_description_low, pe_description_mod, pe_description_high, local, chain]\n",
       "Index: []"
      ]
     },
     "execution_count": 290,
     "metadata": {},
     "output_type": "execute_result"
    }
   ],
   "source": [
    "la_inspections_new['chain']=la_inspections_new['facility_name_new'].apply(lambda x: x.find('Chipotle')>0)                                                                                                      \n",
    "chainMex = la_inspections_new[(la_inspections_new['chain'] == True)]\n",
    "chainMex = chainMex[(chainMex['score']>=84)]\n",
    "chainMex.sort_values('score',ascending=True).head()"
   ]
  },
  {
   "cell_type": "code",
   "execution_count": null,
   "metadata": {},
   "outputs": [],
   "source": []
  }
 ],
 "metadata": {
  "kernelspec": {
   "display_name": "Python 3",
   "language": "python",
   "name": "python3"
  },
  "language_info": {
   "codemirror_mode": {
    "name": "ipython",
    "version": 3
   },
   "file_extension": ".py",
   "mimetype": "text/x-python",
   "name": "python",
   "nbconvert_exporter": "python",
   "pygments_lexer": "ipython3",
   "version": "3.7.0"
  }
 },
 "nbformat": 4,
 "nbformat_minor": 2
}
