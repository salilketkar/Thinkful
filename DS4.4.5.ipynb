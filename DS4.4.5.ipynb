{
 "cells": [
  {
   "cell_type": "markdown",
   "metadata": {},
   "source": [
    "## Kickstarter NLP - Success or Failure"
   ]
  },
  {
   "cell_type": "markdown",
   "metadata": {},
   "source": [
    "The objective is to classify a kickstarter campaign as a success or failure based on its brief description.  "
   ]
  },
  {
   "cell_type": "code",
   "execution_count": 2,
   "metadata": {},
   "outputs": [],
   "source": [
    "import pandas as pd\n",
    "import numpy as np\n",
    "import matplotlib.pyplot as plt\n",
    "import spacy\n",
    "import scipy\n",
    "import seaborn as sns\n",
    "import re\n",
    "from nltk.corpus import stopwords\n",
    "from collections import Counter\n",
    "%matplotlib inline\n",
    "import warnings\n",
    "from sklearn.exceptions import DataConversionWarning\n",
    "warnings.filterwarnings(action='ignore', category=DataConversionWarning)"
   ]
  },
  {
   "cell_type": "code",
   "execution_count": 3,
   "metadata": {
    "scrolled": true
   },
   "outputs": [
    {
     "name": "stdout",
     "output_type": "stream",
     "text": [
      "Shape of Kickstarter data set: (215513, 3)\n"
     ]
    },
    {
     "data": {
      "text/html": [
       "<div>\n",
       "<style scoped>\n",
       "    .dataframe tbody tr th:only-of-type {\n",
       "        vertical-align: middle;\n",
       "    }\n",
       "\n",
       "    .dataframe tbody tr th {\n",
       "        vertical-align: top;\n",
       "    }\n",
       "\n",
       "    .dataframe thead th {\n",
       "        text-align: right;\n",
       "    }\n",
       "</style>\n",
       "<table border=\"1\" class=\"dataframe\">\n",
       "  <thead>\n",
       "    <tr style=\"text-align: right;\">\n",
       "      <th></th>\n",
       "      <th>id</th>\n",
       "      <th>blurb</th>\n",
       "      <th>state</th>\n",
       "    </tr>\n",
       "  </thead>\n",
       "  <tbody>\n",
       "    <tr>\n",
       "      <th>0</th>\n",
       "      <td>1</td>\n",
       "      <td>Using their own character, users go on educati...</td>\n",
       "      <td>failed</td>\n",
       "    </tr>\n",
       "    <tr>\n",
       "      <th>1</th>\n",
       "      <td>2</td>\n",
       "      <td>MicroFly is a quadcopter packed with WiFi, 6 s...</td>\n",
       "      <td>successful</td>\n",
       "    </tr>\n",
       "    <tr>\n",
       "      <th>2</th>\n",
       "      <td>3</td>\n",
       "      <td>A small indie press, run as a collective for a...</td>\n",
       "      <td>failed</td>\n",
       "    </tr>\n",
       "    <tr>\n",
       "      <th>3</th>\n",
       "      <td>4</td>\n",
       "      <td>Zylor is a new baby cosplayer! Back this kicks...</td>\n",
       "      <td>failed</td>\n",
       "    </tr>\n",
       "    <tr>\n",
       "      <th>4</th>\n",
       "      <td>5</td>\n",
       "      <td>Hatoful Boyfriend meet Skeletons! A comedy Dat...</td>\n",
       "      <td>failed</td>\n",
       "    </tr>\n",
       "    <tr>\n",
       "      <th>5</th>\n",
       "      <td>6</td>\n",
       "      <td>FastMan is a Infinite running platformer. Go i...</td>\n",
       "      <td>failed</td>\n",
       "    </tr>\n",
       "    <tr>\n",
       "      <th>6</th>\n",
       "      <td>7</td>\n",
       "      <td>FADE. A dark and somber RPG about survival and...</td>\n",
       "      <td>failed</td>\n",
       "    </tr>\n",
       "    <tr>\n",
       "      <th>7</th>\n",
       "      <td>8</td>\n",
       "      <td>The next generation of space combat with onlin...</td>\n",
       "      <td>failed</td>\n",
       "    </tr>\n",
       "    <tr>\n",
       "      <th>8</th>\n",
       "      <td>9</td>\n",
       "      <td>Whip around planets and smash your way to vict...</td>\n",
       "      <td>failed</td>\n",
       "    </tr>\n",
       "    <tr>\n",
       "      <th>9</th>\n",
       "      <td>10</td>\n",
       "      <td>Sneak in, find treasures, avoid cats and colle...</td>\n",
       "      <td>failed</td>\n",
       "    </tr>\n",
       "    <tr>\n",
       "      <th>10</th>\n",
       "      <td>11</td>\n",
       "      <td>A unique 3rd person, 3D, open world puzzle adv...</td>\n",
       "      <td>failed</td>\n",
       "    </tr>\n",
       "    <tr>\n",
       "      <th>11</th>\n",
       "      <td>12</td>\n",
       "      <td>Echo-S is a mod to be incorporated into the ga...</td>\n",
       "      <td>failed</td>\n",
       "    </tr>\n",
       "    <tr>\n",
       "      <th>12</th>\n",
       "      <td>13</td>\n",
       "      <td>Game development &amp; design made easy and fun. L...</td>\n",
       "      <td>failed</td>\n",
       "    </tr>\n",
       "    <tr>\n",
       "      <th>13</th>\n",
       "      <td>14</td>\n",
       "      <td>GangWars ARC is an action packed PvE addon to ...</td>\n",
       "      <td>failed</td>\n",
       "    </tr>\n",
       "    <tr>\n",
       "      <th>14</th>\n",
       "      <td>15</td>\n",
       "      <td>A team based first person shooter!</td>\n",
       "      <td>failed</td>\n",
       "    </tr>\n",
       "    <tr>\n",
       "      <th>15</th>\n",
       "      <td>16</td>\n",
       "      <td>Super Babies: World of Trouble, Inspired by my...</td>\n",
       "      <td>failed</td>\n",
       "    </tr>\n",
       "    <tr>\n",
       "      <th>16</th>\n",
       "      <td>17</td>\n",
       "      <td>Action RPG set in Scifi/fantasy world with hor...</td>\n",
       "      <td>failed</td>\n",
       "    </tr>\n",
       "    <tr>\n",
       "      <th>17</th>\n",
       "      <td>18</td>\n",
       "      <td>Plugged is a new breed of video game, \"look-an...</td>\n",
       "      <td>failed</td>\n",
       "    </tr>\n",
       "    <tr>\n",
       "      <th>18</th>\n",
       "      <td>19</td>\n",
       "      <td>Studly the Muffin must save the world from the...</td>\n",
       "      <td>failed</td>\n",
       "    </tr>\n",
       "    <tr>\n",
       "      <th>19</th>\n",
       "      <td>20</td>\n",
       "      <td>A new YouTube web show focused on classic vide...</td>\n",
       "      <td>failed</td>\n",
       "    </tr>\n",
       "    <tr>\n",
       "      <th>20</th>\n",
       "      <td>21</td>\n",
       "      <td>Experience rock climbing, fishing and hunting,...</td>\n",
       "      <td>failed</td>\n",
       "    </tr>\n",
       "    <tr>\n",
       "      <th>21</th>\n",
       "      <td>22</td>\n",
       "      <td>Astonia Reborn is a fantasy MMORPG with a char...</td>\n",
       "      <td>failed</td>\n",
       "    </tr>\n",
       "    <tr>\n",
       "      <th>22</th>\n",
       "      <td>23</td>\n",
       "      <td>An Boost for total Ooze-a-fication.</td>\n",
       "      <td>failed</td>\n",
       "    </tr>\n",
       "    <tr>\n",
       "      <th>23</th>\n",
       "      <td>24</td>\n",
       "      <td>A completely new Inherit the Earth game by the...</td>\n",
       "      <td>failed</td>\n",
       "    </tr>\n",
       "    <tr>\n",
       "      <th>24</th>\n",
       "      <td>25</td>\n",
       "      <td>We will convert your real mobile phone into yo...</td>\n",
       "      <td>failed</td>\n",
       "    </tr>\n",
       "    <tr>\n",
       "      <th>25</th>\n",
       "      <td>26</td>\n",
       "      <td>A deeply crafted platformer about a deep sea c...</td>\n",
       "      <td>failed</td>\n",
       "    </tr>\n",
       "    <tr>\n",
       "      <th>26</th>\n",
       "      <td>27</td>\n",
       "      <td>Radix is a 2D open-world puzzle platformer bas...</td>\n",
       "      <td>failed</td>\n",
       "    </tr>\n",
       "    <tr>\n",
       "      <th>27</th>\n",
       "      <td>28</td>\n",
       "      <td>To end a millennia of war, the planetary power...</td>\n",
       "      <td>failed</td>\n",
       "    </tr>\n",
       "    <tr>\n",
       "      <th>28</th>\n",
       "      <td>29</td>\n",
       "      <td>\"Division\" takes you back into the origin of S...</td>\n",
       "      <td>failed</td>\n",
       "    </tr>\n",
       "    <tr>\n",
       "      <th>29</th>\n",
       "      <td>30</td>\n",
       "      <td>Throw shit to enemies, jumping obstacles and l...</td>\n",
       "      <td>failed</td>\n",
       "    </tr>\n",
       "    <tr>\n",
       "      <th>30</th>\n",
       "      <td>31</td>\n",
       "      <td>SimWorldRPG is an evolving MMORPG (Massive Mul...</td>\n",
       "      <td>failed</td>\n",
       "    </tr>\n",
       "    <tr>\n",
       "      <th>31</th>\n",
       "      <td>32</td>\n",
       "      <td>A fun and fast way to learn about Native Ameri...</td>\n",
       "      <td>failed</td>\n",
       "    </tr>\n",
       "    <tr>\n",
       "      <th>32</th>\n",
       "      <td>33</td>\n",
       "      <td>My goal is to create a website that shows peop...</td>\n",
       "      <td>failed</td>\n",
       "    </tr>\n",
       "    <tr>\n",
       "      <th>33</th>\n",
       "      <td>34</td>\n",
       "      <td>The World of Gaming is changing quickly. I hav...</td>\n",
       "      <td>failed</td>\n",
       "    </tr>\n",
       "    <tr>\n",
       "      <th>34</th>\n",
       "      <td>35</td>\n",
       "      <td>Space Chronicles is a free-to-play MMORPG you ...</td>\n",
       "      <td>failed</td>\n",
       "    </tr>\n",
       "    <tr>\n",
       "      <th>35</th>\n",
       "      <td>36</td>\n",
       "      <td>A Fairy themed adventure game featuring limitl...</td>\n",
       "      <td>failed</td>\n",
       "    </tr>\n",
       "    <tr>\n",
       "      <th>36</th>\n",
       "      <td>37</td>\n",
       "      <td>A surreal point n' click adventure where you a...</td>\n",
       "      <td>failed</td>\n",
       "    </tr>\n",
       "    <tr>\n",
       "      <th>37</th>\n",
       "      <td>38</td>\n",
       "      <td>Use your head in FranknJohn, a head-swinging r...</td>\n",
       "      <td>failed</td>\n",
       "    </tr>\n",
       "    <tr>\n",
       "      <th>38</th>\n",
       "      <td>39</td>\n",
       "      <td>[JRPG] The start of an ambitious multi-faceted...</td>\n",
       "      <td>failed</td>\n",
       "    </tr>\n",
       "    <tr>\n",
       "      <th>39</th>\n",
       "      <td>40</td>\n",
       "      <td>This campaign is for Sky Midnight Games' game ...</td>\n",
       "      <td>failed</td>\n",
       "    </tr>\n",
       "    <tr>\n",
       "      <th>40</th>\n",
       "      <td>41</td>\n",
       "      <td>In The Blind is a 2.5D Adventure,Survival Horr...</td>\n",
       "      <td>failed</td>\n",
       "    </tr>\n",
       "    <tr>\n",
       "      <th>41</th>\n",
       "      <td>42</td>\n",
       "      <td>With our revolutionary Early Access system, we...</td>\n",
       "      <td>failed</td>\n",
       "    </tr>\n",
       "    <tr>\n",
       "      <th>42</th>\n",
       "      <td>43</td>\n",
       "      <td>New Frontier is a minion based game where you ...</td>\n",
       "      <td>failed</td>\n",
       "    </tr>\n",
       "    <tr>\n",
       "      <th>43</th>\n",
       "      <td>44</td>\n",
       "      <td>An action-packed platforming adventure game th...</td>\n",
       "      <td>failed</td>\n",
       "    </tr>\n",
       "    <tr>\n",
       "      <th>44</th>\n",
       "      <td>45</td>\n",
       "      <td>HELP LAUNCH CONQUEST IQ version 2 \\nBE PART OF...</td>\n",
       "      <td>failed</td>\n",
       "    </tr>\n",
       "    <tr>\n",
       "      <th>45</th>\n",
       "      <td>46</td>\n",
       "      <td>BodyFrog is the most similar to a Frog that tr...</td>\n",
       "      <td>failed</td>\n",
       "    </tr>\n",
       "    <tr>\n",
       "      <th>46</th>\n",
       "      <td>47</td>\n",
       "      <td>Guide the lost soul, Alma, through the 8 level...</td>\n",
       "      <td>failed</td>\n",
       "    </tr>\n",
       "    <tr>\n",
       "      <th>47</th>\n",
       "      <td>48</td>\n",
       "      <td>An otome style EXO fangame inspired by their f...</td>\n",
       "      <td>failed</td>\n",
       "    </tr>\n",
       "    <tr>\n",
       "      <th>48</th>\n",
       "      <td>49</td>\n",
       "      <td>An unbelievable Hourse Racing fantasy simulator.</td>\n",
       "      <td>failed</td>\n",
       "    </tr>\n",
       "    <tr>\n",
       "      <th>49</th>\n",
       "      <td>50</td>\n",
       "      <td>Virtual Reality game development for everyone....</td>\n",
       "      <td>failed</td>\n",
       "    </tr>\n",
       "  </tbody>\n",
       "</table>\n",
       "</div>"
      ],
      "text/plain": [
       "    id                                              blurb       state\n",
       "0    1  Using their own character, users go on educati...      failed\n",
       "1    2  MicroFly is a quadcopter packed with WiFi, 6 s...  successful\n",
       "2    3  A small indie press, run as a collective for a...      failed\n",
       "3    4  Zylor is a new baby cosplayer! Back this kicks...      failed\n",
       "4    5  Hatoful Boyfriend meet Skeletons! A comedy Dat...      failed\n",
       "5    6  FastMan is a Infinite running platformer. Go i...      failed\n",
       "6    7  FADE. A dark and somber RPG about survival and...      failed\n",
       "7    8  The next generation of space combat with onlin...      failed\n",
       "8    9  Whip around planets and smash your way to vict...      failed\n",
       "9   10  Sneak in, find treasures, avoid cats and colle...      failed\n",
       "10  11  A unique 3rd person, 3D, open world puzzle adv...      failed\n",
       "11  12  Echo-S is a mod to be incorporated into the ga...      failed\n",
       "12  13  Game development & design made easy and fun. L...      failed\n",
       "13  14  GangWars ARC is an action packed PvE addon to ...      failed\n",
       "14  15                 A team based first person shooter!      failed\n",
       "15  16  Super Babies: World of Trouble, Inspired by my...      failed\n",
       "16  17  Action RPG set in Scifi/fantasy world with hor...      failed\n",
       "17  18  Plugged is a new breed of video game, \"look-an...      failed\n",
       "18  19  Studly the Muffin must save the world from the...      failed\n",
       "19  20  A new YouTube web show focused on classic vide...      failed\n",
       "20  21  Experience rock climbing, fishing and hunting,...      failed\n",
       "21  22  Astonia Reborn is a fantasy MMORPG with a char...      failed\n",
       "22  23                An Boost for total Ooze-a-fication.      failed\n",
       "23  24  A completely new Inherit the Earth game by the...      failed\n",
       "24  25  We will convert your real mobile phone into yo...      failed\n",
       "25  26  A deeply crafted platformer about a deep sea c...      failed\n",
       "26  27  Radix is a 2D open-world puzzle platformer bas...      failed\n",
       "27  28  To end a millennia of war, the planetary power...      failed\n",
       "28  29  \"Division\" takes you back into the origin of S...      failed\n",
       "29  30  Throw shit to enemies, jumping obstacles and l...      failed\n",
       "30  31  SimWorldRPG is an evolving MMORPG (Massive Mul...      failed\n",
       "31  32  A fun and fast way to learn about Native Ameri...      failed\n",
       "32  33  My goal is to create a website that shows peop...      failed\n",
       "33  34  The World of Gaming is changing quickly. I hav...      failed\n",
       "34  35  Space Chronicles is a free-to-play MMORPG you ...      failed\n",
       "35  36  A Fairy themed adventure game featuring limitl...      failed\n",
       "36  37  A surreal point n' click adventure where you a...      failed\n",
       "37  38  Use your head in FranknJohn, a head-swinging r...      failed\n",
       "38  39  [JRPG] The start of an ambitious multi-faceted...      failed\n",
       "39  40  This campaign is for Sky Midnight Games' game ...      failed\n",
       "40  41  In The Blind is a 2.5D Adventure,Survival Horr...      failed\n",
       "41  42  With our revolutionary Early Access system, we...      failed\n",
       "42  43  New Frontier is a minion based game where you ...      failed\n",
       "43  44  An action-packed platforming adventure game th...      failed\n",
       "44  45  HELP LAUNCH CONQUEST IQ version 2 \\nBE PART OF...      failed\n",
       "45  46  BodyFrog is the most similar to a Frog that tr...      failed\n",
       "46  47  Guide the lost soul, Alma, through the 8 level...      failed\n",
       "47  48  An otome style EXO fangame inspired by their f...      failed\n",
       "48  49   An unbelievable Hourse Racing fantasy simulator.      failed\n",
       "49  50  Virtual Reality game development for everyone....      failed"
      ]
     },
     "execution_count": 3,
     "metadata": {},
     "output_type": "execute_result"
    }
   ],
   "source": [
    "#importing kickstarter data\n",
    "kickstarter = pd.read_csv('/Users/salilketkar/thinkful/DS_Unit4/Unit 4 Capstone/df_text_eng.csv')\n",
    "kickstarter.columns = ['id','blurb','state']\n",
    "print('Shape of Kickstarter data set:',kickstarter.shape)\n",
    "kickstarter.head(n=50)\n"
   ]
  },
  {
   "cell_type": "code",
   "execution_count": 4,
   "metadata": {},
   "outputs": [],
   "source": [
    "#creating binary column out of 'state'\n",
    "kickstarter['pass'] = np.where(kickstarter['state'] == 'successful',1,0)"
   ]
  },
  {
   "cell_type": "markdown",
   "metadata": {},
   "source": [
    "This is a binary classification problem so the 'state' column was converted to binary."
   ]
  },
  {
   "cell_type": "code",
   "execution_count": 5,
   "metadata": {},
   "outputs": [
    {
     "data": {
      "text/plain": [
       "id       False\n",
       "blurb    False\n",
       "state    False\n",
       "pass     False\n",
       "dtype: bool"
      ]
     },
     "execution_count": 5,
     "metadata": {},
     "output_type": "execute_result"
    }
   ],
   "source": [
    "#checking null values\n",
    "kickstarter.dropna(inplace=True)\n",
    "kickstarter.isnull().any()\n"
   ]
  },
  {
   "cell_type": "markdown",
   "metadata": {},
   "source": [
    "As part of the data cleaning process, it is important to make sure there are no null values. In this case there were, so they were removed. "
   ]
  },
  {
   "cell_type": "code",
   "execution_count": 6,
   "metadata": {},
   "outputs": [],
   "source": [
    "#converting everything to lower-case\n",
    "kickstarter['blurb'] = kickstarter['blurb'].apply(str.lower)\n",
    "\n",
    "#cleaning blurbs \n",
    "kickstarter['blurb'] = kickstarter['blurb'].apply(lambda x: re.sub('\\d+', ' ', x))\n",
    "kickstarter['blurb'] = kickstarter['blurb'].apply(lambda x: x.replace('\\n',''))\n",
    "kickstarter['blurb'] = kickstarter['blurb'].apply(lambda x: x.strip('_'))"
   ]
  },
  {
   "cell_type": "markdown",
   "metadata": {},
   "source": [
    "I converted all descriptions to lowercase and removed underscores and \\n.  "
   ]
  },
  {
   "cell_type": "code",
   "execution_count": 7,
   "metadata": {},
   "outputs": [
    {
     "name": "stdout",
     "output_type": "stream",
     "text": [
      "The two unique states are: ['failed' 'successful']\n",
      "(215510, 4)\n"
     ]
    },
    {
     "data": {
      "text/plain": [
       "successful    108310\n",
       "failed        107200\n",
       "Name: state, dtype: int64"
      ]
     },
     "execution_count": 7,
     "metadata": {},
     "output_type": "execute_result"
    }
   ],
   "source": [
    "#checking class balance \n",
    "print('The two unique states are:',np.unique(kickstarter['state']))\n",
    "print(kickstarter.shape)\n",
    "pd.value_counts(kickstarter.state)"
   ]
  },
  {
   "cell_type": "markdown",
   "metadata": {},
   "source": [
    "The classes are pretty close to being balanced given the size of this dataset. "
   ]
  },
  {
   "cell_type": "code",
   "execution_count": 8,
   "metadata": {},
   "outputs": [],
   "source": [
    "pass_sample = kickstarter.loc[kickstarter['pass'] == 1].sample(n=30000)\n",
    "fail_sample = kickstarter.loc[kickstarter['pass'] == 0].sample(n=30000)\n",
    "df_sample = pass_sample.append(fail_sample)\n",
    "df_sample.reset_index(drop=True,inplace=True)"
   ]
  },
  {
   "cell_type": "markdown",
   "metadata": {},
   "source": [
    "It was necessary to sample a percent of the data set so run times would not be too long. "
   ]
  },
  {
   "cell_type": "code",
   "execution_count": 9,
   "metadata": {},
   "outputs": [],
   "source": [
    "from sklearn.feature_extraction.text import CountVectorizer\n",
    "\n",
    "corpus = []\n",
    "for blurb in df_sample['blurb']:\n",
    "    corpus.append(blurb)\n",
    "    \n",
    "vectorizer = CountVectorizer(lowercase=True,stop_words='english',strip_accents='ascii',min_df=5)\n",
    "X_bow = vectorizer.fit_transform(corpus)\n",
    "feat_names = vectorizer.get_feature_names()"
   ]
  },
  {
   "cell_type": "markdown",
   "metadata": {},
   "source": [
    "The bag of words method was executed using CountVectorizer.  Given the large size of this data set, the minimum count for features was at least 5.  All words were turned into lowercase.  Stop words were excluded and accent marks were removed."
   ]
  },
  {
   "cell_type": "code",
   "execution_count": 10,
   "metadata": {},
   "outputs": [],
   "source": [
    "#creating bag of words data frame\n",
    "df_bow = pd.DataFrame(data=X_bow.toarray(), columns=feat_names)\n",
    "df_bow['pass'] = df_sample['pass']\n",
    "df_bow['blurb'] = df_sample['blurb']\n",
    "\n",
    "#creating features and target for feature selection/engineering and future modeling\n",
    "X_bow = df_bow.drop(['pass','blurb'],axis=1)\n",
    "Y_bow = df_bow[['pass']]"
   ]
  },
  {
   "cell_type": "code",
   "execution_count": 11,
   "metadata": {},
   "outputs": [
    {
     "name": "stdout",
     "output_type": "stream",
     "text": [
      "0.2870041407546874\n"
     ]
    }
   ],
   "source": [
    "#PCA\n",
    "from sklearn.decomposition import PCA\n",
    "pca = PCA(n_components=150)\n",
    "pca_bow = pca.fit_transform(X_bow)\n",
    "print(np.sum(pca.explained_variance_ratio_))"
   ]
  },
  {
   "cell_type": "markdown",
   "metadata": {},
   "source": [
    "PCA was not too successful.  Even with 500 components the explained variance is quite low.  Another method for dimension reduction is singular value decomposition."
   ]
  },
  {
   "cell_type": "code",
   "execution_count": 12,
   "metadata": {},
   "outputs": [
    {
     "name": "stdout",
     "output_type": "stream",
     "text": [
      "0.2857655711189164\n"
     ]
    }
   ],
   "source": [
    "from sklearn.decomposition import TruncatedSVD\n",
    "from sklearn.pipeline import make_pipeline\n",
    "\n",
    "svd = TruncatedSVD(150)\n",
    "svd_bow= svd.fit_transform(X_bow)\n",
    "print(np.sum(svd.explained_variance_ratio_))"
   ]
  },
  {
   "cell_type": "markdown",
   "metadata": {},
   "source": [
    "Since PCA was not very effective, I turned to truncated singular value decomposition.  This did not have favorable results either. The idea is to reduce the dimensions of this data set so it is more suitable for modeling."
   ]
  },
  {
   "cell_type": "code",
   "execution_count": 13,
   "metadata": {},
   "outputs": [],
   "source": [
    "#tfidf\n",
    "\n",
    "from sklearn.feature_extraction.text import TfidfVectorizer\n",
    "\n",
    "vectorizer = TfidfVectorizer(\n",
    "                             min_df=4, # only use words that appear at least five times\n",
    "                             stop_words='english', \n",
    "                             lowercase=True, #convert everything to lower case \n",
    "                             use_idf=True,#we definitely want to use inverse document frequencies in our weighting\n",
    "                             norm=u'l2', #Applies a correction factor so that longer paragraphs and shorter paragraphs get treated equally\n",
    "                             smooth_idf=True #Adds 1 to all document frequencies, as if an extra document existed that used every word once.  Prevents divide-by-zero errors\n",
    "                            )\n",
    "tfidf = vectorizer.fit_transform(corpus)\n",
    "tfidf_feat_names = vectorizer.get_feature_names()"
   ]
  },
  {
   "cell_type": "code",
   "execution_count": 14,
   "metadata": {},
   "outputs": [],
   "source": [
    "#creating tfidf data frame\n",
    "df_tfidf = pd.DataFrame(data=tfidf.toarray(), columns=tfidf_feat_names)\n",
    "df_tfidf['pass'] = df_sample['pass']\n",
    "df_tfidf['blurb'] = df_sample['blurb']\n",
    "\n",
    "#creating features and target for feature selection/engineering and future modeling\n",
    "X_tfidf = df_bow.drop(['pass','blurb'],axis=1)\n",
    "Y_tfidf = df_bow[['pass']]"
   ]
  },
  {
   "cell_type": "markdown",
   "metadata": {},
   "source": [
    "I used TfidfVectorizer from sklearn to get features and their corresponding tfidf values.  A dataframe was created with features and tfidf values.  From there, an X and Y dataframe was created for modeling purposes."
   ]
  },
  {
   "cell_type": "code",
   "execution_count": 15,
   "metadata": {},
   "outputs": [
    {
     "name": "stdout",
     "output_type": "stream",
     "text": [
      "0.2869417345340343\n"
     ]
    }
   ],
   "source": [
    "#pca \n",
    "tfidf = PCA(n_components=150)\n",
    "pca_tfidf = tfidf.fit_transform(X_tfidf)\n",
    "print(np.sum(tfidf.explained_variance_ratio_))"
   ]
  },
  {
   "cell_type": "code",
   "execution_count": 16,
   "metadata": {},
   "outputs": [
    {
     "name": "stdout",
     "output_type": "stream",
     "text": [
      "0.28565978407809217\n"
     ]
    }
   ],
   "source": [
    "svd1 = TruncatedSVD(150)\n",
    "svd_tfidf= svd1.fit_transform(X_bow)\n",
    "print(np.sum(svd1.explained_variance_ratio_))"
   ]
  },
  {
   "cell_type": "markdown",
   "metadata": {},
   "source": [
    "I tried PCA and TruncatedSVD to reduce the dimensions of the data set.  Both returned similar explained variance values."
   ]
  },
  {
   "cell_type": "code",
   "execution_count": 17,
   "metadata": {},
   "outputs": [],
   "source": [
    "from sklearn.model_selection import train_test_split\n",
    "\n",
    "X_train_bow_pca, X_test_bow_pca, y_train_bow_pca, y_test_bow_pca = train_test_split(pca_bow, Y_bow, test_size=0.2)\n",
    "X_train_tfidf_svd, X_test_tfidf_svd, y_train_tfidf_svd, y_test_tfidf_svd = train_test_split(svd_tfidf, Y_bow, test_size=0.2)"
   ]
  },
  {
   "cell_type": "markdown",
   "metadata": {},
   "source": [
    "For this challenge, I chose to use PCA values from the bag of words method and truncated SVD values from the tfidf method.  The data was split into train and test sets and will be used below on various types of models. "
   ]
  },
  {
   "cell_type": "code",
   "execution_count": 18,
   "metadata": {},
   "outputs": [
    {
     "name": "stderr",
     "output_type": "stream",
     "text": [
      "/anaconda3/lib/python3.6/site-packages/sklearn/ensemble/weight_boosting.py:29: DeprecationWarning: numpy.core.umath_tests is an internal NumPy module and should not be imported. It will be removed in a future NumPy release.\n",
      "  from numpy.core.umath_tests import inner1d\n"
     ]
    },
    {
     "data": {
      "image/png": "[encoded data removed]",
      "text/plain": [
       "<Figure size 720x504 with 1 Axes>"
      ]
     },
     "metadata": {},
     "output_type": "display_data"
    }
   ],
   "source": [
    "from sklearn.ensemble import RandomForestClassifier\n",
    "from sklearn.model_selection import cross_val_score\n",
    "\n",
    "rf_bow_pca_cv = []\n",
    "for max_feat in [5,10,15,20,25]:\n",
    "    rfc_bow_pca = RandomForestClassifier(max_features = max_feat, n_estimators=100, min_samples_split=2)\n",
    "    rfc_bow_pca.fit(X_train_bow_pca, y_train_bow_pca)\n",
    "    rf_bow_pca_cv.append(np.mean(cross_val_score(rfc_bow_pca, X_train_bow_pca, y_train_bow_pca, cv=5)))\n",
    "\n",
    "plt.figure(figsize=(10,7))\n",
    "plt.scatter([5,10,15,20,25], rf_bow_pca_cv)\n",
    "plt.xlabel('Max features')\n",
    "plt.ylabel('Mean of cross validation scores')\n",
    "plt.title('Cross Validation Mean Scores for Different Max Features Values')\n",
    "plt.show()"
   ]
  },
  {
   "cell_type": "markdown",
   "metadata": {},
   "source": [
    "I began with max_featues as the first parameter to optimize.  The plot shows the mean cross validation scores for each iteration of Random Forest using a different max_features value. "
   ]
  },
  {
   "cell_type": "code",
   "execution_count": 19,
   "metadata": {},
   "outputs": [
    {
     "data": {
      "image/png": "[encoded data removed]",
      "text/plain": [
       "<Figure size 720x504 with 1 Axes>"
      ]
     },
     "metadata": {},
     "output_type": "display_data"
    }
   ],
   "source": [
    "rf_bow_pca_cv_md = []\n",
    "for md in [5,10,15,20,25]:\n",
    "    rfc_bow_pca = RandomForestClassifier(max_features = 20, n_estimators=100, min_samples_split=2,max_depth=md)\n",
    "    rfc_bow_pca.fit(X_train_bow_pca, y_train_bow_pca)\n",
    "    rf_bow_pca_cv_md.append(np.mean(cross_val_score(rfc_bow_pca, X_train_bow_pca, y_train_bow_pca, cv=5)))\n",
    "\n",
    "sns.set_style('darkgrid')\n",
    "plt.figure(figsize=(10,7))\n",
    "plt.scatter([5,10,15,20,25], rf_bow_pca_cv_md)\n",
    "plt.xlabel('Max depth')\n",
    "plt.ylabel('Mean of cross validation scores')\n",
    "plt.title('Cross Validation Mean Scores for Different Max Depth Values')\n",
    "plt.show()"
   ]
  },
  {
   "cell_type": "markdown",
   "metadata": {},
   "source": [
    "Next, I optimized the max_depth parameter.  In an effort to save time, I only ran it on a small list of integers.  If I had more time, I would try GridSearchCV since that allows for a more expansive opimization. "
   ]
  },
  {
   "cell_type": "code",
   "execution_count": 20,
   "metadata": {},
   "outputs": [
    {
     "name": "stdout",
     "output_type": "stream",
     "text": [
      "Test scores using tuned RF classifier: 0.6074166666666667\n"
     ]
    }
   ],
   "source": [
    "rfc_bow_pca_test = RandomForestClassifier(max_features = 20, n_estimators=100, min_samples_split=2,max_depth=15)\n",
    "rfc_bow_pca_test.fit(X_train_bow_pca, y_train_bow_pca)\n",
    "print('Test scores using tuned RF classifier:',rfc_bow_pca_test.score(X_test_bow_pca, y_test_bow_pca))"
   ]
  },
  {
   "cell_type": "markdown",
   "metadata": {},
   "source": [
    "After tuning a few of the parameters, I ran the model on my hold out test set."
   ]
  },
  {
   "cell_type": "code",
   "execution_count": 21,
   "metadata": {},
   "outputs": [
    {
     "data": {
      "image/png": "[encoded data removed]",
      "text/plain": [
       "<Figure size 720x504 with 1 Axes>"
      ]
     },
     "metadata": {},
     "output_type": "display_data"
    }
   ],
   "source": [
    "rfc_tfidf_svd_cv = []\n",
    "for max_feat in [5,10,15,20,25]:\n",
    "    rfc_tfidf_svd = RandomForestClassifier(max_features = max_feat, n_estimators=100, min_samples_split=2,max_depth=15)\n",
    "    rfc_tfidf_svd.fit(X_train_tfidf_svd, y_train_tfidf_svd)\n",
    "    rfc_tfidf_svd_cv.append(np.mean(cross_val_score(rfc_tfidf_svd, X_train_tfidf_svd, y_train_tfidf_svd, cv=5)))\n",
    "\n",
    "plt.figure(figsize=(10,7))\n",
    "plt.scatter([5,10,15,20,25], rfc_tfidf_svd_cv)\n",
    "plt.xlabel('Max features')\n",
    "plt.ylabel('Mean of cross validation scores')\n",
    "plt.title('Cross Validation Mean Scores for Different Max Features Values')\n",
    "plt.show()"
   ]
  },
  {
   "cell_type": "markdown",
   "metadata": {},
   "source": [
    "Similar to above, I tuned the max features parameter using featuers created by tfidf.  I used the best max features value from the plot above and used it while I was tuning the max depth parameter below."
   ]
  },
  {
   "cell_type": "code",
   "execution_count": 22,
   "metadata": {},
   "outputs": [
    {
     "data": {
      "image/png": "[encoded data removed]",
      "text/plain": [
       "<Figure size 720x504 with 1 Axes>"
      ]
     },
     "metadata": {},
     "output_type": "display_data"
    }
   ],
   "source": [
    "rfc_tfidf_svd_md = []\n",
    "for md in [5,10,15,20,25]:\n",
    "    rfc_tfidf_svd = RandomForestClassifier(max_features = 20, n_estimators=100, min_samples_split=2,max_depth=md)\n",
    "    rfc_tfidf_svd.fit(X_train_tfidf_svd, y_train_tfidf_svd)\n",
    "    rfc_tfidf_svd_md.append(np.mean(cross_val_score(rfc_tfidf_svd, X_train_tfidf_svd, y_train_tfidf_svd, cv=5)))\n",
    "\n",
    "plt.figure(figsize=(10,7))\n",
    "plt.scatter([5,10,15,20,25], rfc_tfidf_svd_md)\n",
    "plt.xlabel('Max features')\n",
    "plt.ylabel('Mean of cross validation scores')\n",
    "plt.title('Cross Validation Mean Scores for Different Max Features Values')\n",
    "plt.show()"
   ]
  },
  {
   "cell_type": "code",
   "execution_count": 23,
   "metadata": {},
   "outputs": [
    {
     "name": "stdout",
     "output_type": "stream",
     "text": [
      "Test scores using tuned RF classifier: 0.621\n"
     ]
    }
   ],
   "source": [
    "rfc_tfidf_svd_test = RandomForestClassifier(max_features = 20, n_estimators=100, min_samples_split=2,max_depth=15)\n",
    "rfc_tfidf_svd_test.fit(X_train_tfidf_svd, y_train_tfidf_svd)\n",
    "print('Test scores using tuned RF classifier:',rfc_tfidf_svd_test.score(X_test_tfidf_svd, y_test_tfidf_svd))"
   ]
  },
  {
   "cell_type": "markdown",
   "metadata": {},
   "source": [
    "I ran the Random Forest Classifier on my hold out data set using the two parameters I tuned above. "
   ]
  },
  {
   "cell_type": "code",
   "execution_count": 59,
   "metadata": {},
   "outputs": [
    {
     "name": "stdout",
     "output_type": "stream",
     "text": [
      "tfidf svd confusion matrix:\n",
      " [[3805 2228]\n",
      " [2320 3647]]\n",
      "bow pca confusion matrix:\n",
      " [[3670 2295]\n",
      " [2416 3619]]\n"
     ]
    }
   ],
   "source": [
    "from sklearn.metrics import confusion_matrix\n",
    "\n",
    "#svd_tfidf confusion matrix\n",
    "print('tfidf svd confusion matrix:\\n',confusion_matrix(y_test_tfidf_svd, rfc_tfidf_svd_test.predict(X_test_tfidf_svd)))\n",
    "#svd bow confusion matrix\n",
    "print('bow pca confusion matrix:\\n',confusion_matrix(y_test_bow_pca, rfc_bow_pca_test.predict(X_test_bow_pca)))"
   ]
  },
  {
   "cell_type": "markdown",
   "metadata": {},
   "source": [
    "In addition to cross validation, I used confusion matrix as an error metric.  The tfidf svd dataset has a higher number of true positives and true negatives. "
   ]
  }
 ],
 "metadata": {
  "kernelspec": {
   "display_name": "Python 3",
   "language": "python",
   "name": "python3"
  },
  "language_info": {
   "codemirror_mode": {
    "name": "ipython",
    "version": 3
   },
   "file_extension": ".py",
   "mimetype": "text/x-python",
   "name": "python",
   "nbconvert_exporter": "python",
   "pygments_lexer": "ipython3",
   "version": "3.6.5"
  }
 },
 "nbformat": 4,
 "nbformat_minor": 2
}
