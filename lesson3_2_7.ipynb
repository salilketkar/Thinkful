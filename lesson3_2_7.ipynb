{
 "cells": [
  {
   "cell_type": "markdown",
   "metadata": {},
   "source": [
    "Question 1:\n",
    "\n",
    "This data set will only contain day from one specific day and it happens to be a holiday so numbers may be skewed.  Also there are many other sources that data should come from since AirBnb is not the sole way to make accommdation bookings. Rephrase the question to ask what are the most popular neighbhorhoods around major holidays.\n",
    "\n",
    "Question 2:\n",
    "\n",
    "This data set will contain data taken after a catastrophic event happpen in New York City.  It is hard to compare these number with another city on the otherside of the country and make a statement about mental health services use.  The question could ask how mental health services use varies after traumatic events occur in major cities around the country.\n",
    "\n",
    "Question 3:\n",
    "\n",
    "The overwhelming majority of people interviewed are in their early to mid 20s.  This excludes a significant portion of the population who also visits pubs.  "
   ]
  }
 ],
 "metadata": {
  "kernelspec": {
   "display_name": "Python 3",
   "language": "python",
   "name": "python3"
  },
  "language_info": {
   "codemirror_mode": {
    "name": "ipython",
    "version": 3
   },
   "file_extension": ".py",
   "mimetype": "text/x-python",
   "name": "python",
   "nbconvert_exporter": "python",
   "pygments_lexer": "ipython3",
   "version": "3.7.0"
  }
 },
 "nbformat": 4,
 "nbformat_minor": 2
}
