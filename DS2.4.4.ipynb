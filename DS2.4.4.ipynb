{
 "cells": [
  {
   "cell_type": "code",
   "execution_count": 1,
   "metadata": {},
   "outputs": [],
   "source": [
    "import pandas as pd\n",
    "import matplotlib.pyplot as plt\n",
    "import numpy as np\n",
    "from sklearn import linear_model\n",
    "from IPython.display import display\n",
    "import seaborn as sns\n",
    "%matplotlib inline\n",
    "#pd.options.display.float_format = '{.3}'.format\n",
    "\n",
    "import warnings\n",
    "warnings.filterwarnings(action='ignore',module='scipy',message='^internal gelsd')"
   ]
  },
  {
   "cell_type": "code",
   "execution_count": 2,
   "metadata": {},
   "outputs": [],
   "source": [
    "crime = pd.read_csv('https://raw.githubusercontent.com/Thinkful-Ed/data-201-resources/master/New_York_offenses/NEW_YORK-Offenses_Known_to_Law_Enforcement_by_City_2013%20-%2013tbl8ny.csv',header=None)\n",
    "crime.columns = ['city','population','violent_crime','murder_manslaughter','rape1','rape2','robbery','agg_assault','property_crime','burglary','larceny','motor_theft','arson']\n"
   ]
  },
  {
   "cell_type": "code",
   "execution_count": 3,
   "metadata": {},
   "outputs": [],
   "source": [
    "# data cleaning\n",
    "\n",
    "crime.drop(crime.index[[0,1,2,3,4,353,354,355]],inplace=True)\n",
    "crime = crime.drop(['rape1'],axis=1)\n",
    "crime = crime.reset_index(drop=True)"
   ]
  },
  {
   "cell_type": "code",
   "execution_count": 171,
   "metadata": {},
   "outputs": [],
   "source": [
    "crime['arson'] = crime['arson'].fillna(0)\n",
    "\n",
    "crime['population'] = crime['population'].apply(lambda x: str(x).replace(',',''))\n",
    "\n",
    "crime['motor_theft'] = crime['motor_theft'].apply(lambda x: str(x).replace(',',''))\n",
    "crime['robbery'] = crime['robbery'].apply(lambda x: str(x).replace(',',''))\n",
    "crime['burglary'] = crime['burglary'].apply(lambda x: str(x).replace(',',''))\n",
    "crime['property_crime'] = crime['property_crime'].apply(lambda x: str(x).replace(',',''))\n",
    "crime['larceny'] = crime['larceny'].apply(lambda x: str(x).replace(',',''))\n",
    "crime['violent_crime'] = crime['violent_crime'].apply(lambda x: str(x).replace(',',''))\n",
    "\n",
    "crime['larcenysqrt'] = crime['larceny'].apply(lambda x: (int(x) ** (1/2)))\n",
    "crime['populationlog'] = crime['population'].apply(lambda x: np.log(int(x)))\n",
    "crime = crime[crime['city'] != 'New York']"
   ]
  },
  {
   "cell_type": "code",
   "execution_count": 178,
   "metadata": {},
   "outputs": [],
   "source": [
    "crime[['populationlog','burglary','larcenysqrt']]=crime[['populationlog','burglary','larcenysqrt']].apply(pd.to_numeric)\n",
    "\n"
   ]
  },
  {
   "cell_type": "code",
   "execution_count": 179,
   "metadata": {},
   "outputs": [
    {
     "name": "stdout",
     "output_type": "stream",
     "text": [
      "Coefficients: \n",
      " [[-61.18234231  31.91729024   2.88878665]]\n",
      "Intercept: \n",
      " [311.26194393]\n",
      "R-squared: 0.9879446435157911\n"
     ]
    }
   ],
   "source": [
    "x = crime[['populationlog','larcenysqrt','burglary']]\n",
    "y = crime[['property_crime']]\n",
    "          \n",
    "regr = linear_model.LinearRegression()\n",
    "\n",
    "regr.fit(x,y)\n",
    "\n",
    "print('Coefficients: \\n', regr.coef_)\n",
    "print('Intercept: \\n', regr.intercept_)\n",
    "print('R-squared:',regr.score(x, y))"
   ]
  },
  {
   "cell_type": "code",
   "execution_count": 180,
   "metadata": {},
   "outputs": [],
   "source": [
    "#predicting y values\n",
    "y_pred = regr.predict(x).ravel()"
   ]
  },
  {
   "cell_type": "code",
   "execution_count": 181,
   "metadata": {},
   "outputs": [
    {
     "data": {
      "image/png": "[encoded data removed]",
      "text/plain": [
       "<Figure size 432x288 with 1 Axes>"
      ]
     },
     "metadata": {},
     "output_type": "display_data"
    }
   ],
   "source": [
    "##multivariate normality\n",
    "actual = crime['property_crime']\n",
    "\n",
    "residual = actual.astype(float) - y_pred.astype(float)\n",
    "\n",
    "plt.hist(residual,bins=10)\n",
    "plt.title('Residual counts')\n",
    "plt.show()"
   ]
  },
  {
   "cell_type": "code",
   "execution_count": 182,
   "metadata": {},
   "outputs": [
    {
     "data": {
      "image/png": "[encoded data removed]",
      "text/plain": [
       "<Figure size 432x288 with 1 Axes>"
      ]
     },
     "metadata": {},
     "output_type": "display_data"
    }
   ],
   "source": [
    "# homoscedasticity\n",
    "\n",
    "plt.scatter(y_pred, residual)\n",
    "plt.xlabel('Predicted')\n",
    "plt.ylabel('Residual')\n",
    "plt.axhline(y=0)\n",
    "plt.show()"
   ]
  },
  {
   "cell_type": "code",
   "execution_count": 183,
   "metadata": {},
   "outputs": [
    {
     "data": {
      "text/html": [
       "<div>\n",
       "<style scoped>\n",
       "    .dataframe tbody tr th:only-of-type {\n",
       "        vertical-align: middle;\n",
       "    }\n",
       "\n",
       "    .dataframe tbody tr th {\n",
       "        vertical-align: top;\n",
       "    }\n",
       "\n",
       "    .dataframe thead th {\n",
       "        text-align: right;\n",
       "    }\n",
       "</style>\n",
       "<table border=\"1\" class=\"dataframe\">\n",
       "  <thead>\n",
       "    <tr style=\"text-align: right;\">\n",
       "      <th></th>\n",
       "      <th>populationlog</th>\n",
       "      <th>larcenysqrt</th>\n",
       "      <th>burglary</th>\n",
       "    </tr>\n",
       "  </thead>\n",
       "  <tbody>\n",
       "    <tr>\n",
       "      <th>populationlog</th>\n",
       "      <td>1.000000</td>\n",
       "      <td>0.813366</td>\n",
       "      <td>0.448578</td>\n",
       "    </tr>\n",
       "    <tr>\n",
       "      <th>larcenysqrt</th>\n",
       "      <td>0.813366</td>\n",
       "      <td>1.000000</td>\n",
       "      <td>0.756137</td>\n",
       "    </tr>\n",
       "    <tr>\n",
       "      <th>burglary</th>\n",
       "      <td>0.448578</td>\n",
       "      <td>0.756137</td>\n",
       "      <td>1.000000</td>\n",
       "    </tr>\n",
       "  </tbody>\n",
       "</table>\n",
       "</div>"
      ],
      "text/plain": [
       "               populationlog  larcenysqrt  burglary\n",
       "populationlog       1.000000     0.813366  0.448578\n",
       "larcenysqrt         0.813366     1.000000  0.756137\n",
       "burglary            0.448578     0.756137  1.000000"
      ]
     },
     "metadata": {},
     "output_type": "display_data"
    }
   ],
   "source": [
    "correlation_matrix = x.corr()\n",
    "display(correlation_matrix)"
   ]
  },
  {
   "cell_type": "code",
   "execution_count": null,
   "metadata": {},
   "outputs": [],
   "source": []
  }
 ],
 "metadata": {
  "kernelspec": {
   "display_name": "Python 3",
   "language": "python",
   "name": "python3"
  },
  "language_info": {
   "codemirror_mode": {
    "name": "ipython",
    "version": 3
   },
   "file_extension": ".py",
   "mimetype": "text/x-python",
   "name": "python",
   "nbconvert_exporter": "python",
   "pygments_lexer": "ipython3",
   "version": "3.6.5"
  }
 },
 "nbformat": 4,
 "nbformat_minor": 2
}
